{
 "metadata": {
  "language_info": {
   "codemirror_mode": {
    "name": "ipython",
    "version": 3
   },
   "file_extension": ".py",
   "mimetype": "text/x-python",
   "name": "python",
   "nbconvert_exporter": "python",
   "pygments_lexer": "ipython3",
   "version": "3.8.5-final"
  },
  "orig_nbformat": 2,
  "kernelspec": {
   "name": "python3",
   "display_name": "Python 3.8.5 64-bit",
   "metadata": {
    "interpreter": {
     "hash": "2db524e06e9f5f4ffedc911c917cb75e12dbc923643829bf417064a77eb14d37"
    }
   }
  }
 },
 "nbformat": 4,
 "nbformat_minor": 2,
 "cells": [
  {
   "cell_type": "code",
   "execution_count": 131,
   "metadata": {},
   "outputs": [],
   "source": [
    "#import necessary libraries\n",
    "import numpy as np\n",
    "import pandas as pd\n",
    "import matplotlib.pyplot as plt\n",
    "import seaborn as sns\n",
    "\n",
    "import nltk\n",
    "import time\n",
    "#Tensorflow\n",
    "import tensorflow as tf\n",
    "from tensorflow.keras.preprocessing.text import Tokenizer\n",
    "from tensorflow.keras.utils import to_categorical\n",
    "from tensorflow.keras.models import Sequential\n",
    "from tensorflow.keras.layers import Dense, LSTM, GRU, Embedding,Bidirectional\n",
    "from tensorflow.keras.callbacks import ModelCheckpoint, CSVLogger, EarlyStopping, ReduceLROnPlateau\n",
    "from tensorflow.keras.optimizers import SGD, Adam, RMSprop\n",
    "from tensorflow.keras.preprocessing.sequence import pad_sequences\n",
    "from tensorflow.keras.models import load_model"
   ]
  },
  {
   "cell_type": "code",
   "execution_count": 45,
   "metadata": {},
   "outputs": [],
   "source": [
    "from tensorflow.python.client import device_lib\n",
    "#print(device_lib.list_local_devices())"
   ]
  },
  {
   "source": [
    "## Retrieving Data"
   ],
   "cell_type": "markdown",
   "metadata": {}
  },
  {
   "cell_type": "code",
   "execution_count": 46,
   "metadata": {},
   "outputs": [],
   "source": [
    "#Read csv\n",
    "train = pd.read_csv (r'train.csv')\n",
    "test = pd.read_csv (r'test.csv')"
   ]
  },
  {
   "cell_type": "code",
   "execution_count": 47,
   "metadata": {},
   "outputs": [
    {
     "output_type": "stream",
     "name": "stdout",
     "text": [
      "            id                                        raw_address  \\\n0            0  jl kapuk timur delta sili iii lippo cika 11 a ...   \n1            1                                 aye, jati sampurna   \n2            2               setu siung 119 rt 5 1 13880 cipayung   \n3            3                               toko dita, kertosono   \n4            4                                      jl. orde baru   \n...        ...                                                ...   \n299995  299995               jend ahmad yani 331 kertasari ciamis   \n299996  299996                 raya cila kko, cilandak timur kel.   \n299997  299997                     tanjung gusta jl. yaya 2 no 17   \n299998  299998  jalan cipadu jaya taman asri gang bijaksana 3 ...   \n299999  299999          jaya maspion permata blok beryl b2  no.58   \n\n                                       POI/street  \n0       /jl kapuk timur delta sili iii lippo cika  \n1                                               /  \n2                                          /siung  \n3                                      toko dita/  \n4                                  /jl. orde baru  \n...                                           ...  \n299995                           /jend ahmad yani  \n299996                             /raya cila kko  \n299997                                          /  \n299998                                taman asri/  \n299999                      jaya maspion permata/  \n\n[300000 rows x 3 columns]\n"
     ]
    }
   ],
   "source": [
    "df_train = pd.DataFrame(train, columns= ['id','raw_address','POI/street'])\n",
    "print(df_train)"
   ]
  },
  {
   "cell_type": "code",
   "execution_count": 48,
   "metadata": {},
   "outputs": [
    {
     "output_type": "stream",
     "name": "stdout",
     "text": [
      "          id                                        raw_address\n0          0              s. par 53 sidanegara 4 cilacap tengah\n1          1              angg per, baloi indah kel. lubuk baja\n2          2                              asma laun, mand imog,\n3          3      ud agung rej, raya nga sri wedari karanganyar\n4          4                         cut mutia, 35 baiturrahman\n...      ...                                                ...\n49995  49995                    toko mbak farid semboro semboro\n49996  49996     vie - tk. ridho kids, vete 3 cari, 16720 ciawi\n49997  49997                mart dan roti bakar malabar, nasio,\n49998  49998  graha indah pamulang jl. mujair raya bambu apu...\n49999  49999                                               adi,\n\n[50000 rows x 2 columns]\n"
     ]
    }
   ],
   "source": [
    "df_test = pd.DataFrame(test, columns= ['id','raw_address'])\n",
    "print(df_test)"
   ]
  },
  {
   "cell_type": "code",
   "execution_count": 49,
   "metadata": {},
   "outputs": [
    {
     "output_type": "execute_result",
     "data": {
      "text/plain": [
       "0         jl kapuk timur delta sili iii lippo cika 11 a ...\n",
       "1                                        aye, jati sampurna\n",
       "2                      setu siung 119 rt 5 1 13880 cipayung\n",
       "3                                      toko dita, kertosono\n",
       "4                                             jl. orde baru\n",
       "                                ...                        \n",
       "299995                 jend ahmad yani 331 kertasari ciamis\n",
       "299996                   raya cila kko, cilandak timur kel.\n",
       "299997                       tanjung gusta jl. yaya 2 no 17\n",
       "299998    jalan cipadu jaya taman asri gang bijaksana 3 ...\n",
       "299999            jaya maspion permata blok beryl b2  no.58\n",
       "Name: raw_address, Length: 300000, dtype: object"
      ]
     },
     "metadata": {},
     "execution_count": 49
    }
   ],
   "source": [
    "#Call all the raw addresses\n",
    "df_train.raw_address"
   ]
  },
  {
   "cell_type": "code",
   "execution_count": 50,
   "metadata": {},
   "outputs": [
    {
     "output_type": "execute_result",
     "data": {
      "text/plain": [
       "   id                                        raw_address  \\\n",
       "2   2               setu siung 119 rt 5 1 13880 cipayung   \n",
       "3   3                               toko dita, kertosono   \n",
       "4   4                                      jl. orde baru   \n",
       "5   5                   raya samb gede, 299 toko bb kids   \n",
       "6   6  kem mel raya, no 4 bojong rawalumbu rt 1 36 ra...   \n",
       "\n",
       "                    POI/street  \n",
       "2                       /siung  \n",
       "3                   toko dita/  \n",
       "4               /jl. orde baru  \n",
       "5  toko bb kids/raya samb gede  \n",
       "6                /kem mel raya  "
      ],
      "text/html": "<div>\n<style scoped>\n    .dataframe tbody tr th:only-of-type {\n        vertical-align: middle;\n    }\n\n    .dataframe tbody tr th {\n        vertical-align: top;\n    }\n\n    .dataframe thead th {\n        text-align: right;\n    }\n</style>\n<table border=\"1\" class=\"dataframe\">\n  <thead>\n    <tr style=\"text-align: right;\">\n      <th></th>\n      <th>id</th>\n      <th>raw_address</th>\n      <th>POI/street</th>\n    </tr>\n  </thead>\n  <tbody>\n    <tr>\n      <th>2</th>\n      <td>2</td>\n      <td>setu siung 119 rt 5 1 13880 cipayung</td>\n      <td>/siung</td>\n    </tr>\n    <tr>\n      <th>3</th>\n      <td>3</td>\n      <td>toko dita, kertosono</td>\n      <td>toko dita/</td>\n    </tr>\n    <tr>\n      <th>4</th>\n      <td>4</td>\n      <td>jl. orde baru</td>\n      <td>/jl. orde baru</td>\n    </tr>\n    <tr>\n      <th>5</th>\n      <td>5</td>\n      <td>raya samb gede, 299 toko bb kids</td>\n      <td>toko bb kids/raya samb gede</td>\n    </tr>\n    <tr>\n      <th>6</th>\n      <td>6</td>\n      <td>kem mel raya, no 4 bojong rawalumbu rt 1 36 ra...</td>\n      <td>/kem mel raya</td>\n    </tr>\n  </tbody>\n</table>\n</div>"
     },
     "metadata": {},
     "execution_count": 50
    }
   ],
   "source": [
    "#Get a rows of addresses\n",
    "df_train.loc[2:6]"
   ]
  },
  {
   "cell_type": "code",
   "execution_count": 51,
   "metadata": {},
   "outputs": [
    {
     "output_type": "execute_result",
     "data": {
      "text/plain": [
       "(300000,)"
      ]
     },
     "metadata": {},
     "execution_count": 51
    }
   ],
   "source": [
    "df_train.raw_address.shape"
   ]
  },
  {
   "cell_type": "code",
   "execution_count": 52,
   "metadata": {},
   "outputs": [],
   "source": [
    "splitedAddress = df_train['POI/street'].apply(lambda x: x.split('/'))\n",
    "df_train['POI'] = splitedAddress.apply(lambda x: x[0])\n",
    "df_train['street'] = splitedAddress.apply(lambda x: x[1])"
   ]
  },
  {
   "cell_type": "code",
   "execution_count": 53,
   "metadata": {},
   "outputs": [],
   "source": [
    "df_train = pd.DataFrame(df_train, columns= ['id','raw_address','POI','street'])"
   ]
  },
  {
   "cell_type": "code",
   "execution_count": 43,
   "metadata": {},
   "outputs": [
    {
     "output_type": "execute_result",
     "data": {
      "text/plain": [
       "            id                                        raw_address  POI  street\n",
       "0            0  jl kapuk timur delta sili iii lippo cika 11 a ...  NaN     NaN\n",
       "1            1                                 aye, jati sampurna  NaN     NaN\n",
       "2            2               setu siung 119 rt 5 1 13880 cipayung  NaN     NaN\n",
       "3            3                               toko dita, kertosono  NaN     NaN\n",
       "4            4                                      jl. orde baru  NaN     NaN\n",
       "...        ...                                                ...  ...     ...\n",
       "299995  299995               jend ahmad yani 331 kertasari ciamis  NaN     NaN\n",
       "299996  299996                 raya cila kko, cilandak timur kel.  NaN     NaN\n",
       "299997  299997                     tanjung gusta jl. yaya 2 no 17  NaN     NaN\n",
       "299998  299998  jalan cipadu jaya taman asri gang bijaksana 3 ...  NaN     NaN\n",
       "299999  299999          jaya maspion permata blok beryl b2  no.58  NaN     NaN\n",
       "\n",
       "[300000 rows x 4 columns]"
      ],
      "text/html": "<div>\n<style scoped>\n    .dataframe tbody tr th:only-of-type {\n        vertical-align: middle;\n    }\n\n    .dataframe tbody tr th {\n        vertical-align: top;\n    }\n\n    .dataframe thead th {\n        text-align: right;\n    }\n</style>\n<table border=\"1\" class=\"dataframe\">\n  <thead>\n    <tr style=\"text-align: right;\">\n      <th></th>\n      <th>id</th>\n      <th>raw_address</th>\n      <th>POI</th>\n      <th>street</th>\n    </tr>\n  </thead>\n  <tbody>\n    <tr>\n      <th>0</th>\n      <td>0</td>\n      <td>jl kapuk timur delta sili iii lippo cika 11 a ...</td>\n      <td>NaN</td>\n      <td>NaN</td>\n    </tr>\n    <tr>\n      <th>1</th>\n      <td>1</td>\n      <td>aye, jati sampurna</td>\n      <td>NaN</td>\n      <td>NaN</td>\n    </tr>\n    <tr>\n      <th>2</th>\n      <td>2</td>\n      <td>setu siung 119 rt 5 1 13880 cipayung</td>\n      <td>NaN</td>\n      <td>NaN</td>\n    </tr>\n    <tr>\n      <th>3</th>\n      <td>3</td>\n      <td>toko dita, kertosono</td>\n      <td>NaN</td>\n      <td>NaN</td>\n    </tr>\n    <tr>\n      <th>4</th>\n      <td>4</td>\n      <td>jl. orde baru</td>\n      <td>NaN</td>\n      <td>NaN</td>\n    </tr>\n    <tr>\n      <th>...</th>\n      <td>...</td>\n      <td>...</td>\n      <td>...</td>\n      <td>...</td>\n    </tr>\n    <tr>\n      <th>299995</th>\n      <td>299995</td>\n      <td>jend ahmad yani 331 kertasari ciamis</td>\n      <td>NaN</td>\n      <td>NaN</td>\n    </tr>\n    <tr>\n      <th>299996</th>\n      <td>299996</td>\n      <td>raya cila kko, cilandak timur kel.</td>\n      <td>NaN</td>\n      <td>NaN</td>\n    </tr>\n    <tr>\n      <th>299997</th>\n      <td>299997</td>\n      <td>tanjung gusta jl. yaya 2 no 17</td>\n      <td>NaN</td>\n      <td>NaN</td>\n    </tr>\n    <tr>\n      <th>299998</th>\n      <td>299998</td>\n      <td>jalan cipadu jaya taman asri gang bijaksana 3 ...</td>\n      <td>NaN</td>\n      <td>NaN</td>\n    </tr>\n    <tr>\n      <th>299999</th>\n      <td>299999</td>\n      <td>jaya maspion permata blok beryl b2  no.58</td>\n      <td>NaN</td>\n      <td>NaN</td>\n    </tr>\n  </tbody>\n</table>\n<p>300000 rows × 4 columns</p>\n</div>"
     },
     "metadata": {},
     "execution_count": 43
    }
   ],
   "source": [
    "df_train"
   ]
  },
  {
   "source": [
    "## Visualization"
   ],
   "cell_type": "markdown",
   "metadata": {}
  },
  {
   "cell_type": "code",
   "execution_count": 139,
   "metadata": {},
   "outputs": [
    {
     "output_type": "stream",
     "name": "stderr",
     "text": [
      "C:\\Python38\\lib\\site-packages\\seaborn\\_decorators.py:36: FutureWarning: Pass the following variables as keyword args: x, y. From version 0.12, the only valid positional argument will be `data`, and passing other arguments without an explicit keyword will result in an error or misinterpretation.\n  warnings.warn(\n"
     ]
    },
    {
     "output_type": "display_data",
     "data": {
      "text/plain": "<Figure size 864x288 with 1 Axes>",
      "image/svg+xml": "<?xml version=\"1.0\" encoding=\"utf-8\" standalone=\"no\"?>\r\n<!DOCTYPE svg PUBLIC \"-//W3C//DTD SVG 1.1//EN\"\r\n  \"http://www.w3.org/Graphics/SVG/1.1/DTD/svg11.dtd\">\r\n<!-- Created with matplotlib (https://matplotlib.org/) -->\r\n<svg height=\"357.397966pt\" version=\"1.1\" viewBox=\"0 0 725.70125 357.397966\" width=\"725.70125pt\" xmlns=\"http://www.w3.org/2000/svg\" xmlns:xlink=\"http://www.w3.org/1999/xlink\">\r\n <metadata>\r\n  <rdf:RDF xmlns:cc=\"http://creativecommons.org/ns#\" xmlns:dc=\"http://purl.org/dc/elements/1.1/\" xmlns:rdf=\"http://www.w3.org/1999/02/22-rdf-syntax-ns#\">\r\n   <cc:Work>\r\n    <dc:type rdf:resource=\"http://purl.org/dc/dcmitype/StillImage\"/>\r\n    <dc:date>2021-03-18T11:36:57.748460</dc:date>\r\n    <dc:format>image/svg+xml</dc:format>\r\n    <dc:creator>\r\n     <cc:Agent>\r\n      <dc:title>Matplotlib v3.3.2, https://matplotlib.org/</dc:title>\r\n     </cc:Agent>\r\n    </dc:creator>\r\n   </cc:Work>\r\n  </rdf:RDF>\r\n </metadata>\r\n <defs>\r\n  <style type=\"text/css\">*{stroke-linecap:butt;stroke-linejoin:round;}</style>\r\n </defs>\r\n <g id=\"figure_1\">\r\n  <g id=\"patch_1\">\r\n   <path d=\"M 0 357.397966 \r\nL 725.70125 357.397966 \r\nL 725.70125 0 \r\nL 0 0 \r\nz\r\n\" style=\"fill:none;\"/>\r\n  </g>\r\n  <g id=\"axes_1\">\r\n   <g id=\"patch_2\">\r\n    <path d=\"M 48.90125 224.804528 \r\nL 718.50125 224.804528 \r\nL 718.50125 7.364528 \r\nL 48.90125 7.364528 \r\nz\r\n\" style=\"fill:#ffffff;\"/>\r\n   </g>\r\n   <g id=\"patch_3\">\r\n    <path clip-path=\"url(#pac8ad6c225)\" d=\"M 65.64125 224.804528 \r\nL 199.56125 224.804528 \r\nL 199.56125 17.718814 \r\nL 65.64125 17.718814 \r\nz\r\n\" style=\"fill:#3274a1;opacity:0.8;\"/>\r\n   </g>\r\n   <g id=\"patch_4\">\r\n    <path clip-path=\"url(#pac8ad6c225)\" d=\"M 233.04125 224.804528 \r\nL 366.96125 224.804528 \r\nL 366.96125 101.408321 \r\nL 233.04125 101.408321 \r\nz\r\n\" style=\"fill:#e1812c;opacity:0.8;\"/>\r\n   </g>\r\n   <g id=\"patch_5\">\r\n    <path clip-path=\"url(#pac8ad6c225)\" d=\"M 400.44125 224.804528 \r\nL 534.36125 224.804528 \r\nL 534.36125 106.906172 \r\nL 400.44125 106.906172 \r\nz\r\n\" style=\"fill:#3a923a;opacity:0.8;\"/>\r\n   </g>\r\n   <g id=\"patch_6\">\r\n    <path clip-path=\"url(#pac8ad6c225)\" d=\"M 567.84125 224.804528 \r\nL 701.76125 224.804528 \r\nL 701.76125 110.571406 \r\nL 567.84125 110.571406 \r\nz\r\n\" style=\"fill:#c03d3e;opacity:0.8;\"/>\r\n   </g>\r\n   <g id=\"matplotlib.axis_1\">\r\n    <g id=\"xtick_1\">\r\n     <g id=\"line2d_1\">\r\n      <defs>\r\n       <path d=\"M 0 0 \r\nL 0 3.5 \r\n\" id=\"mcc6fd22b9b\" style=\"stroke:#000000;stroke-width:0.8;\"/>\r\n      </defs>\r\n      <g>\r\n       <use style=\"stroke:#000000;stroke-width:0.8;\" x=\"132.60125\" xlink:href=\"#mcc6fd22b9b\" y=\"224.804528\"/>\r\n      </g>\r\n     </g>\r\n     <g id=\"text_1\">\r\n      <!-- perumahan wahana -->\r\n      <g transform=\"translate(135.360625 331.842028)rotate(-90)scale(0.1 -0.1)\">\r\n       <defs>\r\n        <path d=\"M 18.109375 8.203125 \r\nL 18.109375 -20.796875 \r\nL 9.078125 -20.796875 \r\nL 9.078125 54.6875 \r\nL 18.109375 54.6875 \r\nL 18.109375 46.390625 \r\nQ 20.953125 51.265625 25.265625 53.625 \r\nQ 29.59375 56 35.59375 56 \r\nQ 45.5625 56 51.78125 48.09375 \r\nQ 58.015625 40.1875 58.015625 27.296875 \r\nQ 58.015625 14.40625 51.78125 6.484375 \r\nQ 45.5625 -1.421875 35.59375 -1.421875 \r\nQ 29.59375 -1.421875 25.265625 0.953125 \r\nQ 20.953125 3.328125 18.109375 8.203125 \r\nz\r\nM 48.6875 27.296875 \r\nQ 48.6875 37.203125 44.609375 42.84375 \r\nQ 40.53125 48.484375 33.40625 48.484375 \r\nQ 26.265625 48.484375 22.1875 42.84375 \r\nQ 18.109375 37.203125 18.109375 27.296875 \r\nQ 18.109375 17.390625 22.1875 11.75 \r\nQ 26.265625 6.109375 33.40625 6.109375 \r\nQ 40.53125 6.109375 44.609375 11.75 \r\nQ 48.6875 17.390625 48.6875 27.296875 \r\nz\r\n\" id=\"DejaVuSans-112\"/>\r\n        <path d=\"M 56.203125 29.59375 \r\nL 56.203125 25.203125 \r\nL 14.890625 25.203125 \r\nQ 15.484375 15.921875 20.484375 11.0625 \r\nQ 25.484375 6.203125 34.421875 6.203125 \r\nQ 39.59375 6.203125 44.453125 7.46875 \r\nQ 49.3125 8.734375 54.109375 11.28125 \r\nL 54.109375 2.78125 \r\nQ 49.265625 0.734375 44.1875 -0.34375 \r\nQ 39.109375 -1.421875 33.890625 -1.421875 \r\nQ 20.796875 -1.421875 13.15625 6.1875 \r\nQ 5.515625 13.8125 5.515625 26.8125 \r\nQ 5.515625 40.234375 12.765625 48.109375 \r\nQ 20.015625 56 32.328125 56 \r\nQ 43.359375 56 49.78125 48.890625 \r\nQ 56.203125 41.796875 56.203125 29.59375 \r\nz\r\nM 47.21875 32.234375 \r\nQ 47.125 39.59375 43.09375 43.984375 \r\nQ 39.0625 48.390625 32.421875 48.390625 \r\nQ 24.90625 48.390625 20.390625 44.140625 \r\nQ 15.875 39.890625 15.1875 32.171875 \r\nz\r\n\" id=\"DejaVuSans-101\"/>\r\n        <path d=\"M 41.109375 46.296875 \r\nQ 39.59375 47.171875 37.8125 47.578125 \r\nQ 36.03125 48 33.890625 48 \r\nQ 26.265625 48 22.1875 43.046875 \r\nQ 18.109375 38.09375 18.109375 28.8125 \r\nL 18.109375 0 \r\nL 9.078125 0 \r\nL 9.078125 54.6875 \r\nL 18.109375 54.6875 \r\nL 18.109375 46.1875 \r\nQ 20.953125 51.171875 25.484375 53.578125 \r\nQ 30.03125 56 36.53125 56 \r\nQ 37.453125 56 38.578125 55.875 \r\nQ 39.703125 55.765625 41.0625 55.515625 \r\nz\r\n\" id=\"DejaVuSans-114\"/>\r\n        <path d=\"M 8.5 21.578125 \r\nL 8.5 54.6875 \r\nL 17.484375 54.6875 \r\nL 17.484375 21.921875 \r\nQ 17.484375 14.15625 20.5 10.265625 \r\nQ 23.53125 6.390625 29.59375 6.390625 \r\nQ 36.859375 6.390625 41.078125 11.03125 \r\nQ 45.3125 15.671875 45.3125 23.6875 \r\nL 45.3125 54.6875 \r\nL 54.296875 54.6875 \r\nL 54.296875 0 \r\nL 45.3125 0 \r\nL 45.3125 8.40625 \r\nQ 42.046875 3.421875 37.71875 1 \r\nQ 33.40625 -1.421875 27.6875 -1.421875 \r\nQ 18.265625 -1.421875 13.375 4.4375 \r\nQ 8.5 10.296875 8.5 21.578125 \r\nz\r\nM 31.109375 56 \r\nz\r\n\" id=\"DejaVuSans-117\"/>\r\n        <path d=\"M 52 44.1875 \r\nQ 55.375 50.25 60.0625 53.125 \r\nQ 64.75 56 71.09375 56 \r\nQ 79.640625 56 84.28125 50.015625 \r\nQ 88.921875 44.046875 88.921875 33.015625 \r\nL 88.921875 0 \r\nL 79.890625 0 \r\nL 79.890625 32.71875 \r\nQ 79.890625 40.578125 77.09375 44.375 \r\nQ 74.3125 48.1875 68.609375 48.1875 \r\nQ 61.625 48.1875 57.5625 43.546875 \r\nQ 53.515625 38.921875 53.515625 30.90625 \r\nL 53.515625 0 \r\nL 44.484375 0 \r\nL 44.484375 32.71875 \r\nQ 44.484375 40.625 41.703125 44.40625 \r\nQ 38.921875 48.1875 33.109375 48.1875 \r\nQ 26.21875 48.1875 22.15625 43.53125 \r\nQ 18.109375 38.875 18.109375 30.90625 \r\nL 18.109375 0 \r\nL 9.078125 0 \r\nL 9.078125 54.6875 \r\nL 18.109375 54.6875 \r\nL 18.109375 46.1875 \r\nQ 21.1875 51.21875 25.484375 53.609375 \r\nQ 29.78125 56 35.6875 56 \r\nQ 41.65625 56 45.828125 52.96875 \r\nQ 50 49.953125 52 44.1875 \r\nz\r\n\" id=\"DejaVuSans-109\"/>\r\n        <path d=\"M 34.28125 27.484375 \r\nQ 23.390625 27.484375 19.1875 25 \r\nQ 14.984375 22.515625 14.984375 16.5 \r\nQ 14.984375 11.71875 18.140625 8.90625 \r\nQ 21.296875 6.109375 26.703125 6.109375 \r\nQ 34.1875 6.109375 38.703125 11.40625 \r\nQ 43.21875 16.703125 43.21875 25.484375 \r\nL 43.21875 27.484375 \r\nz\r\nM 52.203125 31.203125 \r\nL 52.203125 0 \r\nL 43.21875 0 \r\nL 43.21875 8.296875 \r\nQ 40.140625 3.328125 35.546875 0.953125 \r\nQ 30.953125 -1.421875 24.3125 -1.421875 \r\nQ 15.921875 -1.421875 10.953125 3.296875 \r\nQ 6 8.015625 6 15.921875 \r\nQ 6 25.140625 12.171875 29.828125 \r\nQ 18.359375 34.515625 30.609375 34.515625 \r\nL 43.21875 34.515625 \r\nL 43.21875 35.40625 \r\nQ 43.21875 41.609375 39.140625 45 \r\nQ 35.0625 48.390625 27.6875 48.390625 \r\nQ 23 48.390625 18.546875 47.265625 \r\nQ 14.109375 46.140625 10.015625 43.890625 \r\nL 10.015625 52.203125 \r\nQ 14.9375 54.109375 19.578125 55.046875 \r\nQ 24.21875 56 28.609375 56 \r\nQ 40.484375 56 46.34375 49.84375 \r\nQ 52.203125 43.703125 52.203125 31.203125 \r\nz\r\n\" id=\"DejaVuSans-97\"/>\r\n        <path d=\"M 54.890625 33.015625 \r\nL 54.890625 0 \r\nL 45.90625 0 \r\nL 45.90625 32.71875 \r\nQ 45.90625 40.484375 42.875 44.328125 \r\nQ 39.84375 48.1875 33.796875 48.1875 \r\nQ 26.515625 48.1875 22.3125 43.546875 \r\nQ 18.109375 38.921875 18.109375 30.90625 \r\nL 18.109375 0 \r\nL 9.078125 0 \r\nL 9.078125 75.984375 \r\nL 18.109375 75.984375 \r\nL 18.109375 46.1875 \r\nQ 21.34375 51.125 25.703125 53.5625 \r\nQ 30.078125 56 35.796875 56 \r\nQ 45.21875 56 50.046875 50.171875 \r\nQ 54.890625 44.34375 54.890625 33.015625 \r\nz\r\n\" id=\"DejaVuSans-104\"/>\r\n        <path d=\"M 54.890625 33.015625 \r\nL 54.890625 0 \r\nL 45.90625 0 \r\nL 45.90625 32.71875 \r\nQ 45.90625 40.484375 42.875 44.328125 \r\nQ 39.84375 48.1875 33.796875 48.1875 \r\nQ 26.515625 48.1875 22.3125 43.546875 \r\nQ 18.109375 38.921875 18.109375 30.90625 \r\nL 18.109375 0 \r\nL 9.078125 0 \r\nL 9.078125 54.6875 \r\nL 18.109375 54.6875 \r\nL 18.109375 46.1875 \r\nQ 21.34375 51.125 25.703125 53.5625 \r\nQ 30.078125 56 35.796875 56 \r\nQ 45.21875 56 50.046875 50.171875 \r\nQ 54.890625 44.34375 54.890625 33.015625 \r\nz\r\n\" id=\"DejaVuSans-110\"/>\r\n        <path id=\"DejaVuSans-32\"/>\r\n        <path d=\"M 4.203125 54.6875 \r\nL 13.1875 54.6875 \r\nL 24.421875 12.015625 \r\nL 35.59375 54.6875 \r\nL 46.1875 54.6875 \r\nL 57.421875 12.015625 \r\nL 68.609375 54.6875 \r\nL 77.59375 54.6875 \r\nL 63.28125 0 \r\nL 52.6875 0 \r\nL 40.921875 44.828125 \r\nL 29.109375 0 \r\nL 18.5 0 \r\nz\r\n\" id=\"DejaVuSans-119\"/>\r\n       </defs>\r\n       <use xlink:href=\"#DejaVuSans-112\"/>\r\n       <use x=\"63.476562\" xlink:href=\"#DejaVuSans-101\"/>\r\n       <use x=\"125\" xlink:href=\"#DejaVuSans-114\"/>\r\n       <use x=\"166.113281\" xlink:href=\"#DejaVuSans-117\"/>\r\n       <use x=\"229.492188\" xlink:href=\"#DejaVuSans-109\"/>\r\n       <use x=\"326.904297\" xlink:href=\"#DejaVuSans-97\"/>\r\n       <use x=\"388.183594\" xlink:href=\"#DejaVuSans-104\"/>\r\n       <use x=\"451.5625\" xlink:href=\"#DejaVuSans-97\"/>\r\n       <use x=\"512.841797\" xlink:href=\"#DejaVuSans-110\"/>\r\n       <use x=\"576.220703\" xlink:href=\"#DejaVuSans-32\"/>\r\n       <use x=\"608.007812\" xlink:href=\"#DejaVuSans-119\"/>\r\n       <use x=\"689.794922\" xlink:href=\"#DejaVuSans-97\"/>\r\n       <use x=\"751.074219\" xlink:href=\"#DejaVuSans-104\"/>\r\n       <use x=\"814.453125\" xlink:href=\"#DejaVuSans-97\"/>\r\n       <use x=\"875.732422\" xlink:href=\"#DejaVuSans-110\"/>\r\n       <use x=\"939.111328\" xlink:href=\"#DejaVuSans-97\"/>\r\n      </g>\r\n     </g>\r\n    </g>\r\n    <g id=\"xtick_2\">\r\n     <g id=\"line2d_2\">\r\n      <g>\r\n       <use style=\"stroke:#000000;stroke-width:0.8;\" x=\"300.00125\" xlink:href=\"#mcc6fd22b9b\" y=\"224.804528\"/>\r\n      </g>\r\n     </g>\r\n     <g id=\"text_2\">\r\n      <!-- palm spring regency -->\r\n      <g transform=\"translate(302.760625 334.584216)rotate(-90)scale(0.1 -0.1)\">\r\n       <defs>\r\n        <path d=\"M 9.421875 75.984375 \r\nL 18.40625 75.984375 \r\nL 18.40625 0 \r\nL 9.421875 0 \r\nz\r\n\" id=\"DejaVuSans-108\"/>\r\n        <path d=\"M 44.28125 53.078125 \r\nL 44.28125 44.578125 \r\nQ 40.484375 46.53125 36.375 47.5 \r\nQ 32.28125 48.484375 27.875 48.484375 \r\nQ 21.1875 48.484375 17.84375 46.4375 \r\nQ 14.5 44.390625 14.5 40.28125 \r\nQ 14.5 37.15625 16.890625 35.375 \r\nQ 19.28125 33.59375 26.515625 31.984375 \r\nL 29.59375 31.296875 \r\nQ 39.15625 29.25 43.1875 25.515625 \r\nQ 47.21875 21.78125 47.21875 15.09375 \r\nQ 47.21875 7.46875 41.1875 3.015625 \r\nQ 35.15625 -1.421875 24.609375 -1.421875 \r\nQ 20.21875 -1.421875 15.453125 -0.5625 \r\nQ 10.6875 0.296875 5.421875 2 \r\nL 5.421875 11.28125 \r\nQ 10.40625 8.6875 15.234375 7.390625 \r\nQ 20.0625 6.109375 24.8125 6.109375 \r\nQ 31.15625 6.109375 34.5625 8.28125 \r\nQ 37.984375 10.453125 37.984375 14.40625 \r\nQ 37.984375 18.0625 35.515625 20.015625 \r\nQ 33.0625 21.96875 24.703125 23.78125 \r\nL 21.578125 24.515625 \r\nQ 13.234375 26.265625 9.515625 29.90625 \r\nQ 5.8125 33.546875 5.8125 39.890625 \r\nQ 5.8125 47.609375 11.28125 51.796875 \r\nQ 16.75 56 26.8125 56 \r\nQ 31.78125 56 36.171875 55.265625 \r\nQ 40.578125 54.546875 44.28125 53.078125 \r\nz\r\n\" id=\"DejaVuSans-115\"/>\r\n        <path d=\"M 9.421875 54.6875 \r\nL 18.40625 54.6875 \r\nL 18.40625 0 \r\nL 9.421875 0 \r\nz\r\nM 9.421875 75.984375 \r\nL 18.40625 75.984375 \r\nL 18.40625 64.59375 \r\nL 9.421875 64.59375 \r\nz\r\n\" id=\"DejaVuSans-105\"/>\r\n        <path d=\"M 45.40625 27.984375 \r\nQ 45.40625 37.75 41.375 43.109375 \r\nQ 37.359375 48.484375 30.078125 48.484375 \r\nQ 22.859375 48.484375 18.828125 43.109375 \r\nQ 14.796875 37.75 14.796875 27.984375 \r\nQ 14.796875 18.265625 18.828125 12.890625 \r\nQ 22.859375 7.515625 30.078125 7.515625 \r\nQ 37.359375 7.515625 41.375 12.890625 \r\nQ 45.40625 18.265625 45.40625 27.984375 \r\nz\r\nM 54.390625 6.78125 \r\nQ 54.390625 -7.171875 48.1875 -13.984375 \r\nQ 42 -20.796875 29.203125 -20.796875 \r\nQ 24.46875 -20.796875 20.265625 -20.09375 \r\nQ 16.0625 -19.390625 12.109375 -17.921875 \r\nL 12.109375 -9.1875 \r\nQ 16.0625 -11.328125 19.921875 -12.34375 \r\nQ 23.78125 -13.375 27.78125 -13.375 \r\nQ 36.625 -13.375 41.015625 -8.765625 \r\nQ 45.40625 -4.15625 45.40625 5.171875 \r\nL 45.40625 9.625 \r\nQ 42.625 4.78125 38.28125 2.390625 \r\nQ 33.9375 0 27.875 0 \r\nQ 17.828125 0 11.671875 7.65625 \r\nQ 5.515625 15.328125 5.515625 27.984375 \r\nQ 5.515625 40.671875 11.671875 48.328125 \r\nQ 17.828125 56 27.875 56 \r\nQ 33.9375 56 38.28125 53.609375 \r\nQ 42.625 51.21875 45.40625 46.390625 \r\nL 45.40625 54.6875 \r\nL 54.390625 54.6875 \r\nz\r\n\" id=\"DejaVuSans-103\"/>\r\n        <path d=\"M 48.78125 52.59375 \r\nL 48.78125 44.1875 \r\nQ 44.96875 46.296875 41.140625 47.34375 \r\nQ 37.3125 48.390625 33.40625 48.390625 \r\nQ 24.65625 48.390625 19.8125 42.84375 \r\nQ 14.984375 37.3125 14.984375 27.296875 \r\nQ 14.984375 17.28125 19.8125 11.734375 \r\nQ 24.65625 6.203125 33.40625 6.203125 \r\nQ 37.3125 6.203125 41.140625 7.25 \r\nQ 44.96875 8.296875 48.78125 10.40625 \r\nL 48.78125 2.09375 \r\nQ 45.015625 0.34375 40.984375 -0.53125 \r\nQ 36.96875 -1.421875 32.421875 -1.421875 \r\nQ 20.0625 -1.421875 12.78125 6.34375 \r\nQ 5.515625 14.109375 5.515625 27.296875 \r\nQ 5.515625 40.671875 12.859375 48.328125 \r\nQ 20.21875 56 33.015625 56 \r\nQ 37.15625 56 41.109375 55.140625 \r\nQ 45.0625 54.296875 48.78125 52.59375 \r\nz\r\n\" id=\"DejaVuSans-99\"/>\r\n        <path d=\"M 32.171875 -5.078125 \r\nQ 28.375 -14.84375 24.75 -17.8125 \r\nQ 21.140625 -20.796875 15.09375 -20.796875 \r\nL 7.90625 -20.796875 \r\nL 7.90625 -13.28125 \r\nL 13.1875 -13.28125 \r\nQ 16.890625 -13.28125 18.9375 -11.515625 \r\nQ 21 -9.765625 23.484375 -3.21875 \r\nL 25.09375 0.875 \r\nL 2.984375 54.6875 \r\nL 12.5 54.6875 \r\nL 29.59375 11.921875 \r\nL 46.6875 54.6875 \r\nL 56.203125 54.6875 \r\nz\r\n\" id=\"DejaVuSans-121\"/>\r\n       </defs>\r\n       <use xlink:href=\"#DejaVuSans-112\"/>\r\n       <use x=\"63.476562\" xlink:href=\"#DejaVuSans-97\"/>\r\n       <use x=\"124.755859\" xlink:href=\"#DejaVuSans-108\"/>\r\n       <use x=\"152.539062\" xlink:href=\"#DejaVuSans-109\"/>\r\n       <use x=\"249.951172\" xlink:href=\"#DejaVuSans-32\"/>\r\n       <use x=\"281.738281\" xlink:href=\"#DejaVuSans-115\"/>\r\n       <use x=\"333.837891\" xlink:href=\"#DejaVuSans-112\"/>\r\n       <use x=\"397.314453\" xlink:href=\"#DejaVuSans-114\"/>\r\n       <use x=\"438.427734\" xlink:href=\"#DejaVuSans-105\"/>\r\n       <use x=\"466.210938\" xlink:href=\"#DejaVuSans-110\"/>\r\n       <use x=\"529.589844\" xlink:href=\"#DejaVuSans-103\"/>\r\n       <use x=\"593.066406\" xlink:href=\"#DejaVuSans-32\"/>\r\n       <use x=\"624.853516\" xlink:href=\"#DejaVuSans-114\"/>\r\n       <use x=\"663.716797\" xlink:href=\"#DejaVuSans-101\"/>\r\n       <use x=\"725.240234\" xlink:href=\"#DejaVuSans-103\"/>\r\n       <use x=\"788.716797\" xlink:href=\"#DejaVuSans-101\"/>\r\n       <use x=\"850.240234\" xlink:href=\"#DejaVuSans-110\"/>\r\n       <use x=\"913.619141\" xlink:href=\"#DejaVuSans-99\"/>\r\n       <use x=\"968.599609\" xlink:href=\"#DejaVuSans-121\"/>\r\n      </g>\r\n     </g>\r\n    </g>\r\n    <g id=\"xtick_3\">\r\n     <g id=\"line2d_3\">\r\n      <g>\r\n       <use style=\"stroke:#000000;stroke-width:0.8;\" x=\"467.40125\" xlink:href=\"#mcc6fd22b9b\" y=\"224.804528\"/>\r\n      </g>\r\n     </g>\r\n     <g id=\"text_3\">\r\n      <!-- indomaret -->\r\n      <g transform=\"translate(470.160625 283.215466)rotate(-90)scale(0.1 -0.1)\">\r\n       <defs>\r\n        <path d=\"M 45.40625 46.390625 \r\nL 45.40625 75.984375 \r\nL 54.390625 75.984375 \r\nL 54.390625 0 \r\nL 45.40625 0 \r\nL 45.40625 8.203125 \r\nQ 42.578125 3.328125 38.25 0.953125 \r\nQ 33.9375 -1.421875 27.875 -1.421875 \r\nQ 17.96875 -1.421875 11.734375 6.484375 \r\nQ 5.515625 14.40625 5.515625 27.296875 \r\nQ 5.515625 40.1875 11.734375 48.09375 \r\nQ 17.96875 56 27.875 56 \r\nQ 33.9375 56 38.25 53.625 \r\nQ 42.578125 51.265625 45.40625 46.390625 \r\nz\r\nM 14.796875 27.296875 \r\nQ 14.796875 17.390625 18.875 11.75 \r\nQ 22.953125 6.109375 30.078125 6.109375 \r\nQ 37.203125 6.109375 41.296875 11.75 \r\nQ 45.40625 17.390625 45.40625 27.296875 \r\nQ 45.40625 37.203125 41.296875 42.84375 \r\nQ 37.203125 48.484375 30.078125 48.484375 \r\nQ 22.953125 48.484375 18.875 42.84375 \r\nQ 14.796875 37.203125 14.796875 27.296875 \r\nz\r\n\" id=\"DejaVuSans-100\"/>\r\n        <path d=\"M 30.609375 48.390625 \r\nQ 23.390625 48.390625 19.1875 42.75 \r\nQ 14.984375 37.109375 14.984375 27.296875 \r\nQ 14.984375 17.484375 19.15625 11.84375 \r\nQ 23.34375 6.203125 30.609375 6.203125 \r\nQ 37.796875 6.203125 41.984375 11.859375 \r\nQ 46.1875 17.53125 46.1875 27.296875 \r\nQ 46.1875 37.015625 41.984375 42.703125 \r\nQ 37.796875 48.390625 30.609375 48.390625 \r\nz\r\nM 30.609375 56 \r\nQ 42.328125 56 49.015625 48.375 \r\nQ 55.71875 40.765625 55.71875 27.296875 \r\nQ 55.71875 13.875 49.015625 6.21875 \r\nQ 42.328125 -1.421875 30.609375 -1.421875 \r\nQ 18.84375 -1.421875 12.171875 6.21875 \r\nQ 5.515625 13.875 5.515625 27.296875 \r\nQ 5.515625 40.765625 12.171875 48.375 \r\nQ 18.84375 56 30.609375 56 \r\nz\r\n\" id=\"DejaVuSans-111\"/>\r\n        <path d=\"M 18.3125 70.21875 \r\nL 18.3125 54.6875 \r\nL 36.8125 54.6875 \r\nL 36.8125 47.703125 \r\nL 18.3125 47.703125 \r\nL 18.3125 18.015625 \r\nQ 18.3125 11.328125 20.140625 9.421875 \r\nQ 21.96875 7.515625 27.59375 7.515625 \r\nL 36.8125 7.515625 \r\nL 36.8125 0 \r\nL 27.59375 0 \r\nQ 17.1875 0 13.234375 3.875 \r\nQ 9.28125 7.765625 9.28125 18.015625 \r\nL 9.28125 47.703125 \r\nL 2.6875 47.703125 \r\nL 2.6875 54.6875 \r\nL 9.28125 54.6875 \r\nL 9.28125 70.21875 \r\nz\r\n\" id=\"DejaVuSans-116\"/>\r\n       </defs>\r\n       <use xlink:href=\"#DejaVuSans-105\"/>\r\n       <use x=\"27.783203\" xlink:href=\"#DejaVuSans-110\"/>\r\n       <use x=\"91.162109\" xlink:href=\"#DejaVuSans-100\"/>\r\n       <use x=\"154.638672\" xlink:href=\"#DejaVuSans-111\"/>\r\n       <use x=\"215.820312\" xlink:href=\"#DejaVuSans-109\"/>\r\n       <use x=\"313.232422\" xlink:href=\"#DejaVuSans-97\"/>\r\n       <use x=\"374.511719\" xlink:href=\"#DejaVuSans-114\"/>\r\n       <use x=\"413.375\" xlink:href=\"#DejaVuSans-101\"/>\r\n       <use x=\"474.898438\" xlink:href=\"#DejaVuSans-116\"/>\r\n      </g>\r\n     </g>\r\n    </g>\r\n    <g id=\"xtick_4\">\r\n     <g id=\"line2d_4\">\r\n      <g>\r\n       <use style=\"stroke:#000000;stroke-width:0.8;\" x=\"634.80125\" xlink:href=\"#mcc6fd22b9b\" y=\"224.804528\"/>\r\n      </g>\r\n     </g>\r\n     <g id=\"text_4\">\r\n      <!-- lebak jero -->\r\n      <g transform=\"translate(637.560625 281.117028)rotate(-90)scale(0.1 -0.1)\">\r\n       <defs>\r\n        <path d=\"M 48.6875 27.296875 \r\nQ 48.6875 37.203125 44.609375 42.84375 \r\nQ 40.53125 48.484375 33.40625 48.484375 \r\nQ 26.265625 48.484375 22.1875 42.84375 \r\nQ 18.109375 37.203125 18.109375 27.296875 \r\nQ 18.109375 17.390625 22.1875 11.75 \r\nQ 26.265625 6.109375 33.40625 6.109375 \r\nQ 40.53125 6.109375 44.609375 11.75 \r\nQ 48.6875 17.390625 48.6875 27.296875 \r\nz\r\nM 18.109375 46.390625 \r\nQ 20.953125 51.265625 25.265625 53.625 \r\nQ 29.59375 56 35.59375 56 \r\nQ 45.5625 56 51.78125 48.09375 \r\nQ 58.015625 40.1875 58.015625 27.296875 \r\nQ 58.015625 14.40625 51.78125 6.484375 \r\nQ 45.5625 -1.421875 35.59375 -1.421875 \r\nQ 29.59375 -1.421875 25.265625 0.953125 \r\nQ 20.953125 3.328125 18.109375 8.203125 \r\nL 18.109375 0 \r\nL 9.078125 0 \r\nL 9.078125 75.984375 \r\nL 18.109375 75.984375 \r\nz\r\n\" id=\"DejaVuSans-98\"/>\r\n        <path d=\"M 9.078125 75.984375 \r\nL 18.109375 75.984375 \r\nL 18.109375 31.109375 \r\nL 44.921875 54.6875 \r\nL 56.390625 54.6875 \r\nL 27.390625 29.109375 \r\nL 57.625 0 \r\nL 45.90625 0 \r\nL 18.109375 26.703125 \r\nL 18.109375 0 \r\nL 9.078125 0 \r\nz\r\n\" id=\"DejaVuSans-107\"/>\r\n        <path d=\"M 9.421875 54.6875 \r\nL 18.40625 54.6875 \r\nL 18.40625 -0.984375 \r\nQ 18.40625 -11.421875 14.421875 -16.109375 \r\nQ 10.453125 -20.796875 1.609375 -20.796875 \r\nL -1.8125 -20.796875 \r\nL -1.8125 -13.1875 \r\nL 0.59375 -13.1875 \r\nQ 5.71875 -13.1875 7.5625 -10.8125 \r\nQ 9.421875 -8.453125 9.421875 -0.984375 \r\nz\r\nM 9.421875 75.984375 \r\nL 18.40625 75.984375 \r\nL 18.40625 64.59375 \r\nL 9.421875 64.59375 \r\nz\r\n\" id=\"DejaVuSans-106\"/>\r\n       </defs>\r\n       <use xlink:href=\"#DejaVuSans-108\"/>\r\n       <use x=\"27.783203\" xlink:href=\"#DejaVuSans-101\"/>\r\n       <use x=\"89.306641\" xlink:href=\"#DejaVuSans-98\"/>\r\n       <use x=\"152.783203\" xlink:href=\"#DejaVuSans-97\"/>\r\n       <use x=\"214.0625\" xlink:href=\"#DejaVuSans-107\"/>\r\n       <use x=\"271.972656\" xlink:href=\"#DejaVuSans-32\"/>\r\n       <use x=\"303.759766\" xlink:href=\"#DejaVuSans-106\"/>\r\n       <use x=\"331.542969\" xlink:href=\"#DejaVuSans-101\"/>\r\n       <use x=\"393.066406\" xlink:href=\"#DejaVuSans-114\"/>\r\n       <use x=\"431.929688\" xlink:href=\"#DejaVuSans-111\"/>\r\n      </g>\r\n     </g>\r\n    </g>\r\n    <g id=\"text_5\">\r\n     <!-- POI -->\r\n     <g transform=\"translate(373.590313 347.702341)scale(0.12 -0.12)\">\r\n      <defs>\r\n       <path d=\"M 19.671875 64.796875 \r\nL 19.671875 37.40625 \r\nL 32.078125 37.40625 \r\nQ 38.96875 37.40625 42.71875 40.96875 \r\nQ 46.484375 44.53125 46.484375 51.125 \r\nQ 46.484375 57.671875 42.71875 61.234375 \r\nQ 38.96875 64.796875 32.078125 64.796875 \r\nz\r\nM 9.8125 72.90625 \r\nL 32.078125 72.90625 \r\nQ 44.34375 72.90625 50.609375 67.359375 \r\nQ 56.890625 61.8125 56.890625 51.125 \r\nQ 56.890625 40.328125 50.609375 34.8125 \r\nQ 44.34375 29.296875 32.078125 29.296875 \r\nL 19.671875 29.296875 \r\nL 19.671875 0 \r\nL 9.8125 0 \r\nz\r\n\" id=\"DejaVuSans-80\"/>\r\n       <path d=\"M 39.40625 66.21875 \r\nQ 28.65625 66.21875 22.328125 58.203125 \r\nQ 16.015625 50.203125 16.015625 36.375 \r\nQ 16.015625 22.609375 22.328125 14.59375 \r\nQ 28.65625 6.59375 39.40625 6.59375 \r\nQ 50.140625 6.59375 56.421875 14.59375 \r\nQ 62.703125 22.609375 62.703125 36.375 \r\nQ 62.703125 50.203125 56.421875 58.203125 \r\nQ 50.140625 66.21875 39.40625 66.21875 \r\nz\r\nM 39.40625 74.21875 \r\nQ 54.734375 74.21875 63.90625 63.9375 \r\nQ 73.09375 53.65625 73.09375 36.375 \r\nQ 73.09375 19.140625 63.90625 8.859375 \r\nQ 54.734375 -1.421875 39.40625 -1.421875 \r\nQ 24.03125 -1.421875 14.8125 8.828125 \r\nQ 5.609375 19.09375 5.609375 36.375 \r\nQ 5.609375 53.65625 14.8125 63.9375 \r\nQ 24.03125 74.21875 39.40625 74.21875 \r\nz\r\n\" id=\"DejaVuSans-79\"/>\r\n       <path d=\"M 9.8125 72.90625 \r\nL 19.671875 72.90625 \r\nL 19.671875 0 \r\nL 9.8125 0 \r\nz\r\n\" id=\"DejaVuSans-73\"/>\r\n      </defs>\r\n      <use xlink:href=\"#DejaVuSans-80\"/>\r\n      <use x=\"60.302734\" xlink:href=\"#DejaVuSans-79\"/>\r\n      <use x=\"139.013672\" xlink:href=\"#DejaVuSans-73\"/>\r\n     </g>\r\n    </g>\r\n   </g>\r\n   <g id=\"matplotlib.axis_2\">\r\n    <g id=\"ytick_1\">\r\n     <g id=\"line2d_5\">\r\n      <defs>\r\n       <path d=\"M 0 0 \r\nL -3.5 0 \r\n\" id=\"mda2b7c8bf9\" style=\"stroke:#000000;stroke-width:0.8;\"/>\r\n      </defs>\r\n      <g>\r\n       <use style=\"stroke:#000000;stroke-width:0.8;\" x=\"48.90125\" xlink:href=\"#mda2b7c8bf9\" y=\"224.804528\"/>\r\n      </g>\r\n     </g>\r\n     <g id=\"text_6\">\r\n      <!-- 0 -->\r\n      <g transform=\"translate(35.53875 228.603747)scale(0.1 -0.1)\">\r\n       <defs>\r\n        <path d=\"M 31.78125 66.40625 \r\nQ 24.171875 66.40625 20.328125 58.90625 \r\nQ 16.5 51.421875 16.5 36.375 \r\nQ 16.5 21.390625 20.328125 13.890625 \r\nQ 24.171875 6.390625 31.78125 6.390625 \r\nQ 39.453125 6.390625 43.28125 13.890625 \r\nQ 47.125 21.390625 47.125 36.375 \r\nQ 47.125 51.421875 43.28125 58.90625 \r\nQ 39.453125 66.40625 31.78125 66.40625 \r\nz\r\nM 31.78125 74.21875 \r\nQ 44.046875 74.21875 50.515625 64.515625 \r\nQ 56.984375 54.828125 56.984375 36.375 \r\nQ 56.984375 17.96875 50.515625 8.265625 \r\nQ 44.046875 -1.421875 31.78125 -1.421875 \r\nQ 19.53125 -1.421875 13.0625 8.265625 \r\nQ 6.59375 17.96875 6.59375 36.375 \r\nQ 6.59375 54.828125 13.0625 64.515625 \r\nQ 19.53125 74.21875 31.78125 74.21875 \r\nz\r\n\" id=\"DejaVuSans-48\"/>\r\n       </defs>\r\n       <use xlink:href=\"#DejaVuSans-48\"/>\r\n      </g>\r\n     </g>\r\n    </g>\r\n    <g id=\"ytick_2\">\r\n     <g id=\"line2d_6\">\r\n      <g>\r\n       <use style=\"stroke:#000000;stroke-width:0.8;\" x=\"48.90125\" xlink:href=\"#mda2b7c8bf9\" y=\"194.260913\"/>\r\n      </g>\r\n     </g>\r\n     <g id=\"text_7\">\r\n      <!-- 50 -->\r\n      <g transform=\"translate(29.17625 198.060132)scale(0.1 -0.1)\">\r\n       <defs>\r\n        <path d=\"M 10.796875 72.90625 \r\nL 49.515625 72.90625 \r\nL 49.515625 64.59375 \r\nL 19.828125 64.59375 \r\nL 19.828125 46.734375 \r\nQ 21.96875 47.46875 24.109375 47.828125 \r\nQ 26.265625 48.1875 28.421875 48.1875 \r\nQ 40.625 48.1875 47.75 41.5 \r\nQ 54.890625 34.8125 54.890625 23.390625 \r\nQ 54.890625 11.625 47.5625 5.09375 \r\nQ 40.234375 -1.421875 26.90625 -1.421875 \r\nQ 22.3125 -1.421875 17.546875 -0.640625 \r\nQ 12.796875 0.140625 7.71875 1.703125 \r\nL 7.71875 11.625 \r\nQ 12.109375 9.234375 16.796875 8.0625 \r\nQ 21.484375 6.890625 26.703125 6.890625 \r\nQ 35.15625 6.890625 40.078125 11.328125 \r\nQ 45.015625 15.765625 45.015625 23.390625 \r\nQ 45.015625 31 40.078125 35.4375 \r\nQ 35.15625 39.890625 26.703125 39.890625 \r\nQ 22.75 39.890625 18.8125 39.015625 \r\nQ 14.890625 38.140625 10.796875 36.28125 \r\nz\r\n\" id=\"DejaVuSans-53\"/>\r\n       </defs>\r\n       <use xlink:href=\"#DejaVuSans-53\"/>\r\n       <use x=\"63.623047\" xlink:href=\"#DejaVuSans-48\"/>\r\n      </g>\r\n     </g>\r\n    </g>\r\n    <g id=\"ytick_3\">\r\n     <g id=\"line2d_7\">\r\n      <g>\r\n       <use style=\"stroke:#000000;stroke-width:0.8;\" x=\"48.90125\" xlink:href=\"#mda2b7c8bf9\" y=\"163.717297\"/>\r\n      </g>\r\n     </g>\r\n     <g id=\"text_8\">\r\n      <!-- 100 -->\r\n      <g transform=\"translate(22.81375 167.516516)scale(0.1 -0.1)\">\r\n       <defs>\r\n        <path d=\"M 12.40625 8.296875 \r\nL 28.515625 8.296875 \r\nL 28.515625 63.921875 \r\nL 10.984375 60.40625 \r\nL 10.984375 69.390625 \r\nL 28.421875 72.90625 \r\nL 38.28125 72.90625 \r\nL 38.28125 8.296875 \r\nL 54.390625 8.296875 \r\nL 54.390625 0 \r\nL 12.40625 0 \r\nz\r\n\" id=\"DejaVuSans-49\"/>\r\n       </defs>\r\n       <use xlink:href=\"#DejaVuSans-49\"/>\r\n       <use x=\"63.623047\" xlink:href=\"#DejaVuSans-48\"/>\r\n       <use x=\"127.246094\" xlink:href=\"#DejaVuSans-48\"/>\r\n      </g>\r\n     </g>\r\n    </g>\r\n    <g id=\"ytick_4\">\r\n     <g id=\"line2d_8\">\r\n      <g>\r\n       <use style=\"stroke:#000000;stroke-width:0.8;\" x=\"48.90125\" xlink:href=\"#mda2b7c8bf9\" y=\"133.173681\"/>\r\n      </g>\r\n     </g>\r\n     <g id=\"text_9\">\r\n      <!-- 150 -->\r\n      <g transform=\"translate(22.81375 136.9729)scale(0.1 -0.1)\">\r\n       <use xlink:href=\"#DejaVuSans-49\"/>\r\n       <use x=\"63.623047\" xlink:href=\"#DejaVuSans-53\"/>\r\n       <use x=\"127.246094\" xlink:href=\"#DejaVuSans-48\"/>\r\n      </g>\r\n     </g>\r\n    </g>\r\n    <g id=\"ytick_5\">\r\n     <g id=\"line2d_9\">\r\n      <g>\r\n       <use style=\"stroke:#000000;stroke-width:0.8;\" x=\"48.90125\" xlink:href=\"#mda2b7c8bf9\" y=\"102.630066\"/>\r\n      </g>\r\n     </g>\r\n     <g id=\"text_10\">\r\n      <!-- 200 -->\r\n      <g transform=\"translate(22.81375 106.429285)scale(0.1 -0.1)\">\r\n       <defs>\r\n        <path d=\"M 19.1875 8.296875 \r\nL 53.609375 8.296875 \r\nL 53.609375 0 \r\nL 7.328125 0 \r\nL 7.328125 8.296875 \r\nQ 12.9375 14.109375 22.625 23.890625 \r\nQ 32.328125 33.6875 34.8125 36.53125 \r\nQ 39.546875 41.84375 41.421875 45.53125 \r\nQ 43.3125 49.21875 43.3125 52.78125 \r\nQ 43.3125 58.59375 39.234375 62.25 \r\nQ 35.15625 65.921875 28.609375 65.921875 \r\nQ 23.96875 65.921875 18.8125 64.3125 \r\nQ 13.671875 62.703125 7.8125 59.421875 \r\nL 7.8125 69.390625 \r\nQ 13.765625 71.78125 18.9375 73 \r\nQ 24.125 74.21875 28.421875 74.21875 \r\nQ 39.75 74.21875 46.484375 68.546875 \r\nQ 53.21875 62.890625 53.21875 53.421875 \r\nQ 53.21875 48.921875 51.53125 44.890625 \r\nQ 49.859375 40.875 45.40625 35.40625 \r\nQ 44.1875 33.984375 37.640625 27.21875 \r\nQ 31.109375 20.453125 19.1875 8.296875 \r\nz\r\n\" id=\"DejaVuSans-50\"/>\r\n       </defs>\r\n       <use xlink:href=\"#DejaVuSans-50\"/>\r\n       <use x=\"63.623047\" xlink:href=\"#DejaVuSans-48\"/>\r\n       <use x=\"127.246094\" xlink:href=\"#DejaVuSans-48\"/>\r\n      </g>\r\n     </g>\r\n    </g>\r\n    <g id=\"ytick_6\">\r\n     <g id=\"line2d_10\">\r\n      <g>\r\n       <use style=\"stroke:#000000;stroke-width:0.8;\" x=\"48.90125\" xlink:href=\"#mda2b7c8bf9\" y=\"72.08645\"/>\r\n      </g>\r\n     </g>\r\n     <g id=\"text_11\">\r\n      <!-- 250 -->\r\n      <g transform=\"translate(22.81375 75.885669)scale(0.1 -0.1)\">\r\n       <use xlink:href=\"#DejaVuSans-50\"/>\r\n       <use x=\"63.623047\" xlink:href=\"#DejaVuSans-53\"/>\r\n       <use x=\"127.246094\" xlink:href=\"#DejaVuSans-48\"/>\r\n      </g>\r\n     </g>\r\n    </g>\r\n    <g id=\"ytick_7\">\r\n     <g id=\"line2d_11\">\r\n      <g>\r\n       <use style=\"stroke:#000000;stroke-width:0.8;\" x=\"48.90125\" xlink:href=\"#mda2b7c8bf9\" y=\"41.542834\"/>\r\n      </g>\r\n     </g>\r\n     <g id=\"text_12\">\r\n      <!-- 300 -->\r\n      <g transform=\"translate(22.81375 45.342053)scale(0.1 -0.1)\">\r\n       <defs>\r\n        <path d=\"M 40.578125 39.3125 \r\nQ 47.65625 37.796875 51.625 33 \r\nQ 55.609375 28.21875 55.609375 21.1875 \r\nQ 55.609375 10.40625 48.1875 4.484375 \r\nQ 40.765625 -1.421875 27.09375 -1.421875 \r\nQ 22.515625 -1.421875 17.65625 -0.515625 \r\nQ 12.796875 0.390625 7.625 2.203125 \r\nL 7.625 11.71875 \r\nQ 11.71875 9.328125 16.59375 8.109375 \r\nQ 21.484375 6.890625 26.8125 6.890625 \r\nQ 36.078125 6.890625 40.9375 10.546875 \r\nQ 45.796875 14.203125 45.796875 21.1875 \r\nQ 45.796875 27.640625 41.28125 31.265625 \r\nQ 36.765625 34.90625 28.71875 34.90625 \r\nL 20.21875 34.90625 \r\nL 20.21875 43.015625 \r\nL 29.109375 43.015625 \r\nQ 36.375 43.015625 40.234375 45.921875 \r\nQ 44.09375 48.828125 44.09375 54.296875 \r\nQ 44.09375 59.90625 40.109375 62.90625 \r\nQ 36.140625 65.921875 28.71875 65.921875 \r\nQ 24.65625 65.921875 20.015625 65.03125 \r\nQ 15.375 64.15625 9.8125 62.3125 \r\nL 9.8125 71.09375 \r\nQ 15.4375 72.65625 20.34375 73.4375 \r\nQ 25.25 74.21875 29.59375 74.21875 \r\nQ 40.828125 74.21875 47.359375 69.109375 \r\nQ 53.90625 64.015625 53.90625 55.328125 \r\nQ 53.90625 49.265625 50.4375 45.09375 \r\nQ 46.96875 40.921875 40.578125 39.3125 \r\nz\r\n\" id=\"DejaVuSans-51\"/>\r\n       </defs>\r\n       <use xlink:href=\"#DejaVuSans-51\"/>\r\n       <use x=\"63.623047\" xlink:href=\"#DejaVuSans-48\"/>\r\n       <use x=\"127.246094\" xlink:href=\"#DejaVuSans-48\"/>\r\n      </g>\r\n     </g>\r\n    </g>\r\n    <g id=\"ytick_8\">\r\n     <g id=\"line2d_12\">\r\n      <g>\r\n       <use style=\"stroke:#000000;stroke-width:0.8;\" x=\"48.90125\" xlink:href=\"#mda2b7c8bf9\" y=\"10.999219\"/>\r\n      </g>\r\n     </g>\r\n     <g id=\"text_13\">\r\n      <!-- 350 -->\r\n      <g transform=\"translate(22.81375 14.798437)scale(0.1 -0.1)\">\r\n       <use xlink:href=\"#DejaVuSans-51\"/>\r\n       <use x=\"63.623047\" xlink:href=\"#DejaVuSans-53\"/>\r\n       <use x=\"127.246094\" xlink:href=\"#DejaVuSans-48\"/>\r\n      </g>\r\n     </g>\r\n    </g>\r\n    <g id=\"text_14\">\r\n     <!-- Number of Occurrences -->\r\n     <g transform=\"translate(16.318125 187.212653)rotate(-90)scale(0.12 -0.12)\">\r\n      <defs>\r\n       <path d=\"M 9.8125 72.90625 \r\nL 23.09375 72.90625 \r\nL 55.421875 11.921875 \r\nL 55.421875 72.90625 \r\nL 64.984375 72.90625 \r\nL 64.984375 0 \r\nL 51.703125 0 \r\nL 19.390625 60.984375 \r\nL 19.390625 0 \r\nL 9.8125 0 \r\nz\r\n\" id=\"DejaVuSans-78\"/>\r\n       <path d=\"M 37.109375 75.984375 \r\nL 37.109375 68.5 \r\nL 28.515625 68.5 \r\nQ 23.6875 68.5 21.796875 66.546875 \r\nQ 19.921875 64.59375 19.921875 59.515625 \r\nL 19.921875 54.6875 \r\nL 34.71875 54.6875 \r\nL 34.71875 47.703125 \r\nL 19.921875 47.703125 \r\nL 19.921875 0 \r\nL 10.890625 0 \r\nL 10.890625 47.703125 \r\nL 2.296875 47.703125 \r\nL 2.296875 54.6875 \r\nL 10.890625 54.6875 \r\nL 10.890625 58.5 \r\nQ 10.890625 67.625 15.140625 71.796875 \r\nQ 19.390625 75.984375 28.609375 75.984375 \r\nz\r\n\" id=\"DejaVuSans-102\"/>\r\n      </defs>\r\n      <use xlink:href=\"#DejaVuSans-78\"/>\r\n      <use x=\"74.804688\" xlink:href=\"#DejaVuSans-117\"/>\r\n      <use x=\"138.183594\" xlink:href=\"#DejaVuSans-109\"/>\r\n      <use x=\"235.595703\" xlink:href=\"#DejaVuSans-98\"/>\r\n      <use x=\"299.072266\" xlink:href=\"#DejaVuSans-101\"/>\r\n      <use x=\"360.595703\" xlink:href=\"#DejaVuSans-114\"/>\r\n      <use x=\"401.708984\" xlink:href=\"#DejaVuSans-32\"/>\r\n      <use x=\"433.496094\" xlink:href=\"#DejaVuSans-111\"/>\r\n      <use x=\"494.677734\" xlink:href=\"#DejaVuSans-102\"/>\r\n      <use x=\"529.882812\" xlink:href=\"#DejaVuSans-32\"/>\r\n      <use x=\"561.669922\" xlink:href=\"#DejaVuSans-79\"/>\r\n      <use x=\"640.380859\" xlink:href=\"#DejaVuSans-99\"/>\r\n      <use x=\"695.361328\" xlink:href=\"#DejaVuSans-99\"/>\r\n      <use x=\"750.341797\" xlink:href=\"#DejaVuSans-117\"/>\r\n      <use x=\"813.720703\" xlink:href=\"#DejaVuSans-114\"/>\r\n      <use x=\"853.083984\" xlink:href=\"#DejaVuSans-114\"/>\r\n      <use x=\"891.947266\" xlink:href=\"#DejaVuSans-101\"/>\r\n      <use x=\"953.470703\" xlink:href=\"#DejaVuSans-110\"/>\r\n      <use x=\"1016.849609\" xlink:href=\"#DejaVuSans-99\"/>\r\n      <use x=\"1071.830078\" xlink:href=\"#DejaVuSans-101\"/>\r\n      <use x=\"1133.353516\" xlink:href=\"#DejaVuSans-115\"/>\r\n     </g>\r\n    </g>\r\n   </g>\r\n   <g id=\"line2d_13\">\r\n    <path clip-path=\"url(#pac8ad6c225)\" d=\"M 0 0 \r\n\" style=\"fill:none;stroke:#424242;stroke-linecap:square;stroke-width:2.7;\"/>\r\n   </g>\r\n   <g id=\"line2d_14\">\r\n    <path clip-path=\"url(#pac8ad6c225)\" d=\"M 0 0 \r\n\" style=\"fill:none;stroke:#424242;stroke-linecap:square;stroke-width:2.7;\"/>\r\n   </g>\r\n   <g id=\"line2d_15\">\r\n    <path clip-path=\"url(#pac8ad6c225)\" d=\"M 0 0 \r\n\" style=\"fill:none;stroke:#424242;stroke-linecap:square;stroke-width:2.7;\"/>\r\n   </g>\r\n   <g id=\"line2d_16\">\r\n    <path clip-path=\"url(#pac8ad6c225)\" d=\"M 0 0 \r\n\" style=\"fill:none;stroke:#424242;stroke-linecap:square;stroke-width:2.7;\"/>\r\n   </g>\r\n   <g id=\"patch_7\">\r\n    <path d=\"M 48.90125 224.804528 \r\nL 48.90125 7.364528 \r\n\" style=\"fill:none;stroke:#000000;stroke-linecap:square;stroke-linejoin:miter;stroke-width:0.8;\"/>\r\n   </g>\r\n   <g id=\"patch_8\">\r\n    <path d=\"M 718.50125 224.804528 \r\nL 718.50125 7.364528 \r\n\" style=\"fill:none;stroke:#000000;stroke-linecap:square;stroke-linejoin:miter;stroke-width:0.8;\"/>\r\n   </g>\r\n   <g id=\"patch_9\">\r\n    <path d=\"M 48.90125 224.804528 \r\nL 718.50125 224.804528 \r\n\" style=\"fill:none;stroke:#000000;stroke-linecap:square;stroke-linejoin:miter;stroke-width:0.8;\"/>\r\n   </g>\r\n   <g id=\"patch_10\">\r\n    <path d=\"M 48.90125 7.364528 \r\nL 718.50125 7.364528 \r\n\" style=\"fill:none;stroke:#000000;stroke-linecap:square;stroke-linejoin:miter;stroke-width:0.8;\"/>\r\n   </g>\r\n  </g>\r\n </g>\r\n <defs>\r\n  <clipPath id=\"pac8ad6c225\">\r\n   <rect height=\"217.44\" width=\"669.6\" x=\"48.90125\" y=\"7.364528\"/>\r\n  </clipPath>\r\n </defs>\r\n</svg>\r\n",
      "image/png": "[encoded data removed]"
     },
     "metadata": {
      "needs_background": "light"
     }
    }
   ],
   "source": [
    "#Display POI\n",
    "cnt_pro = df_train['POI'].value_counts()\n",
    "plt.figure(figsize=(12,4))\n",
    "sns.barplot(cnt_pro[1:5].index, cnt_pro[1:5].values, alpha=0.8)\n",
    "plt.ylabel('Number of Occurrences', fontsize=12)\n",
    "plt.xlabel('POI', fontsize=12)\n",
    "plt.xticks(rotation=90)\n",
    "plt.show()"
   ]
  },
  {
   "source": [
    "## Tokenization"
   ],
   "cell_type": "markdown",
   "metadata": {}
  },
  {
   "cell_type": "code",
   "execution_count": 143,
   "metadata": {},
   "outputs": [],
   "source": [
    "def tokenize(contents):\n",
    "  allAddresses = contents\n",
    "  tokens = []\n",
    "  for address in allAddresses:\n",
    "    words = address.split()\n",
    "    for word in words:\n",
    "      tokens.append(word.lower())\n",
    "  return tokens"
   ]
  },
  {
   "cell_type": "code",
   "execution_count": 144,
   "metadata": {
    "tags": []
   },
   "outputs": [],
   "source": [
    "#Get Tokens\n",
    "trainX_tokens = tokenize(df_train.raw_address)\n",
    "trainY1_tokens = tokenize(df_train.POI)\n",
    "trainY2_tokens = tokenize(df_train.street)"
   ]
  },
  {
   "cell_type": "code",
   "execution_count": 145,
   "metadata": {},
   "outputs": [
    {
     "output_type": "stream",
     "name": "stdout",
     "text": [
      "raw address:  2052655\nPOI:  343135\nstreet:  514871\n"
     ]
    }
   ],
   "source": [
    "#Number of tokens found\n",
    "print(\"raw address: \",len(trainX_tokens))\n",
    "print(\"POI: \",len(trainY1_tokens))\n",
    "print(\"street: \",len(trainY2_tokens))"
   ]
  },
  {
   "cell_type": "code",
   "execution_count": 146,
   "metadata": {},
   "outputs": [
    {
     "output_type": "stream",
     "name": "stdout",
     "text": [
      "raw address:  121318\nPOI:  53246\nstreet:  23866\n"
     ]
    }
   ],
   "source": [
    "# number of UNIQUE tokens found\n",
    "print(\"raw address: \",len(set(trainX_tokens)))\n",
    "print(\"POI: \",len(set(trainY1_tokens)))\n",
    "print(\"street: \",len(set(trainY2_tokens)))\n",
    "\n",
    "vocabulary = set(trainX_tokens)\n",
    "vocab_size = len(vocabulary)"
   ]
  },
  {
   "cell_type": "code",
   "execution_count": 147,
   "metadata": {},
   "outputs": [
    {
     "output_type": "execute_result",
     "data": {
      "text/plain": [
       "['no', 'rt', 'raya', '1', 'rw']"
      ]
     },
     "metadata": {},
     "execution_count": 147
    }
   ],
   "source": [
    "frequency_dist = nltk.FreqDist(trainX_tokens)\n",
    "#Show top 50 tokens\n",
    "sorted(frequency_dist,key=frequency_dist.__getitem__, reverse=True)[0:5]"
   ]
  },
  {
   "source": [
    "## Set Up the Model"
   ],
   "cell_type": "markdown",
   "metadata": {}
  },
  {
   "cell_type": "code",
   "execution_count": 148,
   "metadata": {},
   "outputs": [],
   "source": [
    "raws = df_train['raw_address']\n",
    "pois = df_train['POI']"
   ]
  },
  {
   "cell_type": "code",
   "execution_count": 164,
   "metadata": {},
   "outputs": [],
   "source": [
    "# TOKENIZE TEXT SEQUENCE\n",
    "tokenizer = Tokenizer()\n",
    "tokenizer.fit_on_texts(df_train['raw_address'].values)"
   ]
  },
  {
   "cell_type": "code",
   "execution_count": 150,
   "metadata": {},
   "outputs": [
    {
     "output_type": "stream",
     "name": "stdout",
     "text": [
      "Shape of data tensor: (300000, 33)\n"
     ]
    }
   ],
   "source": [
    "X = tokenizer.texts_to_sequences(df_train['raw_address'].values)\n",
    "X = pad_sequences(X)\n",
    "print('Shape of data tensor:', X.shape)"
   ]
  },
  {
   "cell_type": "code",
   "execution_count": 151,
   "metadata": {},
   "outputs": [
    {
     "output_type": "stream",
     "name": "stdout",
     "text": [
      "Shape of data tensor: (300000, 23)\n"
     ]
    }
   ],
   "source": [
    "Y = tokenizer.texts_to_sequences(df_train['POI'].values)\n",
    "Y = pad_sequences(Y)\n",
    "print('Shape of data tensor:', Y.shape)"
   ]
  },
  {
   "cell_type": "code",
   "execution_count": 153,
   "metadata": {},
   "outputs": [
    {
     "output_type": "execute_result",
     "data": {
      "text/plain": [
       "la tamalate',\n",
       " 'badan pertan nasional kabupaten jayawi wamena kota wamena',\n",
       " 'ir suci 31 pasar sayur pagi gg bakar',\n",
       " 'warung bunda july macc sawah maccini gusung',\n",
       " 'tanah tinggi asian high 25 117 binjai timur',\n",
       " 'jl raya ser cikande jayanti',\n",
       " 'gatot subr cikarang utara',\n",
       " 'kutisari kuti indah utara x 70 6 tenggilis mejoyo',\n",
       " 'gd graha matapel jalan arjuna utara no 46 duri kepa',\n",
       " 'pandean lamper bant utara xi rw 5 gayamsari',\n",
       " 'teuku umar barat 99 kerobokan kelod kuta utara',\n",
       " 'bojongherang ir haji djua no 40 43216 cianjur',\n",
       " 'perumahan wahana cikarang blok f12 no 17 sukadami cikarang selatan',\n",
       " 'dir i 4 bandung kulon',\n",
       " 'raya pasar kemis gelam jaya kel',\n",
       " 'smk bhakti kartini jalan caringin no 8 jembatan 14 bojong menteng',\n",
       " 'kap cek syeh 183 ilir timur i',\n",
       " 'rm cak anjun kh agus salim kepek wonosari',\n",
       " 'hang tuah madras hulu kel',\n",
       " 'tura barat i no 10 40263 lengkong',\n",
       " 'soto bu nah bibis kasihan',\n",
       " 'sug pran upt mojogedang',\n",
       " 'gg perm i 87 jawa singkawang tengah',\n",
       " 'mulia elektr vete tipes serengan',\n",
       " 'tmp kali martabak top bandung 55 rt 4 7',\n",
       " 'usman cell diponegoro gambiran',\n",
       " 'sul sya kasim kampung dalam siak',\n",
       " 'mel 9 bantaeng',\n",
       " 'bengkulu tengah gula tubu gunung labuhan',\n",
       " 'mariso gagak no 27 90121 mariso',\n",
       " 'wr ayu ratna denpasar utara',\n",
       " 'toko crn gar sakti',\n",
       " 'the cell raya ubu nyerot jonggat',\n",
       " 'sida anda gaddong bontoala',\n",
       " 'sukamaju jl bukit ment ruko bukit ment r3 2 jonggol',\n",
       " 'merd no a18 14 pon kur lassofi',\n",
       " 'btn kolam blok l 39 doyo baru',\n",
       " 'kantor camat mbeliling',\n",
       " 'masjid al amin widodaren',\n",
       " 'tk kesaya mutiara blang kolak i bebesen',\n",
       " 'sla riyadi negara indonesia',\n",
       " 'karet pasar ba bar no 36 rt 12 rw 4 tanah abang',\n",
       " 'colu ten ii 15 nagrak gunung putri',\n",
       " 'marga sari 16 babelan',\n",
       " 'pang sudi 17 19 67115 purworejo',\n",
       " 'war mbah suwar purwo martani kalasan',\n",
       " 'talang buluh tal kera 1 30961 talang kelapa',\n",
       " 'sd panca dharma don bosco 1 bule timur kel gading 8 rt 1 16',\n",
       " 'rizky baro',\n",
       " 'kerta bakti 17 dukuhwaru kel dukuhwaru',\n",
       " 'kam i 46 utan kayu selatan 6',\n",
       " 'benoa werdi media cem ii no 4 kuta selatan',\n",
       " 'raya jat pasar minggu',\n",
       " 'kludan rt 03 rw 03 belakang sdn kludan',\n",
       " 'gbi sak sak cengkareng barat',\n",
       " 'miea dan bakso kra wangandawa',\n",
       " 'cluster griya sakinah tahap 2 no a5 rt 06 rw 04 jatikramat jatiasih',\n",
       " 'petamburan 3 5b rt 2 3 tanah abang',\n",
       " 'bumi daya raya 9a cinere 9 cinere',\n",
       " 'warung ibu diva kay 54 rw 4 60271',\n",
       " 'kup kra i kupang krajan sawahan',\n",
       " 'bank rakyat indonesia pisa baru ten no 37a 14 13110 matraman',\n",
       " 'karangmangu ser ii 6 53282',\n",
       " 'raya taman asri no 32 waru',\n",
       " 'kapuas kanan hulu kolo sugi 82 78613 sintang',\n",
       " 'cipi muara raya jatinegara',\n",
       " 'nusa indah 8 serua ciputat',\n",
       " 'macc gus',\n",
       " 'al maqbul jalan raya kuwolu rt 9 rw 3',\n",
       " 'bat internasional finansindo pt gajah mada no 13cd rw 1',\n",
       " 'alian 21 toko optimal',\n",
       " 'ruko perm cibu no 27 toko uda colection cileungsi kidul cileungsi',\n",
       " 'lin timur kios ika sekijang bandar sei kijang',\n",
       " 'jelambar emp baha gg ix emp baha 4 no 60 rt 11 6 grogol petamburan',\n",
       " 'getuk goreng murni asli soka',\n",
       " 'pondok labu pon labu i 36c rt 2 7 cilandak',\n",
       " 'kamp baba 19 pasirkuda bogor barat kota',\n",
       " 'raya mess al 46 rt 6 1 jatiraden jati sampurna',\n",
       " 'indu pasir gomb 98 rt 3 2 pasirgombong cikarang utara',\n",
       " 'mts swa raudl huda sukoharjo suko harjo kalitidu',\n",
       " 'pancar utama abadi pt ling no 583 30125 ilir timur i',\n",
       " 'munir nurana fam kena 2 pringsewu utara pringsewu',\n",
       " 'angkringan mas eva wonokromo',\n",
       " 'cafe es durian ok merp sakti tampan',\n",
       " 'majelis tak kori pagentan',\n",
       " 'sadang serang cal no 38 40133 coblong',\n",
       " 'jatisampurna tanj 2 17 rt 21 12 jati sampurna',\n",
       " 'antang raya bar 2 manggala',\n",
       " 'baru kel',\n",
       " 'masjid al hidayah pisa no 19',\n",
       " 'tebet raya 1 rt 10 1 12810 tebet',\n",
       " 'condongcatur jemb merah iv 138 55281 depok',\n",
       " 'sido mulyo ring road sidorejo',\n",
       " 'gg arra semayap',\n",
       " 'itc mangga dua lantai 3 jaka utara man d raya ancol pademangan',\n",
       " 'para per 4 12 batununggal bandung kidul',\n",
       " 'way relai muara dua liwa 32274 buay pematang ribu ranau tengah',\n",
       " 'kebon baru asem baris sela ii 38b rt 1 6 12820 tebet',\n",
       " 'pada salakuray bayongbong',\n",
       " 'sed ix 16 morokrembangan 1 krembangan',\n",
       " 'kolo wahid udin 363 serasan jaya sekayu',\n",
       " 'kayu manis v 58 pamulang',\n",
       " 'salon khu putri nogo depok',\n",
       " 'mie ayam saptoroso persa',\n",
       " 'kemba raya',\n",
       " 'pejuang salak 8 2 rt 9 rw 20 17131',\n",
       " 'di hoek barber lapa bola no 18 rw 7',\n",
       " 'kamp bali 3 no 9 tasya 7 tanah abang',\n",
       " 'kamp sumur utara 95 rt 4 10 klender duren sawit',\n",
       " 'war ijo dr wahidin sudiroh',\n",
       " 'ahmad yani no 16 toko aneka sukma jaya',\n",
       " 'kh abdu 56 sangatta utara sangatta utara',\n",
       " 'panaw 174 cilimus',\n",
       " 's pare no 49 war cita rasa makassar',\n",
       " 'karang tengah hos cokr 3606 rt 1 1 15157 karang tengah',\n",
       " 'ngemplak rt02 rw29 timur jembatan biru warung sayur bu ratmi mojosongo',\n",
       " 'komp bapp siaga raya 50 b pejaten barat rt 2 3 pasar minggu',\n",
       " 'yayasan gugah nur indon kel gad kelapa gading barat',\n",
       " 'putri merak jingga no 3 indomaret',\n",
       " 'jl taman setia budi i 3 karet kuningan setia budi',\n",
       " 'rejowinangun selatan mage yog no 127 59214 magelang selatan',\n",
       " 'sul agung tirta no 256 pt antar mitra sembada cab cirebon kedungdawa kedawung',\n",
       " 'coklat rice segoroyoso',\n",
       " 'samping indomaret tegal parang ada gang kecil masuk',\n",
       " 'simpang tiga bukit raya indah no 5 28288 bukit raya',\n",
       " 'bansir laut tanj sari no 105 78113 pontianak tenggara',\n",
       " 'kebon dalem i 15 rt 1 7 simolawang simokerto',\n",
       " 'kamp mel kecil 34 rt 14 10 bukit duri',\n",
       " 'pt ispiran adi tama',\n",
       " 'amb war kopi',\n",
       " 'kuni barat 1 no 29a kuningan barat rt 12 1 mampang prapatan',\n",
       " 'kedaung kali angke kel green diam 2 no 19 rw 10 11710 cengkareng',\n",
       " 'cend sigulang gulang kel siantar utara',\n",
       " 'kamal raya no 23b rudy club rt 13 11 kapuk cengkareng',\n",
       " 'pala tent pela donoharjo ngaglik',\n",
       " 'amir mah 815 padasuka cimahi tengah',\n",
       " 'de latinos cluster hacienda mexicano blok c2 no 12 serpong tangerang selatan banten',\n",
       " 'ma sunan kali karang suraga cinangka',\n",
       " 'petukangan selatan m saidi raya no 07 06 rt 10 6',\n",
       " 'hayam wuruk 50 sawotratap rt 3 rw 7 gedangan',\n",
       " 'karet tengsin karet pasar baru barat ii no 30 rt 7 7 tanah abang',\n",
       " 'jack janis wa tlp asrama brimob kotaraja rt 02 rw 03',\n",
       " 'depan taman wilis bangunan baru dibangung gerbang hitam',\n",
       " 'warung cobek tipar cak suka pura',\n",
       " 'm p r iv cilandak barat cilandak',\n",
       " 'panj sukabumi utara kel',\n",
       " 'kar ten raya no 14b lebak bulus 3 cilandak',\n",
       " 'desa beringin sakti jorong sakato dusun3 timpeh 2 sp3',\n",
       " 'taus gg rukun no 157 sidorejo hilir medan tembung',\n",
       " 'beng muji kandang',\n",
       " 'gg h jum i no 66 rt 4 12 ciledug',\n",
       " 'war lestari berjaya poros tangettada',\n",
       " 'pt radio losta masuari group kesatrian sawunggaling',\n",
       " 'kadip kidul no 11 ud yuni 1',\n",
       " 'gg iii 27 tambak wedi 2 kenjeran',\n",
       " 'h mo 51 rt 6 2 baru pasar rebo',\n",
       " 'swad 1 pejaten timur pasar minggu',\n",
       " 'galung kel tapalang',\n",
       " 'mail audio kh has asy',\n",
       " 'toko zidane raya cibungbulang',\n",
       " 'song cell raya setu ban geb bantargebang',\n",
       " 'pepara jembatan gantung pepara tanah grogot',\n",
       " 'nia sei lepan',\n",
       " 'ebony 2 95b bekasi timur',\n",
       " 'marta muara dua 16 martapura',\n",
       " 'ra leces sumberkedawung',\n",
       " 'pasir impun pasir impun 69 40191 mandalajati',\n",
       " 'elv coffee bundaran tugu cidayu',\n",
       " 'mon geudong merd tim 95 banda sakti',\n",
       " 'salon mayang perum palem muti no 8 prabumulih timur',\n",
       " 'kaum sela 95 batujajar barat batujajar',\n",
       " 'lamper lor lamper kidul semarang selatan',\n",
       " 'gerbang permai pamengkang blok b1 no 3 samping rumah pa guntur titip di pa guntur',\n",
       " 'sd inp kebon pala makasar',\n",
       " 'bengkel las setia karya kampung lima jl jenderal sudirman',\n",
       " 'utan kayu raya 90 utan kayu utara rt 12 5 matraman',\n",
       " 'kel dua raya gg mel tugu cimanggis',\n",
       " 'saung gembira alan bendungan ciawi',\n",
       " 'cip raya no 61 warmindo mang urip rw 4 cilandak',\n",
       " 'jl kena baru 5 108 palur jaten',\n",
       " 'jl ahmad yani 498 tirto pekalongan barat',\n",
       " 'tanah abang timur gambir',\n",
       " 'cengkareng barat pulo hara indah 132 rt 11 rw 10 cengkareng',\n",
       " 'sate i paccerakkang',\n",
       " 'gantu pura no 110 pasirhalang cisarua',\n",
       " 'slogohimo niki slogohimo',\n",
       " 'let s par 80b kota bambu selatan 9 palmerah',\n",
       " 'kar tine 3 cipedes sukajadi',\n",
       " 'pemban 3 16 6 kelapa dua wetan ciracas',\n",
       " 'mushalla baitul raya gun halu gununghalu gununghalu',\n",
       " 'randu timur lebar iii sidotopo wetan kel',\n",
       " 'gunung kembang syamsuddin c 20 sarolangun',\n",
       " 'pai rowob gesikan',\n",
       " 'kali barat 8 13 kali baru rt 7 1 cilincing',\n",
       " 'war nasi bu eput teru gem sari',\n",
       " 'cv daffa net kap yusuf ciomas',\n",
       " 'apartemen casablanca mansion jl raya casablanca kav 9 tebet jaksel',\n",
       " 'arca cakranegara',\n",
       " 'kota ayodhya residence jl mh thamrin tower jade unit 1808',\n",
       " 'gatot subr 5',\n",
       " 'raya sama mekarwangi tarogong kaler',\n",
       " 'jatijajar jatij 2 gg al chas iv 22 rt 4 9 16455 tapos',\n",
       " 'nani warta 100 96134 kota timur',\n",
       " 'sekarpuro sub raya no 2 65154 pakis',\n",
       " 'citra raya',\n",
       " 'gpi moria tugu pahlawan',\n",
       " 'panunggangan utara s panu 54 rt 7 rw 4 pinang penang',\n",
       " 'afa iii 69 sendangmulyo 17 tembalang',\n",
       " 'dong sukatani tapos',\n",
       " 'tukang tal jois sunggal',\n",
       " 'asam sukari raya cikaja',\n",
       " 'surya cakra pahl bubutan',\n",
       " 'sd negeri no 106 bat kuis no 111',\n",
       " 'empat lima wirasana purbalingga',\n",
       " 'cikini g iii 31 rt 10 3 menteng',\n",
       " 'bengkel sep sar paus tengkerang tengah',\n",
       " 'agen sto hpai sidos ii wonocolo',\n",
       " 'depan lapangan tangsi',\n",
       " 'kom cilandak',\n",
       " 'lakars no 42l rw 2 lakar santri',\n",
       " 'palm spring regency c93 rt 2 rw 7',\n",
       " 'sari 3 no 162 depok jaya pancoran mas',\n",
       " 'restu ibu cv kabup gladak anyar',\n",
       " 'nusan rawa makmur muara bangka hulu',\n",
       " 'bank rakyat indon peri kem no 90',\n",
       " 'rasau jaya 1 no 44 kuala dua kel sei sungai raya',\n",
       " 'bidan bahyanih am keb raya pelab ratu bantargadung',\n",
       " 'kampus 2 smk kp pasirj',\n",
       " 'alam boga inter pt bulakw',\n",
       " 'rm rank nusa indah condong catur',\n",
       " 'polindes parit rimba kecamatan kubu kabupaten kubu raya kalimantan barat',\n",
       " 'depot air isi ulang zam zam pasar thengok giwangretno sruweng',\n",
       " 'jab pasirkuda bogor barat kota',\n",
       " 'cinere apel 344 cinere',\n",
       " 'alfamart raya kut 15928',\n",
       " 'mel nologaten ponorogo',\n",
       " 'sudimara pinang pal i 11 rt 4 2 pinang penang',\n",
       " 'depan stasiun klender pas sebelah salon laras kp jati rt03 01 no19a pintu i abangnya',\n",
       " 'bank mega kcp band pasirk lay pasu',\n",
       " 'jl irian bar gang buntu',\n",
       " 'jend sudi 88 teluk binjai dumai timur',\n",
       " 'badan pelaksanan penyul dan ketahanan pangan tb bakri lontarbaru',\n",
       " 'mung 127 balekambang rt 4 1 kramat jati',\n",
       " 'sepa raya periuk',\n",
       " 'apartement green bay tower borneo lt 9 cc jl pluit karang ayu barat no 1b pluit',\n",
       " 'bandar udara naha tahuna kampung naha',\n",
       " 'petukangan utara palem 2 8 12260 pesanggrahan',\n",
       " 'soto ayam rawon lamo pan sari 259 marga sari balikpapan barat',\n",
       " 'raja 1 40 55281 depok',\n",
       " 'sal 24 beji beji',\n",
       " 'pecel juwita syafa prabumu gunung ibul barat',\n",
       " 'perm vii',\n",
       " 'mad coffee',\n",
       " 'jalan asia afrika gedung wisma monex lantai 10',\n",
       " 'jl anoa 2 12 cibodas baru rt 3 8 cibodas',\n",
       " 'pulau adi teuku umar denpasar barat',\n",
       " 'beo medan denai',\n",
       " 'jawa jombang',\n",
       " 'hart indah blok 3 m parang tambung kel',\n",
       " 'gamp 35 jatiwaringin rt 5 rw 14 pondok gede',\n",
       " 'beri langgam langgam',\n",
       " 'r a kart pt technip indonesia cilandak',\n",
       " 'intercity kerli pt jend sudi',\n",
       " 'ario kemuning lor ogan kemuning',\n",
       " 'kh noer ali jaka sampurna bekasi selatan',\n",
       " 'gyu kaku paris van java jl sukajadi 139 141 paris van java resort level kavling b 60',\n",
       " 'raya limo meruyung kel limo',\n",
       " 'holik silver penjualan batu mulia raja 2',\n",
       " 'kebon rejo barat 29 kebonbatur',\n",
       " 'santi raya pasar cerme lor',\n",
       " 'wonorejo per vi',\n",
       " 'citra sudi indah pai biring kanaya',\n",
       " 'perum griya alam sentosa no b10 19 16828',\n",
       " 'limus nunggal kamp bakom no 45 rt 2 7 cileungsi',\n",
       " 'perumahan de diandra land jln kartama',\n",
       " 'dyna lang insti prof laf pane',\n",
       " 'pondok kopi haji mans 32 rt 3 2 duren sawit',\n",
       " 'raya jomb no 73 lam banda pondok pucung pondok aren',\n",
       " 'focus collec kebon jeruk 6 maphar taman sari',\n",
       " 'cibogo raya tangk par 47 40391',\n",
       " 'soto dag cak mul bhayan juwet kenongo porong',\n",
       " 'sun sadan 35 nunu palu barat',\n",
       " 'pt surya serba mulia laksa malahayati telukbetung selatan',\n",
       " 'wono no 40 banguntapan',\n",
       " 'tanj 1 no 6 rt 7 rw 2 jagakarsa',\n",
       " 'tukad penat 27 serangan denpasar selatan',\n",
       " 'flamb can no 9 sultan house of moshi pudd halal 12 rempoa',\n",
       " 'tegal mraen sendangadi mlati',\n",
       " 'rumah makan riyan kuta',\n",
       " 'i b bulakan balai kandih payakumbuh barat',\n",
       " 'forest hill jl raya kabasiran kabasiran parung panjang bogor west java',\n",
       " 'pad ii gg 5 3 rt 12 rw 6 pademangan',\n",
       " 'mawar raya 62 wanasari cibitung',\n",
       " 'teluk gong raya no 32 rubi murni perk pt rt 4 penjaringan',\n",
       " 'marto soto wijirejo',\n",
       " 'derw no 105a derwati rancasari',\n",
       " 'gerbang permai pamengkang f6 no8 cirebon',\n",
       " 'toko tripena brastagi berastagi',\n",
       " 'h n raya pondok gede',\n",
       " 'waru raya 62 jatimulya tambun selatan',\n",
       " 'siwa no 18 nyatnyono ungaran barat',\n",
       " 'sib barat 3 mojosongo jebres',\n",
       " 'kedung badak kol enjo mart 26 41 rt 5 12 16164 tanah sereal',\n",
       " 'ramona artiran bakery raya panc',\n",
       " 'haji namin cipete utara kel',\n",
       " 'purwoyoso purwo slt i 39 11 ngaliyan',\n",
       " 'kebo iwa 27 padangsambian kaja kel',\n",
       " 'maje tak arra abung barat',\n",
       " 'simomulyo sim baru vii no 41 5',\n",
       " 'menanggal jl gay timur mgp no 2 6 gayungan',\n",
       " 'war maknyak kutuk barat as 10',\n",
       " 'vina cell ampel gad ngijo',\n",
       " 'toko jam je one jl pocut baren no 44 a laksana',\n",
       " 'oleh oleh peuyeum khas bandung r e mar pulomerak',\n",
       " 'soek hatta no 726 ayam penyet and sam goang d 45 da situsaeur bojongloa kidul',\n",
       " 'mts tan wad asri dalam no 170',\n",
       " 'tre barat 3 mertasinga 3 cilacap utara',\n",
       " 'warung valen 27 gar kunjung mae',\n",
       " 'smp 13 no 39 krukut kel limo',\n",
       " 'villa verde timur no 23r',\n",
       " 'bugis jl jalal tantu kota timur',\n",
       " 'pluit pluit barat iiia 4 rt 16 7',\n",
       " 'air face clot asep regol',\n",
       " 'pondok karya agung no da 10 rt 19',\n",
       " 'gg buana rukun padangsambian denpasar barat',\n",
       " 'ice tea gopek tegal barat',\n",
       " 'lin bono balam merah pangkalan kuras',\n",
       " 'raya darmo per utara 34 7 pradahkalikendal dukuh pakis',\n",
       " 'timur kelapa gading gad putih raya utara 14 rt 11 12 kelapa gading',\n",
       " 'sentra mand consolindo pt sudi batam kota',\n",
       " 'gg usup ii rengas pulau medan marelan',\n",
       " 'pukat v no 39c bantan timur kel',\n",
       " 'soto dag dukuh kup',\n",
       " 'ase 8 tulungrejo pare',\n",
       " 'lintas sumbawa ruhil langam',\n",
       " 'indom rs ancol sunter agung tanjung priok',\n",
       " 'cile regol garut kota',\n",
       " 'hima char for palu si dong dewi sart',\n",
       " 'peri kem no 8 warung makan pelangi rw 1 pudakpayung',\n",
       " 'kamp dukuh raya no 2 toko putra 6 kebayoran lama utara',\n",
       " 'banyuwangi genteng depan rth maron blakang sd 5 rt6 rw1 dusun maron',\n",
       " 'bakti jaya bukit perm vii 2 15315 setu',\n",
       " 'cikarang kota kamp jati bumi asih 31 rt 4 rw 11 cikarang utara',\n",
       " 'ks tubun luar dadi mulya samarinda ulu',\n",
       " 'teluk pucung nanas iiia 8',\n",
       " 'pert sum usaha aruna cicendo',\n",
       " 'abadi ii 7 15 gegerkalong',\n",
       " 'ter ii',\n",
       " 'kebon manggis civeilized kesatrian 7 no 22 rw 3 13150',\n",
       " 'pegadaian sisin',\n",
       " 'karangtengah sula 100 66137 sanan wetan',\n",
       " 'kotapontianak kecamatan barat provinsi kalbar jln tabrani ahmad komplek duta marta nomor16',\n",
       " 'p suryaa no 3 ban nug bang kumis regol wetan',\n",
       " 'pad ii gg 1 no 23 pademangan timur rt 11 4',\n",
       " 'abc merah del 1',\n",
       " 'andi seberida',\n",
       " 'asem baris 6 18 kebon baru rt 6 5 tebet',\n",
       " 'kel lilin v curug sangereng kelapa dua',\n",
       " 'asosiasi hutan rak prib hijau parung kuda',\n",
       " 'raya batu jajar cimareme kel',\n",
       " 'pol peureulak barat gampong jawa langsa kota',\n",
       " 'kembangan ayu no 43a rw 5 11610 kembangan',\n",
       " 'refleksi keluarga tiara putri karin langkai pahandut',\n",
       " 'mas baru no 4 rt 6 1 pejaten timur pasar minggu',\n",
       " 'kampung batursari batur sari denpasar selatan',\n",
       " 'fahri pro soek hatta',\n",
       " 'jojo iiic mojo gubeng',\n",
       " 'pipit 6 sukapura rt 2 6 cilincing',\n",
       " 'alams ud wahid has samarinda utara',\n",
       " 'gg 3 no 101 rt 3 rw 1',\n",
       " 'prometama sar graha pt ruko sen niaga',\n",
       " 'foto copy natasya terminal simpang nangka',\n",
       " 'jembatan cilaki perbatasan garut cianjur di lesarea cod anya',\n",
       " 'zahra pesta lobak',\n",
       " 'duy kary novo hotel batam kop novo lubuk baja',\n",
       " 'mie ayam bakso pak de darso polta',\n",
       " 'gg 5 no 165',\n",
       " 'ran gad tanimulya ngamprah',\n",
       " 'jelambar baru jela barat iic 52a rt 6 rw 11 11460 grogol petamburan',\n",
       " 'jend sudi 483 rt 1 rw 3 gelora tanah abang',\n",
       " 'pesan salafiyah baitur rafki as sadiyah talu',\n",
       " 'moh husni tham no 49 kan penga windu winarso sh',\n",
       " 'bantan timur pukat v dalam 64 medan tembung',\n",
       " 'kan pu kab tanah datar',\n",
       " 'telaga biru salon santy 70119',\n",
       " 'gg 14 no 69 sukun',\n",
       " 'kpu kab gorontalo limboto',\n",
       " 'grogol ciare wista 115 rt 7 2 42436 gerogol',\n",
       " 'ulu benteng p wang marabahan',\n",
       " 'darmaw ii 4 mas almutathohhirin rw 1',\n",
       " 'munaha dg naba poros takal',\n",
       " 'ahmad yani 1 130 pleburan 1 semarang selatan',\n",
       " 'mts muhamma 4 tel ram purwodadi sidayu',\n",
       " 'tk fit johar baru utara 2 johar baru johar baru',\n",
       " 'mah 29 yosowilangun manyar',\n",
       " 'pt infomedia nusantara gedung cambridge lt 3 jl s parman medan perisah',\n",
       " 'margo rukun xii 6 gundih 9 bubutan',\n",
       " 'tb mekar abadi tegalsari',\n",
       " 'karsamenak seng 3 46182 kawalu',\n",
       " 'sakuli pram 7 latambaga',\n",
       " 'selapajang jaya mars surya darma 22 20 rt 1 4',\n",
       " 'jalan aria putra cluster paradise resort blok a2 no 18 serua indah ciputat tangsel',\n",
       " 'kios tani raya terbanggi besar',\n",
       " 'toko alf fashion raya kali royo',\n",
       " 'sli 4 16 slipi rt 1 3 palmerah',\n",
       " 'po putra nipah di terminal rawasari',\n",
       " 'sastrodirjan ag jeans',\n",
       " 'restoran tang’s pusat makanan taman sari boulevard palem raya 2809',\n",
       " 'blim no 16 12 kerten laweyan',\n",
       " 'dok setia 141 gegerkalong sukasari',\n",
       " 'ahmad yani badan permusyawaratan desa ketanggungan ketanggungan',\n",
       " 'kiori 154 palimanan timur palimanan',\n",
       " 'prabu kolo h r hadij rw 4 sekaran',\n",
       " 'parit pis mas bagan keladi dumai barat',\n",
       " 'pala 2 176 palasari cibiru',\n",
       " 'muha rangkapan jaya pancoran mas',\n",
       " 'melody house pen sayan ubud',\n",
       " 'jun komu mbl griya raya 1 3 sukawarna',\n",
       " \"jln palmarosa viii blok d9 5 d'amerta residence ciganitri\",\n",
       " 'smkn 1 purworejo jl tentara pelajar kotak pos 127 banyuurip purworejo 54101',\n",
       " 'tk islam nurul huda',\n",
       " 'toko bar awi bit',\n",
       " 'kamal raya outer ring road 28b rt 6 rw 14 cengkareng timur kel',\n",
       " 'rasa say wijaya kesuma kel grogol petamburan',\n",
       " 'gg krad sunggingan kudus kota',\n",
       " 'genteng indah pd raya cile',\n",
       " 'balas klumprik gg viii 24 rt 6 6 60222',\n",
       " 'ikan dor baru 68b 5 krembangan',\n",
       " 'inp 1 sidomulyo timur marpoyan damai',\n",
       " 'cempaka putih timur cemp war 10 rt 16 4 cempaka putih',\n",
       " 'bin per no 10 rt 7 3 suka bakti curug',\n",
       " 'citra raya cikupa cluster pesona atlantis blok m22 no 30',\n",
       " 'urip sumoh pelutan',\n",
       " 'elektrindo perkasa utama pang perjua tanjung pura',\n",
       " 'kemanggisan sakti viii 45 rt 8 rw 9 palmerah',\n",
       " 'bekasi jaya irig pers ii no 7 rt 9 11 bekasi timur',\n",
       " 'boim cell kem ilir raya kemanggisan palmerah',\n",
       " 'ansan computer',\n",
       " 'abadi motor bungah',\n",
       " 'cilin lama 1 41 cilincing rt 5 8 cilincing',\n",
       " 'yudanagara k must 50 46121 cihideung',\n",
       " 'cangkuang kulon sayu 102 40239 dayeuhkolot',\n",
       " 'kedu baru 77 rw 2 kedurus karangpilang',\n",
       " 'eka sari lor transport pt agen andongsari jem hara dharmaw jubung',\n",
       " 'urip sumoh ko pu tello baru',\n",
       " 'kali baru timur 4 bungur senen',\n",
       " 'taman crys 1',\n",
       " 'sd neg nagrak i raya buah buahdua',\n",
       " 'kalidoni mayor zen lor wana 34 kalidoni',\n",
       " 'ciwidey cika sind sari 5',\n",
       " 'menteng masjid agung sunda kelapa taman sunda kelapa no 16 10310 menteng',\n",
       " 'haji abdul ghani 1 margasari karawaci',\n",
       " 'apartemen green bay pluit tower f unit f 27 af jl pluit karang ayu barat penjaringan jkt',\n",
       " 'robin jaket ikan gur telukbetung selatan',\n",
       " 'rusun pinus elok blok a6 01 penggilingan',\n",
       " 'sawah besar dem barat 12 8 50163 gayamsari',\n",
       " 'media cell denp raya kuningan timur',\n",
       " \"wendy's vete sidomukti\",\n",
       " 'jl mh tham no 1 kb kebon melati seibu grand indon ug floor tanah abang',\n",
       " 'knalpot putra mahakam maha 11 65111 klojen',\n",
       " 'rahan unt floating cafe flamb khay pahandut',\n",
       " 'muti 57',\n",
       " \"bati aji i salon aliya pa'batang mamajang\",\n",
       " 'perum brd residence jl sunan gresik blok j1 no 8 rt 05 rw 20 pringrejo',\n",
       " 'surya toserba jl karanggetas no 23',\n",
       " 'ptpn viii talun sant sind sirna gegerkalong sukasari',\n",
       " 'cace parf peri kemerd no 80 jati',\n",
       " 'jend sudi no 332 randudongkal randudongkal',\n",
       " 'sungai panas raja haji fisabilillah 25 batam kota',\n",
       " '21 cine cih cipaganti',\n",
       " 'margahayu tengah sad 79 margahayu',\n",
       " 'pawon solo aryo beba',\n",
       " 'mawar iii no 19 telukjambe timur',\n",
       " 'soek hatta 60 kepuhkembeng peterongan',\n",
       " 'yaya pelayanan halieluyah tebet raya 30d rw 1 tebet',\n",
       " 'purman tanj beri no al 0 4 pasar rebo',\n",
       " ...]"
      ]
     },
     "metadata": {},
     "execution_count": 153
    }
   ],
   "source": [
    "tokenizer.sequences_to_texts(X)"
   ]
  },
  {
   "cell_type": "code",
   "execution_count": 154,
   "metadata": {},
   "outputs": [
    {
     "output_type": "stream",
     "name": "stdout",
     "text": [
      "X:  (300000, 33)\nY:  (300000, 23)\n"
     ]
    }
   ],
   "source": [
    "print(\"X: \",X.shape)\n",
    "print(\"Y: \",Y.shape)"
   ]
  },
  {
   "cell_type": "code",
   "execution_count": 163,
   "metadata": {
    "tags": []
   },
   "outputs": [
    {
     "output_type": "stream",
     "name": "stdout",
     "text": [
      "81787\n"
     ]
    }
   ],
   "source": [
    "word_index = tokenizer.word_index\n",
    "vocab_size = len(tokenizer.word_index) + 1\n",
    "#print(word_index)\n",
    "print(vocab_size)"
   ]
  },
  {
   "cell_type": "code",
   "execution_count": 116,
   "metadata": {},
   "outputs": [
    {
     "output_type": "stream",
     "name": "stdout",
     "text": [
      "Raw address:  raya samb gede, 299 toko bb kids\n[list([3, 3221, 128, 7032, 23, 3222, 2181])]\nPOI:  toko bb kids\n[list([23, 3222, 2181])]\n"
     ]
    }
   ],
   "source": [
    "print(\"Raw address: \",raws[5])\n",
    "print(x[5])\n",
    "print(\"POI: \",pois[5])\n",
    "print(y[5])"
   ]
  },
  {
   "cell_type": "code",
   "execution_count": 170,
   "metadata": {},
   "outputs": [],
   "source": [
    "#Variables\n",
    "RANDOM_STATE = 50\n",
    "EPOCHS = 150\n",
    "BATCH_SIZE = 2048\n",
    "TRAINING_LENGTH = 50\n",
    "TRAIN_FRACTION = 0.7\n",
    "LSTM_CELLS = 64\n",
    "VERBOSE = 0\n",
    "SAVE_MODEL = True\n",
    "# OUTPUT DIMENSION OF THE EMBEDDING LAYER\n",
    "EM_OUTPUT_LENGTH = 100"
   ]
  },
  {
   "cell_type": "code",
   "execution_count": 118,
   "metadata": {},
   "outputs": [
    {
     "output_type": "execute_result",
     "data": {
      "text/plain": [
       "300000"
      ]
     },
     "metadata": {},
     "execution_count": 118
    }
   ],
   "source": [
    "# GET THE SEQUENCE LENGTH\n",
    "seq_length = x.shape[0]\n",
    "seq_length"
   ]
  },
  {
   "cell_type": "code",
   "execution_count": 177,
   "metadata": {},
   "outputs": [],
   "source": [
    "# Fit Model function\n",
    "def fit_model(batch_size, X, y, epochs):\n",
    "    model = Sequential()\n",
    "    model.add(Embedding(vocab_size, EM_OUTPUT_LENGTH))\n",
    "    model.add(LSTM(128, return_sequences=True))\n",
    "    model.add(LSTM(128))\n",
    "    model.add(Dense(64, activation='relu'))\n",
    "    model.add(Dense(vocab_size, activation='softmax'))\n",
    "\n",
    "    optimizer = Adam(learning_rate=0.001)\n",
    "\n",
    "    model.compile(loss='categorical_crossentropy', optimizer = optimizer, metrics = ['accuracy'])\n",
    "\n",
    "    # save the weights for different configuration\n",
    "    filepath = f\"LSTM-{epochs}_epoch-{batch_size}_batch_size\"\n",
    "\n",
    "    csv_logger = CSVLogger(filepath+\".csv\",append=False,separator=',')\n",
    "    checkpoint = ModelCheckpoint(filepath+\".h5\", monitor='loss', verbose=1, save_best_only=True, mode='min')\n",
    "    reduce_lr = ReduceLROnPlateau(monitor='accuracy', factor=0.2, patience=1, min_lr=1e-8)\n",
    "    early_stopping = EarlyStopping(monitor='loss',\n",
    "                                    mode='min',\n",
    "                                    verbose=1,\n",
    "                                    patience=5)\n",
    "    desired_callbacks = [checkpoint, early_stopping, csv_logger, reduce_lr]\n",
    "    start = time.perf_counter()\n",
    "    model.fit(X, y, \n",
    "              batch_size = batch_size, \n",
    "              epochs = epochs, \n",
    "              callbacks=desired_callbacks)\n",
    "    time_taken = time.perf_counter() - start\n",
    "    print(f\"Total time taken for {epochs} epochs: {time_taken} seconds\")\n",
    "    print(f\"Average time taken per epochs: {time_taken/epochs} seconds\")\n",
    "    print(f\"Total time taken to train: {time_taken} seconds\")\n",
    "\n",
    "    return model"
   ]
  },
  {
   "cell_type": "code",
   "execution_count": 178,
   "metadata": {},
   "outputs": [],
   "source": [
    "# LOAD PRE-TRAINED H5 FILES\n",
    "# Write a function to load different variant of the pre-trained model\n",
    "def load_pretrain_model(model_name,batch_size,epochs, optimizer_type):\n",
    "    filepath = f\"{WEIGHTS_DIR}{model_name}-{epochs}_epoch-{batch_size}_batch_size-{optimizer_type}.h5\"\n",
    "    # debug\n",
    "    #print(filepath)\n",
    "\n",
    "    # load the model\n",
    "    model = load_model(filepath)\n",
    "    #model.summary()\n",
    "\n",
    "    return model"
   ]
  },
  {
   "cell_type": "code",
   "execution_count": 179,
   "metadata": {},
   "outputs": [
    {
     "output_type": "stream",
     "name": "stdout",
     "text": [
      "Epoch 1/150\n"
     ]
    },
    {
     "output_type": "error",
     "ename": "ValueError",
     "evalue": "in user code:\n\n    C:\\Python38\\lib\\site-packages\\tensorflow\\python\\keras\\engine\\training.py:806 train_function  *\n        return step_function(self, iterator)\n    C:\\Python38\\lib\\site-packages\\tensorflow\\python\\keras\\engine\\training.py:796 step_function  **\n        outputs = model.distribute_strategy.run(run_step, args=(data,))\n    C:\\Python38\\lib\\site-packages\\tensorflow\\python\\distribute\\distribute_lib.py:1211 run\n        return self._extended.call_for_each_replica(fn, args=args, kwargs=kwargs)\n    C:\\Python38\\lib\\site-packages\\tensorflow\\python\\distribute\\distribute_lib.py:2585 call_for_each_replica\n        return self._call_for_each_replica(fn, args, kwargs)\n    C:\\Python38\\lib\\site-packages\\tensorflow\\python\\distribute\\distribute_lib.py:2945 _call_for_each_replica\n        return fn(*args, **kwargs)\n    C:\\Python38\\lib\\site-packages\\tensorflow\\python\\keras\\engine\\training.py:789 run_step  **\n        outputs = model.train_step(data)\n    C:\\Python38\\lib\\site-packages\\tensorflow\\python\\keras\\engine\\training.py:748 train_step\n        loss = self.compiled_loss(\n    C:\\Python38\\lib\\site-packages\\tensorflow\\python\\keras\\engine\\compile_utils.py:204 __call__\n        loss_value = loss_obj(y_t, y_p, sample_weight=sw)\n    C:\\Python38\\lib\\site-packages\\tensorflow\\python\\keras\\losses.py:149 __call__\n        losses = ag_call(y_true, y_pred)\n    C:\\Python38\\lib\\site-packages\\tensorflow\\python\\keras\\losses.py:253 call  **\n        return ag_fn(y_true, y_pred, **self._fn_kwargs)\n    C:\\Python38\\lib\\site-packages\\tensorflow\\python\\util\\dispatch.py:201 wrapper\n        return target(*args, **kwargs)\n    C:\\Python38\\lib\\site-packages\\tensorflow\\python\\keras\\losses.py:1535 categorical_crossentropy\n        return K.categorical_crossentropy(y_true, y_pred, from_logits=from_logits)\n    C:\\Python38\\lib\\site-packages\\tensorflow\\python\\util\\dispatch.py:201 wrapper\n        return target(*args, **kwargs)\n    C:\\Python38\\lib\\site-packages\\tensorflow\\python\\keras\\backend.py:4687 categorical_crossentropy\n        target.shape.assert_is_compatible_with(output.shape)\n    C:\\Python38\\lib\\site-packages\\tensorflow\\python\\framework\\tensor_shape.py:1134 assert_is_compatible_with\n        raise ValueError(\"Shapes %s and %s are incompatible\" % (self, other))\n\n    ValueError: Shapes (None, 23) and (None, 81787) are incompatible\n",
     "traceback": [
      "\u001b[1;31m---------------------------------------------------------------------------\u001b[0m",
      "\u001b[1;31mValueError\u001b[0m                                Traceback (most recent call last)",
      "\u001b[1;32m<ipython-input-179-40c45f776f9f>\u001b[0m in \u001b[0;36m<module>\u001b[1;34m\u001b[0m\n\u001b[1;32m----> 1\u001b[1;33m \u001b[0mmodel\u001b[0m \u001b[1;33m=\u001b[0m \u001b[0mfit_model\u001b[0m\u001b[1;33m(\u001b[0m\u001b[0mbatch_size\u001b[0m\u001b[1;33m=\u001b[0m\u001b[0mBATCH_SIZE\u001b[0m\u001b[1;33m,\u001b[0m \u001b[0mX\u001b[0m\u001b[1;33m=\u001b[0m\u001b[0mX\u001b[0m\u001b[1;33m,\u001b[0m \u001b[0my\u001b[0m\u001b[1;33m=\u001b[0m\u001b[0mY\u001b[0m\u001b[1;33m,\u001b[0m \u001b[0mmodel_name\u001b[0m\u001b[1;33m=\u001b[0m\u001b[1;34m\"LSTM\"\u001b[0m\u001b[1;33m,\u001b[0m \u001b[0mepochs\u001b[0m\u001b[1;33m=\u001b[0m\u001b[0mEPOCHS\u001b[0m\u001b[1;33m)\u001b[0m\u001b[1;33m\u001b[0m\u001b[1;33m\u001b[0m\u001b[0m\n\u001b[0m",
      "\u001b[1;32m<ipython-input-177-c02decdf4636>\u001b[0m in \u001b[0;36mfit_model\u001b[1;34m(batch_size, X, y, model_name, epochs)\u001b[0m\n\u001b[0;32m     24\u001b[0m     \u001b[0mdesired_callbacks\u001b[0m \u001b[1;33m=\u001b[0m \u001b[1;33m[\u001b[0m\u001b[0mcheckpoint\u001b[0m\u001b[1;33m,\u001b[0m \u001b[0mearly_stopping\u001b[0m\u001b[1;33m,\u001b[0m \u001b[0mcsv_logger\u001b[0m\u001b[1;33m,\u001b[0m \u001b[0mreduce_lr\u001b[0m\u001b[1;33m]\u001b[0m\u001b[1;33m\u001b[0m\u001b[1;33m\u001b[0m\u001b[0m\n\u001b[0;32m     25\u001b[0m     \u001b[0mstart\u001b[0m \u001b[1;33m=\u001b[0m \u001b[0mtime\u001b[0m\u001b[1;33m.\u001b[0m\u001b[0mperf_counter\u001b[0m\u001b[1;33m(\u001b[0m\u001b[1;33m)\u001b[0m\u001b[1;33m\u001b[0m\u001b[1;33m\u001b[0m\u001b[0m\n\u001b[1;32m---> 26\u001b[1;33m     model.fit(X, y, \n\u001b[0m\u001b[0;32m     27\u001b[0m               \u001b[0mbatch_size\u001b[0m \u001b[1;33m=\u001b[0m \u001b[0mbatch_size\u001b[0m\u001b[1;33m,\u001b[0m\u001b[1;33m\u001b[0m\u001b[1;33m\u001b[0m\u001b[0m\n\u001b[0;32m     28\u001b[0m               \u001b[0mepochs\u001b[0m \u001b[1;33m=\u001b[0m \u001b[0mepochs\u001b[0m\u001b[1;33m,\u001b[0m\u001b[1;33m\u001b[0m\u001b[1;33m\u001b[0m\u001b[0m\n",
      "\u001b[1;32mC:\\Python38\\lib\\site-packages\\tensorflow\\python\\keras\\engine\\training.py\u001b[0m in \u001b[0;36m_method_wrapper\u001b[1;34m(self, *args, **kwargs)\u001b[0m\n\u001b[0;32m    106\u001b[0m   \u001b[1;32mdef\u001b[0m \u001b[0m_method_wrapper\u001b[0m\u001b[1;33m(\u001b[0m\u001b[0mself\u001b[0m\u001b[1;33m,\u001b[0m \u001b[1;33m*\u001b[0m\u001b[0margs\u001b[0m\u001b[1;33m,\u001b[0m \u001b[1;33m**\u001b[0m\u001b[0mkwargs\u001b[0m\u001b[1;33m)\u001b[0m\u001b[1;33m:\u001b[0m\u001b[1;33m\u001b[0m\u001b[1;33m\u001b[0m\u001b[0m\n\u001b[0;32m    107\u001b[0m     \u001b[1;32mif\u001b[0m \u001b[1;32mnot\u001b[0m \u001b[0mself\u001b[0m\u001b[1;33m.\u001b[0m\u001b[0m_in_multi_worker_mode\u001b[0m\u001b[1;33m(\u001b[0m\u001b[1;33m)\u001b[0m\u001b[1;33m:\u001b[0m  \u001b[1;31m# pylint: disable=protected-access\u001b[0m\u001b[1;33m\u001b[0m\u001b[1;33m\u001b[0m\u001b[0m\n\u001b[1;32m--> 108\u001b[1;33m       \u001b[1;32mreturn\u001b[0m \u001b[0mmethod\u001b[0m\u001b[1;33m(\u001b[0m\u001b[0mself\u001b[0m\u001b[1;33m,\u001b[0m \u001b[1;33m*\u001b[0m\u001b[0margs\u001b[0m\u001b[1;33m,\u001b[0m \u001b[1;33m**\u001b[0m\u001b[0mkwargs\u001b[0m\u001b[1;33m)\u001b[0m\u001b[1;33m\u001b[0m\u001b[1;33m\u001b[0m\u001b[0m\n\u001b[0m\u001b[0;32m    109\u001b[0m \u001b[1;33m\u001b[0m\u001b[0m\n\u001b[0;32m    110\u001b[0m     \u001b[1;31m# Running inside `run_distribute_coordinator` already.\u001b[0m\u001b[1;33m\u001b[0m\u001b[1;33m\u001b[0m\u001b[1;33m\u001b[0m\u001b[0m\n",
      "\u001b[1;32mC:\\Python38\\lib\\site-packages\\tensorflow\\python\\keras\\engine\\training.py\u001b[0m in \u001b[0;36mfit\u001b[1;34m(self, x, y, batch_size, epochs, verbose, callbacks, validation_split, validation_data, shuffle, class_weight, sample_weight, initial_epoch, steps_per_epoch, validation_steps, validation_batch_size, validation_freq, max_queue_size, workers, use_multiprocessing)\u001b[0m\n\u001b[0;32m   1096\u001b[0m                 batch_size=batch_size):\n\u001b[0;32m   1097\u001b[0m               \u001b[0mcallbacks\u001b[0m\u001b[1;33m.\u001b[0m\u001b[0mon_train_batch_begin\u001b[0m\u001b[1;33m(\u001b[0m\u001b[0mstep\u001b[0m\u001b[1;33m)\u001b[0m\u001b[1;33m\u001b[0m\u001b[1;33m\u001b[0m\u001b[0m\n\u001b[1;32m-> 1098\u001b[1;33m               \u001b[0mtmp_logs\u001b[0m \u001b[1;33m=\u001b[0m \u001b[0mtrain_function\u001b[0m\u001b[1;33m(\u001b[0m\u001b[0miterator\u001b[0m\u001b[1;33m)\u001b[0m\u001b[1;33m\u001b[0m\u001b[1;33m\u001b[0m\u001b[0m\n\u001b[0m\u001b[0;32m   1099\u001b[0m               \u001b[1;32mif\u001b[0m \u001b[0mdata_handler\u001b[0m\u001b[1;33m.\u001b[0m\u001b[0mshould_sync\u001b[0m\u001b[1;33m:\u001b[0m\u001b[1;33m\u001b[0m\u001b[1;33m\u001b[0m\u001b[0m\n\u001b[0;32m   1100\u001b[0m                 \u001b[0mcontext\u001b[0m\u001b[1;33m.\u001b[0m\u001b[0masync_wait\u001b[0m\u001b[1;33m(\u001b[0m\u001b[1;33m)\u001b[0m\u001b[1;33m\u001b[0m\u001b[1;33m\u001b[0m\u001b[0m\n",
      "\u001b[1;32mC:\\Python38\\lib\\site-packages\\tensorflow\\python\\eager\\def_function.py\u001b[0m in \u001b[0;36m__call__\u001b[1;34m(self, *args, **kwds)\u001b[0m\n\u001b[0;32m    778\u001b[0m       \u001b[1;32melse\u001b[0m\u001b[1;33m:\u001b[0m\u001b[1;33m\u001b[0m\u001b[1;33m\u001b[0m\u001b[0m\n\u001b[0;32m    779\u001b[0m         \u001b[0mcompiler\u001b[0m \u001b[1;33m=\u001b[0m \u001b[1;34m\"nonXla\"\u001b[0m\u001b[1;33m\u001b[0m\u001b[1;33m\u001b[0m\u001b[0m\n\u001b[1;32m--> 780\u001b[1;33m         \u001b[0mresult\u001b[0m \u001b[1;33m=\u001b[0m \u001b[0mself\u001b[0m\u001b[1;33m.\u001b[0m\u001b[0m_call\u001b[0m\u001b[1;33m(\u001b[0m\u001b[1;33m*\u001b[0m\u001b[0margs\u001b[0m\u001b[1;33m,\u001b[0m \u001b[1;33m**\u001b[0m\u001b[0mkwds\u001b[0m\u001b[1;33m)\u001b[0m\u001b[1;33m\u001b[0m\u001b[1;33m\u001b[0m\u001b[0m\n\u001b[0m\u001b[0;32m    781\u001b[0m \u001b[1;33m\u001b[0m\u001b[0m\n\u001b[0;32m    782\u001b[0m       \u001b[0mnew_tracing_count\u001b[0m \u001b[1;33m=\u001b[0m \u001b[0mself\u001b[0m\u001b[1;33m.\u001b[0m\u001b[0m_get_tracing_count\u001b[0m\u001b[1;33m(\u001b[0m\u001b[1;33m)\u001b[0m\u001b[1;33m\u001b[0m\u001b[1;33m\u001b[0m\u001b[0m\n",
      "\u001b[1;32mC:\\Python38\\lib\\site-packages\\tensorflow\\python\\eager\\def_function.py\u001b[0m in \u001b[0;36m_call\u001b[1;34m(self, *args, **kwds)\u001b[0m\n\u001b[0;32m    821\u001b[0m       \u001b[1;31m# This is the first call of __call__, so we have to initialize.\u001b[0m\u001b[1;33m\u001b[0m\u001b[1;33m\u001b[0m\u001b[1;33m\u001b[0m\u001b[0m\n\u001b[0;32m    822\u001b[0m       \u001b[0minitializers\u001b[0m \u001b[1;33m=\u001b[0m \u001b[1;33m[\u001b[0m\u001b[1;33m]\u001b[0m\u001b[1;33m\u001b[0m\u001b[1;33m\u001b[0m\u001b[0m\n\u001b[1;32m--> 823\u001b[1;33m       \u001b[0mself\u001b[0m\u001b[1;33m.\u001b[0m\u001b[0m_initialize\u001b[0m\u001b[1;33m(\u001b[0m\u001b[0margs\u001b[0m\u001b[1;33m,\u001b[0m \u001b[0mkwds\u001b[0m\u001b[1;33m,\u001b[0m \u001b[0madd_initializers_to\u001b[0m\u001b[1;33m=\u001b[0m\u001b[0minitializers\u001b[0m\u001b[1;33m)\u001b[0m\u001b[1;33m\u001b[0m\u001b[1;33m\u001b[0m\u001b[0m\n\u001b[0m\u001b[0;32m    824\u001b[0m     \u001b[1;32mfinally\u001b[0m\u001b[1;33m:\u001b[0m\u001b[1;33m\u001b[0m\u001b[1;33m\u001b[0m\u001b[0m\n\u001b[0;32m    825\u001b[0m       \u001b[1;31m# At this point we know that the initialization is complete (or less\u001b[0m\u001b[1;33m\u001b[0m\u001b[1;33m\u001b[0m\u001b[1;33m\u001b[0m\u001b[0m\n",
      "\u001b[1;32mC:\\Python38\\lib\\site-packages\\tensorflow\\python\\eager\\def_function.py\u001b[0m in \u001b[0;36m_initialize\u001b[1;34m(self, args, kwds, add_initializers_to)\u001b[0m\n\u001b[0;32m    694\u001b[0m     \u001b[0mself\u001b[0m\u001b[1;33m.\u001b[0m\u001b[0m_graph_deleter\u001b[0m \u001b[1;33m=\u001b[0m \u001b[0mFunctionDeleter\u001b[0m\u001b[1;33m(\u001b[0m\u001b[0mself\u001b[0m\u001b[1;33m.\u001b[0m\u001b[0m_lifted_initializer_graph\u001b[0m\u001b[1;33m)\u001b[0m\u001b[1;33m\u001b[0m\u001b[1;33m\u001b[0m\u001b[0m\n\u001b[0;32m    695\u001b[0m     self._concrete_stateful_fn = (\n\u001b[1;32m--> 696\u001b[1;33m         self._stateful_fn._get_concrete_function_internal_garbage_collected(  # pylint: disable=protected-access\n\u001b[0m\u001b[0;32m    697\u001b[0m             *args, **kwds))\n\u001b[0;32m    698\u001b[0m \u001b[1;33m\u001b[0m\u001b[0m\n",
      "\u001b[1;32mC:\\Python38\\lib\\site-packages\\tensorflow\\python\\eager\\function.py\u001b[0m in \u001b[0;36m_get_concrete_function_internal_garbage_collected\u001b[1;34m(self, *args, **kwargs)\u001b[0m\n\u001b[0;32m   2853\u001b[0m       \u001b[0margs\u001b[0m\u001b[1;33m,\u001b[0m \u001b[0mkwargs\u001b[0m \u001b[1;33m=\u001b[0m \u001b[1;32mNone\u001b[0m\u001b[1;33m,\u001b[0m \u001b[1;32mNone\u001b[0m\u001b[1;33m\u001b[0m\u001b[1;33m\u001b[0m\u001b[0m\n\u001b[0;32m   2854\u001b[0m     \u001b[1;32mwith\u001b[0m \u001b[0mself\u001b[0m\u001b[1;33m.\u001b[0m\u001b[0m_lock\u001b[0m\u001b[1;33m:\u001b[0m\u001b[1;33m\u001b[0m\u001b[1;33m\u001b[0m\u001b[0m\n\u001b[1;32m-> 2855\u001b[1;33m       \u001b[0mgraph_function\u001b[0m\u001b[1;33m,\u001b[0m \u001b[0m_\u001b[0m\u001b[1;33m,\u001b[0m \u001b[0m_\u001b[0m \u001b[1;33m=\u001b[0m \u001b[0mself\u001b[0m\u001b[1;33m.\u001b[0m\u001b[0m_maybe_define_function\u001b[0m\u001b[1;33m(\u001b[0m\u001b[0margs\u001b[0m\u001b[1;33m,\u001b[0m \u001b[0mkwargs\u001b[0m\u001b[1;33m)\u001b[0m\u001b[1;33m\u001b[0m\u001b[1;33m\u001b[0m\u001b[0m\n\u001b[0m\u001b[0;32m   2856\u001b[0m     \u001b[1;32mreturn\u001b[0m \u001b[0mgraph_function\u001b[0m\u001b[1;33m\u001b[0m\u001b[1;33m\u001b[0m\u001b[0m\n\u001b[0;32m   2857\u001b[0m \u001b[1;33m\u001b[0m\u001b[0m\n",
      "\u001b[1;32mC:\\Python38\\lib\\site-packages\\tensorflow\\python\\eager\\function.py\u001b[0m in \u001b[0;36m_maybe_define_function\u001b[1;34m(self, args, kwargs)\u001b[0m\n\u001b[0;32m   3211\u001b[0m \u001b[1;33m\u001b[0m\u001b[0m\n\u001b[0;32m   3212\u001b[0m       \u001b[0mself\u001b[0m\u001b[1;33m.\u001b[0m\u001b[0m_function_cache\u001b[0m\u001b[1;33m.\u001b[0m\u001b[0mmissed\u001b[0m\u001b[1;33m.\u001b[0m\u001b[0madd\u001b[0m\u001b[1;33m(\u001b[0m\u001b[0mcall_context_key\u001b[0m\u001b[1;33m)\u001b[0m\u001b[1;33m\u001b[0m\u001b[1;33m\u001b[0m\u001b[0m\n\u001b[1;32m-> 3213\u001b[1;33m       \u001b[0mgraph_function\u001b[0m \u001b[1;33m=\u001b[0m \u001b[0mself\u001b[0m\u001b[1;33m.\u001b[0m\u001b[0m_create_graph_function\u001b[0m\u001b[1;33m(\u001b[0m\u001b[0margs\u001b[0m\u001b[1;33m,\u001b[0m \u001b[0mkwargs\u001b[0m\u001b[1;33m)\u001b[0m\u001b[1;33m\u001b[0m\u001b[1;33m\u001b[0m\u001b[0m\n\u001b[0m\u001b[0;32m   3214\u001b[0m       \u001b[0mself\u001b[0m\u001b[1;33m.\u001b[0m\u001b[0m_function_cache\u001b[0m\u001b[1;33m.\u001b[0m\u001b[0mprimary\u001b[0m\u001b[1;33m[\u001b[0m\u001b[0mcache_key\u001b[0m\u001b[1;33m]\u001b[0m \u001b[1;33m=\u001b[0m \u001b[0mgraph_function\u001b[0m\u001b[1;33m\u001b[0m\u001b[1;33m\u001b[0m\u001b[0m\n\u001b[0;32m   3215\u001b[0m       \u001b[1;32mreturn\u001b[0m \u001b[0mgraph_function\u001b[0m\u001b[1;33m,\u001b[0m \u001b[0margs\u001b[0m\u001b[1;33m,\u001b[0m \u001b[0mkwargs\u001b[0m\u001b[1;33m\u001b[0m\u001b[1;33m\u001b[0m\u001b[0m\n",
      "\u001b[1;32mC:\\Python38\\lib\\site-packages\\tensorflow\\python\\eager\\function.py\u001b[0m in \u001b[0;36m_create_graph_function\u001b[1;34m(self, args, kwargs, override_flat_arg_shapes)\u001b[0m\n\u001b[0;32m   3063\u001b[0m     \u001b[0marg_names\u001b[0m \u001b[1;33m=\u001b[0m \u001b[0mbase_arg_names\u001b[0m \u001b[1;33m+\u001b[0m \u001b[0mmissing_arg_names\u001b[0m\u001b[1;33m\u001b[0m\u001b[1;33m\u001b[0m\u001b[0m\n\u001b[0;32m   3064\u001b[0m     graph_function = ConcreteFunction(\n\u001b[1;32m-> 3065\u001b[1;33m         func_graph_module.func_graph_from_py_func(\n\u001b[0m\u001b[0;32m   3066\u001b[0m             \u001b[0mself\u001b[0m\u001b[1;33m.\u001b[0m\u001b[0m_name\u001b[0m\u001b[1;33m,\u001b[0m\u001b[1;33m\u001b[0m\u001b[1;33m\u001b[0m\u001b[0m\n\u001b[0;32m   3067\u001b[0m             \u001b[0mself\u001b[0m\u001b[1;33m.\u001b[0m\u001b[0m_python_function\u001b[0m\u001b[1;33m,\u001b[0m\u001b[1;33m\u001b[0m\u001b[1;33m\u001b[0m\u001b[0m\n",
      "\u001b[1;32mC:\\Python38\\lib\\site-packages\\tensorflow\\python\\framework\\func_graph.py\u001b[0m in \u001b[0;36mfunc_graph_from_py_func\u001b[1;34m(name, python_func, args, kwargs, signature, func_graph, autograph, autograph_options, add_control_dependencies, arg_names, op_return_value, collections, capture_by_value, override_flat_arg_shapes)\u001b[0m\n\u001b[0;32m    984\u001b[0m         \u001b[0m_\u001b[0m\u001b[1;33m,\u001b[0m \u001b[0moriginal_func\u001b[0m \u001b[1;33m=\u001b[0m \u001b[0mtf_decorator\u001b[0m\u001b[1;33m.\u001b[0m\u001b[0munwrap\u001b[0m\u001b[1;33m(\u001b[0m\u001b[0mpython_func\u001b[0m\u001b[1;33m)\u001b[0m\u001b[1;33m\u001b[0m\u001b[1;33m\u001b[0m\u001b[0m\n\u001b[0;32m    985\u001b[0m \u001b[1;33m\u001b[0m\u001b[0m\n\u001b[1;32m--> 986\u001b[1;33m       \u001b[0mfunc_outputs\u001b[0m \u001b[1;33m=\u001b[0m \u001b[0mpython_func\u001b[0m\u001b[1;33m(\u001b[0m\u001b[1;33m*\u001b[0m\u001b[0mfunc_args\u001b[0m\u001b[1;33m,\u001b[0m \u001b[1;33m**\u001b[0m\u001b[0mfunc_kwargs\u001b[0m\u001b[1;33m)\u001b[0m\u001b[1;33m\u001b[0m\u001b[1;33m\u001b[0m\u001b[0m\n\u001b[0m\u001b[0;32m    987\u001b[0m \u001b[1;33m\u001b[0m\u001b[0m\n\u001b[0;32m    988\u001b[0m       \u001b[1;31m# invariant: `func_outputs` contains only Tensors, CompositeTensors,\u001b[0m\u001b[1;33m\u001b[0m\u001b[1;33m\u001b[0m\u001b[1;33m\u001b[0m\u001b[0m\n",
      "\u001b[1;32mC:\\Python38\\lib\\site-packages\\tensorflow\\python\\eager\\def_function.py\u001b[0m in \u001b[0;36mwrapped_fn\u001b[1;34m(*args, **kwds)\u001b[0m\n\u001b[0;32m    598\u001b[0m         \u001b[1;31m# __wrapped__ allows AutoGraph to swap in a converted function. We give\u001b[0m\u001b[1;33m\u001b[0m\u001b[1;33m\u001b[0m\u001b[1;33m\u001b[0m\u001b[0m\n\u001b[0;32m    599\u001b[0m         \u001b[1;31m# the function a weak reference to itself to avoid a reference cycle.\u001b[0m\u001b[1;33m\u001b[0m\u001b[1;33m\u001b[0m\u001b[1;33m\u001b[0m\u001b[0m\n\u001b[1;32m--> 600\u001b[1;33m         \u001b[1;32mreturn\u001b[0m \u001b[0mweak_wrapped_fn\u001b[0m\u001b[1;33m(\u001b[0m\u001b[1;33m)\u001b[0m\u001b[1;33m.\u001b[0m\u001b[0m__wrapped__\u001b[0m\u001b[1;33m(\u001b[0m\u001b[1;33m*\u001b[0m\u001b[0margs\u001b[0m\u001b[1;33m,\u001b[0m \u001b[1;33m**\u001b[0m\u001b[0mkwds\u001b[0m\u001b[1;33m)\u001b[0m\u001b[1;33m\u001b[0m\u001b[1;33m\u001b[0m\u001b[0m\n\u001b[0m\u001b[0;32m    601\u001b[0m     \u001b[0mweak_wrapped_fn\u001b[0m \u001b[1;33m=\u001b[0m \u001b[0mweakref\u001b[0m\u001b[1;33m.\u001b[0m\u001b[0mref\u001b[0m\u001b[1;33m(\u001b[0m\u001b[0mwrapped_fn\u001b[0m\u001b[1;33m)\u001b[0m\u001b[1;33m\u001b[0m\u001b[1;33m\u001b[0m\u001b[0m\n\u001b[0;32m    602\u001b[0m \u001b[1;33m\u001b[0m\u001b[0m\n",
      "\u001b[1;32mC:\\Python38\\lib\\site-packages\\tensorflow\\python\\framework\\func_graph.py\u001b[0m in \u001b[0;36mwrapper\u001b[1;34m(*args, **kwargs)\u001b[0m\n\u001b[0;32m    971\u001b[0m           \u001b[1;32mexcept\u001b[0m \u001b[0mException\u001b[0m \u001b[1;32mas\u001b[0m \u001b[0me\u001b[0m\u001b[1;33m:\u001b[0m  \u001b[1;31m# pylint:disable=broad-except\u001b[0m\u001b[1;33m\u001b[0m\u001b[1;33m\u001b[0m\u001b[0m\n\u001b[0;32m    972\u001b[0m             \u001b[1;32mif\u001b[0m \u001b[0mhasattr\u001b[0m\u001b[1;33m(\u001b[0m\u001b[0me\u001b[0m\u001b[1;33m,\u001b[0m \u001b[1;34m\"ag_error_metadata\"\u001b[0m\u001b[1;33m)\u001b[0m\u001b[1;33m:\u001b[0m\u001b[1;33m\u001b[0m\u001b[1;33m\u001b[0m\u001b[0m\n\u001b[1;32m--> 973\u001b[1;33m               \u001b[1;32mraise\u001b[0m \u001b[0me\u001b[0m\u001b[1;33m.\u001b[0m\u001b[0mag_error_metadata\u001b[0m\u001b[1;33m.\u001b[0m\u001b[0mto_exception\u001b[0m\u001b[1;33m(\u001b[0m\u001b[0me\u001b[0m\u001b[1;33m)\u001b[0m\u001b[1;33m\u001b[0m\u001b[1;33m\u001b[0m\u001b[0m\n\u001b[0m\u001b[0;32m    974\u001b[0m             \u001b[1;32melse\u001b[0m\u001b[1;33m:\u001b[0m\u001b[1;33m\u001b[0m\u001b[1;33m\u001b[0m\u001b[0m\n\u001b[0;32m    975\u001b[0m               \u001b[1;32mraise\u001b[0m\u001b[1;33m\u001b[0m\u001b[1;33m\u001b[0m\u001b[0m\n",
      "\u001b[1;31mValueError\u001b[0m: in user code:\n\n    C:\\Python38\\lib\\site-packages\\tensorflow\\python\\keras\\engine\\training.py:806 train_function  *\n        return step_function(self, iterator)\n    C:\\Python38\\lib\\site-packages\\tensorflow\\python\\keras\\engine\\training.py:796 step_function  **\n        outputs = model.distribute_strategy.run(run_step, args=(data,))\n    C:\\Python38\\lib\\site-packages\\tensorflow\\python\\distribute\\distribute_lib.py:1211 run\n        return self._extended.call_for_each_replica(fn, args=args, kwargs=kwargs)\n    C:\\Python38\\lib\\site-packages\\tensorflow\\python\\distribute\\distribute_lib.py:2585 call_for_each_replica\n        return self._call_for_each_replica(fn, args, kwargs)\n    C:\\Python38\\lib\\site-packages\\tensorflow\\python\\distribute\\distribute_lib.py:2945 _call_for_each_replica\n        return fn(*args, **kwargs)\n    C:\\Python38\\lib\\site-packages\\tensorflow\\python\\keras\\engine\\training.py:789 run_step  **\n        outputs = model.train_step(data)\n    C:\\Python38\\lib\\site-packages\\tensorflow\\python\\keras\\engine\\training.py:748 train_step\n        loss = self.compiled_loss(\n    C:\\Python38\\lib\\site-packages\\tensorflow\\python\\keras\\engine\\compile_utils.py:204 __call__\n        loss_value = loss_obj(y_t, y_p, sample_weight=sw)\n    C:\\Python38\\lib\\site-packages\\tensorflow\\python\\keras\\losses.py:149 __call__\n        losses = ag_call(y_true, y_pred)\n    C:\\Python38\\lib\\site-packages\\tensorflow\\python\\keras\\losses.py:253 call  **\n        return ag_fn(y_true, y_pred, **self._fn_kwargs)\n    C:\\Python38\\lib\\site-packages\\tensorflow\\python\\util\\dispatch.py:201 wrapper\n        return target(*args, **kwargs)\n    C:\\Python38\\lib\\site-packages\\tensorflow\\python\\keras\\losses.py:1535 categorical_crossentropy\n        return K.categorical_crossentropy(y_true, y_pred, from_logits=from_logits)\n    C:\\Python38\\lib\\site-packages\\tensorflow\\python\\util\\dispatch.py:201 wrapper\n        return target(*args, **kwargs)\n    C:\\Python38\\lib\\site-packages\\tensorflow\\python\\keras\\backend.py:4687 categorical_crossentropy\n        target.shape.assert_is_compatible_with(output.shape)\n    C:\\Python38\\lib\\site-packages\\tensorflow\\python\\framework\\tensor_shape.py:1134 assert_is_compatible_with\n        raise ValueError(\"Shapes %s and %s are incompatible\" % (self, other))\n\n    ValueError: Shapes (None, 23) and (None, 81787) are incompatible\n"
     ]
    }
   ],
   "source": [
    "model = fit_model(batch_size=BATCH_SIZE, X=X, y=Y, epochs=EPOCHS)"
   ]
  },
  {
   "cell_type": "code",
   "execution_count": null,
   "metadata": {},
   "outputs": [],
   "source": []
  }
 ]
}