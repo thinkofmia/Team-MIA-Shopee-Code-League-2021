{
 "metadata": {
  "language_info": {
   "codemirror_mode": {
    "name": "ipython",
    "version": 3
   },
   "file_extension": ".py",
   "mimetype": "text/x-python",
   "name": "python",
   "nbconvert_exporter": "python",
   "pygments_lexer": "ipython3",
   "version": "3.8.5-final"
  },
  "orig_nbformat": 2,
  "kernelspec": {
   "name": "python3",
   "display_name": "Python 3.8.5 64-bit",
   "metadata": {
    "interpreter": {
     "hash": "2db524e06e9f5f4ffedc911c917cb75e12dbc923643829bf417064a77eb14d37"
    }
   }
  }
 },
 "nbformat": 4,
 "nbformat_minor": 2,
 "cells": [
  {
   "cell_type": "code",
   "execution_count": 44,
   "metadata": {},
   "outputs": [],
   "source": [
    "#import necessary libraries\n",
    "import numpy as np\n",
    "import pandas as pd\n",
    "\n",
    "import nltk\n",
    "\n",
    "#Tensorflow\n",
    "import tensorflow as tf\n",
    "from tensorflow.keras.preprocessing.text import Tokenizer\n",
    "from tensorflow.keras.utils import to_categorical\n",
    "from tensorflow.keras.models import Sequential\n",
    "from tensorflow.keras.layers import Dense, LSTM, GRU, Embedding\n",
    "from tensorflow.keras.callbacks import ModelCheckpoint, CSVLogger, EarlyStopping, ReduceLROnPlateau\n",
    "from tensorflow.keras.optimizers import SGD, Adam, RMSprop\n",
    "from tensorflow.keras.preprocessing.sequence import pad_sequences\n",
    "from tensorflow.keras.models import load_model"
   ]
  },
  {
   "cell_type": "code",
   "execution_count": 64,
   "metadata": {},
   "outputs": [],
   "source": [
    "from tensorflow.python.client import device_lib\n",
    "#print(device_lib.list_local_devices())"
   ]
  },
  {
   "source": [
    "## Retrieving Data"
   ],
   "cell_type": "markdown",
   "metadata": {}
  },
  {
   "cell_type": "code",
   "execution_count": 5,
   "metadata": {},
   "outputs": [],
   "source": [
    "#Read csv\n",
    "train = pd.read_csv (r'train.csv')\n",
    "test = pd.read_csv (r'test.csv')"
   ]
  },
  {
   "cell_type": "code",
   "execution_count": 48,
   "metadata": {},
   "outputs": [
    {
     "output_type": "stream",
     "name": "stdout",
     "text": [
      "            id                                        raw_address  \\\n0            0  jl kapuk timur delta sili iii lippo cika 11 a ...   \n1            1                                 aye, jati sampurna   \n2            2               setu siung 119 rt 5 1 13880 cipayung   \n3            3                               toko dita, kertosono   \n4            4                                      jl. orde baru   \n...        ...                                                ...   \n299995  299995               jend ahmad yani 331 kertasari ciamis   \n299996  299996                 raya cila kko, cilandak timur kel.   \n299997  299997                     tanjung gusta jl. yaya 2 no 17   \n299998  299998  jalan cipadu jaya taman asri gang bijaksana 3 ...   \n299999  299999          jaya maspion permata blok beryl b2  no.58   \n\n                                       POI/street  \n0       /jl kapuk timur delta sili iii lippo cika  \n1                                               /  \n2                                          /siung  \n3                                      toko dita/  \n4                                  /jl. orde baru  \n...                                           ...  \n299995                           /jend ahmad yani  \n299996                             /raya cila kko  \n299997                                          /  \n299998                                taman asri/  \n299999                      jaya maspion permata/  \n\n[300000 rows x 3 columns]\n"
     ]
    }
   ],
   "source": [
    "df_train = pd.DataFrame(train, columns= ['id','raw_address','POI/street'])\n",
    "print(df_train)"
   ]
  },
  {
   "cell_type": "code",
   "execution_count": 49,
   "metadata": {},
   "outputs": [
    {
     "output_type": "stream",
     "name": "stdout",
     "text": [
      "          id                                        raw_address\n0          0              s. par 53 sidanegara 4 cilacap tengah\n1          1              angg per, baloi indah kel. lubuk baja\n2          2                              asma laun, mand imog,\n3          3      ud agung rej, raya nga sri wedari karanganyar\n4          4                         cut mutia, 35 baiturrahman\n...      ...                                                ...\n49995  49995                    toko mbak farid semboro semboro\n49996  49996     vie - tk. ridho kids, vete 3 cari, 16720 ciawi\n49997  49997                mart dan roti bakar malabar, nasio,\n49998  49998  graha indah pamulang jl. mujair raya bambu apu...\n49999  49999                                               adi,\n\n[50000 rows x 2 columns]\n"
     ]
    }
   ],
   "source": [
    "df_test = pd.DataFrame(test, columns= ['id','raw_address'])\n",
    "print(df_test)"
   ]
  },
  {
   "cell_type": "code",
   "execution_count": 7,
   "metadata": {},
   "outputs": [
    {
     "output_type": "execute_result",
     "data": {
      "text/plain": [
       "0         jl kapuk timur delta sili iii lippo cika 11 a ...\n",
       "1                                        aye, jati sampurna\n",
       "2                      setu siung 119 rt 5 1 13880 cipayung\n",
       "3                                      toko dita, kertosono\n",
       "4                                             jl. orde baru\n",
       "                                ...                        \n",
       "299995                 jend ahmad yani 331 kertasari ciamis\n",
       "299996                   raya cila kko, cilandak timur kel.\n",
       "299997                       tanjung gusta jl. yaya 2 no 17\n",
       "299998    jalan cipadu jaya taman asri gang bijaksana 3 ...\n",
       "299999            jaya maspion permata blok beryl b2  no.58\n",
       "Name: raw_address, Length: 300000, dtype: object"
      ]
     },
     "metadata": {},
     "execution_count": 7
    }
   ],
   "source": [
    "#Call all the raw addresses\n",
    "df_train.raw_address"
   ]
  },
  {
   "cell_type": "code",
   "execution_count": 8,
   "metadata": {},
   "outputs": [
    {
     "output_type": "execute_result",
     "data": {
      "text/plain": [
       "   id                                        raw_address\n",
       "2   2               setu siung 119 rt 5 1 13880 cipayung\n",
       "3   3                               toko dita, kertosono\n",
       "4   4                                      jl. orde baru\n",
       "5   5                   raya samb gede, 299 toko bb kids\n",
       "6   6  kem mel raya, no 4 bojong rawalumbu rt 1 36 ra..."
      ],
      "text/html": "<div>\n<style scoped>\n    .dataframe tbody tr th:only-of-type {\n        vertical-align: middle;\n    }\n\n    .dataframe tbody tr th {\n        vertical-align: top;\n    }\n\n    .dataframe thead th {\n        text-align: right;\n    }\n</style>\n<table border=\"1\" class=\"dataframe\">\n  <thead>\n    <tr style=\"text-align: right;\">\n      <th></th>\n      <th>id</th>\n      <th>raw_address</th>\n    </tr>\n  </thead>\n  <tbody>\n    <tr>\n      <th>2</th>\n      <td>2</td>\n      <td>setu siung 119 rt 5 1 13880 cipayung</td>\n    </tr>\n    <tr>\n      <th>3</th>\n      <td>3</td>\n      <td>toko dita, kertosono</td>\n    </tr>\n    <tr>\n      <th>4</th>\n      <td>4</td>\n      <td>jl. orde baru</td>\n    </tr>\n    <tr>\n      <th>5</th>\n      <td>5</td>\n      <td>raya samb gede, 299 toko bb kids</td>\n    </tr>\n    <tr>\n      <th>6</th>\n      <td>6</td>\n      <td>kem mel raya, no 4 bojong rawalumbu rt 1 36 ra...</td>\n    </tr>\n  </tbody>\n</table>\n</div>"
     },
     "metadata": {},
     "execution_count": 8
    }
   ],
   "source": [
    "#Get a rows of addresses\n",
    "df_train.loc[2:6]"
   ]
  },
  {
   "cell_type": "code",
   "execution_count": 9,
   "metadata": {},
   "outputs": [
    {
     "output_type": "execute_result",
     "data": {
      "text/plain": [
       "(300000,)"
      ]
     },
     "metadata": {},
     "execution_count": 9
    }
   ],
   "source": [
    "df_train.raw_address.shape"
   ]
  },
  {
   "source": [
    "## Tokenization"
   ],
   "cell_type": "markdown",
   "metadata": {}
  },
  {
   "cell_type": "code",
   "execution_count": 26,
   "metadata": {},
   "outputs": [],
   "source": [
    "def tokenize(contents):\n",
    "  allAddresses = contents.raw_address\n",
    "  tokens = []\n",
    "  for address in allAddresses:\n",
    "    #print(address.split(\", \"))\n",
    "    for text in address.split(\", \"):\n",
    "      tokens.append(text)\n",
    "  return tokens"
   ]
  },
  {
   "cell_type": "code",
   "execution_count": 29,
   "metadata": {
    "tags": []
   },
   "outputs": [],
   "source": [
    "#Get Tokens\n",
    "train_tokens = tokenize(df_train)"
   ]
  },
  {
   "cell_type": "code",
   "execution_count": 31,
   "metadata": {},
   "outputs": [
    {
     "output_type": "execute_result",
     "data": {
      "text/plain": [
       "474418"
      ]
     },
     "metadata": {},
     "execution_count": 31
    }
   ],
   "source": [
    "#Number of tokens found\n",
    "len(train_tokens)"
   ]
  },
  {
   "cell_type": "code",
   "execution_count": 45,
   "metadata": {},
   "outputs": [
    {
     "output_type": "execute_result",
     "data": {
      "text/plain": [
       "377844"
      ]
     },
     "metadata": {},
     "execution_count": 45
    }
   ],
   "source": [
    "# number of UNIQUE tokens found\n",
    "vocabulary = set(train_tokens)\n",
    "len(vocabulary)"
   ]
  },
  {
   "cell_type": "code",
   "execution_count": 47,
   "metadata": {},
   "outputs": [
    {
     "output_type": "execute_result",
     "data": {
      "text/plain": [
       "['jend sudi',\n",
       " 'ahmad yani',\n",
       " 'jend ahmad yani',\n",
       " 'pem',\n",
       " 'gajah mada',\n",
       " 'soek hatta',\n",
       " 'vete',\n",
       " 'yos suda',\n",
       " 'imam bon',\n",
       " 'dip',\n",
       " 'gatot subr',\n",
       " 'depok',\n",
       " 'pahl',\n",
       " 'teuku umar',\n",
       " 'man',\n",
       " 'no 1',\n",
       " 'hayam wuruk',\n",
       " 'pram',\n",
       " 'brig kata',\n",
       " 'jend sudi,',\n",
       " 'merd',\n",
       " 'kuta',\n",
       " 'rw 1',\n",
       " 'denpasar barat',\n",
       " 'cengkareng',\n",
       " 'setia budi',\n",
       " 'ir. h. jua',\n",
       " 'pang sudi',\n",
       " 'kebon jeruk',\n",
       " 'rw 4',\n",
       " 'nasio',\n",
       " 'ban',\n",
       " 'jawa barat',\n",
       " 'ahmad yani,',\n",
       " 'mawar',\n",
       " 'mas',\n",
       " 'jati',\n",
       " 'gar',\n",
       " 'raya ser',\n",
       " 'toko kelon',\n",
       " 'taman sari',\n",
       " 'peri kem',\n",
       " 'denpasar selatan',\n",
       " 'siliw',\n",
       " 'urip sumoh',\n",
       " 'waru',\n",
       " 'tangerang',\n",
       " 'cipayung',\n",
       " 'bas rah',\n",
       " 'balikpapan selatan']"
      ]
     },
     "metadata": {},
     "execution_count": 47
    }
   ],
   "source": [
    "frequency_dist = nltk.FreqDist(train_tokens)\n",
    "#Show top 50 tokens\n",
    "sorted(frequency_dist,key=frequency_dist.__getitem__, reverse=True)[0:50]"
   ]
  },
  {
   "source": [
    "## Set Up the Model"
   ],
   "cell_type": "markdown",
   "metadata": {}
  },
  {
   "cell_type": "code",
   "execution_count": 79,
   "metadata": {},
   "outputs": [],
   "source": [
    "raws = df_train['raw_address']\n",
    "results = df_train['POI/street'].to_numpy()"
   ]
  },
  {
   "cell_type": "code",
   "execution_count": 80,
   "metadata": {},
   "outputs": [],
   "source": [
    "# TOKENIZE TEXT SEQUENCE\n",
    "tokenizer = Tokenizer()\n",
    "tokenizer.fit_on_texts(train_tokens)\n",
    "sequences = tokenizer.texts_to_sequences(raws)\n",
    "\n",
    "# convert to numpy array\n",
    "sequences = np.array(sequences)\n",
    "x = sequences"
   ]
  },
  {
   "cell_type": "code",
   "execution_count": 81,
   "metadata": {},
   "outputs": [],
   "source": [
    "# TOKENIZE TEXT SEQUENCE\n",
    "tokenizer = Tokenizer()\n",
    "tokenizer.fit_on_texts(train_tokens)\n",
    "sequences = tokenizer.texts_to_sequences(results)\n",
    "\n",
    "# convert to numpy array\n",
    "sequences = np.array(sequences)\n",
    "y = sequences"
   ]
  },
  {
   "cell_type": "code",
   "execution_count": 82,
   "metadata": {},
   "outputs": [
    {
     "output_type": "stream",
     "name": "stdout",
     "text": [
      "X:  (300000,)\nY:  (300000,)\n"
     ]
    }
   ],
   "source": [
    "print(\"X: \",x.shape)\n",
    "print(\"Y: \",y.shape)"
   ]
  },
  {
   "cell_type": "code",
   "execution_count": 83,
   "metadata": {},
   "outputs": [
    {
     "output_type": "stream",
     "name": "stdout",
     "text": [
      "Raw address:  [8, 282, 12, 876, 7664, 39, 2147, 656, 31, 45, 6855, 107, 291]\nPOI/Street:  [8, 282, 12, 876, 7664, 39, 2147, 656]\n"
     ]
    }
   ],
   "source": [
    "print(\"Raw address: \",x[0])\n",
    "print(\"POI/Street: \",y[0])"
   ]
  },
  {
   "cell_type": "code",
   "execution_count": 84,
   "metadata": {},
   "outputs": [],
   "source": [
    "#Variables\n",
    "RANDOM_STATE = 50\n",
    "EPOCHS = 150\n",
    "BATCH_SIZE = 2048\n",
    "TRAINING_LENGTH = 50\n",
    "TRAIN_FRACTION = 0.7\n",
    "LSTM_CELLS = 64\n",
    "VERBOSE = 0\n",
    "SAVE_MODEL = True"
   ]
  },
  {
   "cell_type": "code",
   "execution_count": null,
   "metadata": {},
   "outputs": [],
   "source": []
  }
 ]
}