{
 "metadata": {
  "language_info": {
   "codemirror_mode": {
    "name": "ipython",
    "version": 3
   },
   "file_extension": ".py",
   "mimetype": "text/x-python",
   "name": "python",
   "nbconvert_exporter": "python",
   "pygments_lexer": "ipython3",
   "version": "3.8.5-final"
  },
  "orig_nbformat": 2,
  "kernelspec": {
   "name": "python3",
   "display_name": "Python 3.8.5 64-bit",
   "metadata": {
    "interpreter": {
     "hash": "2db524e06e9f5f4ffedc911c917cb75e12dbc923643829bf417064a77eb14d37"
    }
   }
  }
 },
 "nbformat": 4,
 "nbformat_minor": 2,
 "cells": [
  {
   "cell_type": "code",
   "execution_count": 1,
   "metadata": {},
   "outputs": [],
   "source": [
    "#import necessary libraries\n",
    "import pandas as pd"
   ]
  },
  {
   "cell_type": "code",
   "execution_count": 3,
   "metadata": {},
   "outputs": [],
   "source": [
    "#Read csv\n",
    "df = pd.read_csv (r'test.csv')"
   ]
  },
  {
   "cell_type": "code",
   "execution_count": 4,
   "metadata": {},
   "outputs": [
    {
     "output_type": "stream",
     "name": "stdout",
     "text": [
      "          id                                        raw_address\n0          0              s. par 53 sidanegara 4 cilacap tengah\n1          1              angg per, baloi indah kel. lubuk baja\n2          2                              asma laun, mand imog,\n3          3      ud agung rej, raya nga sri wedari karanganyar\n4          4                         cut mutia, 35 baiturrahman\n...      ...                                                ...\n49995  49995                    toko mbak farid semboro semboro\n49996  49996     vie - tk. ridho kids, vete 3 cari, 16720 ciawi\n49997  49997                mart dan roti bakar malabar, nasio,\n49998  49998  graha indah pamulang jl. mujair raya bambu apu...\n49999  49999                                               adi,\n\n[50000 rows x 2 columns]\n"
     ]
    }
   ],
   "source": [
    "#Look inside csv\n",
    "print (df)"
   ]
  },
  {
   "cell_type": "code",
   "execution_count": null,
   "metadata": {},
   "outputs": [],
   "source": []
  }
 ]
}