{
 "metadata": {
  "language_info": {
   "codemirror_mode": {
    "name": "ipython",
    "version": 3
   },
   "file_extension": ".py",
   "mimetype": "text/x-python",
   "name": "python",
   "nbconvert_exporter": "python",
   "pygments_lexer": "ipython3",
   "version": "3.8.5-final"
  },
  "orig_nbformat": 2,
  "kernelspec": {
   "name": "python3",
   "display_name": "Python 3.8.5 64-bit",
   "metadata": {
    "interpreter": {
     "hash": "2db524e06e9f5f4ffedc911c917cb75e12dbc923643829bf417064a77eb14d37"
    }
   }
  }
 },
 "nbformat": 4,
 "nbformat_minor": 2,
 "cells": [
  {
   "cell_type": "code",
   "execution_count": 134,
   "metadata": {},
   "outputs": [],
   "source": [
    "#import necessary libraries\n",
    "import numpy as np\n",
    "import pandas as pd\n",
    "\n",
    "import nltk\n",
    "import time\n",
    "#Tensorflow\n",
    "import tensorflow as tf\n",
    "from tensorflow.keras.preprocessing.text import Tokenizer\n",
    "from tensorflow.keras.utils import to_categorical\n",
    "from tensorflow.keras.models import Sequential\n",
    "from tensorflow.keras.layers import Dense, LSTM, GRU, Embedding\n",
    "from tensorflow.keras.callbacks import ModelCheckpoint, CSVLogger, EarlyStopping, ReduceLROnPlateau\n",
    "from tensorflow.keras.optimizers import SGD, Adam, RMSprop\n",
    "from tensorflow.keras.preprocessing.sequence import pad_sequences\n",
    "from tensorflow.keras.models import load_model"
   ]
  },
  {
   "cell_type": "code",
   "execution_count": 64,
   "metadata": {},
   "outputs": [],
   "source": [
    "from tensorflow.python.client import device_lib\n",
    "#print(device_lib.list_local_devices())"
   ]
  },
  {
   "source": [
    "## Retrieving Data"
   ],
   "cell_type": "markdown",
   "metadata": {}
  },
  {
   "cell_type": "code",
   "execution_count": 5,
   "metadata": {},
   "outputs": [],
   "source": [
    "#Read csv\n",
    "train = pd.read_csv (r'train.csv')\n",
    "test = pd.read_csv (r'test.csv')"
   ]
  },
  {
   "cell_type": "code",
   "execution_count": 48,
   "metadata": {},
   "outputs": [
    {
     "output_type": "stream",
     "name": "stdout",
     "text": [
      "            id                                        raw_address  \\\n0            0  jl kapuk timur delta sili iii lippo cika 11 a ...   \n1            1                                 aye, jati sampurna   \n2            2               setu siung 119 rt 5 1 13880 cipayung   \n3            3                               toko dita, kertosono   \n4            4                                      jl. orde baru   \n...        ...                                                ...   \n299995  299995               jend ahmad yani 331 kertasari ciamis   \n299996  299996                 raya cila kko, cilandak timur kel.   \n299997  299997                     tanjung gusta jl. yaya 2 no 17   \n299998  299998  jalan cipadu jaya taman asri gang bijaksana 3 ...   \n299999  299999          jaya maspion permata blok beryl b2  no.58   \n\n                                       POI/street  \n0       /jl kapuk timur delta sili iii lippo cika  \n1                                               /  \n2                                          /siung  \n3                                      toko dita/  \n4                                  /jl. orde baru  \n...                                           ...  \n299995                           /jend ahmad yani  \n299996                             /raya cila kko  \n299997                                          /  \n299998                                taman asri/  \n299999                      jaya maspion permata/  \n\n[300000 rows x 3 columns]\n"
     ]
    }
   ],
   "source": [
    "df_train = pd.DataFrame(train, columns= ['id','raw_address','POI/street'])\n",
    "print(df_train)"
   ]
  },
  {
   "cell_type": "code",
   "execution_count": 49,
   "metadata": {},
   "outputs": [
    {
     "output_type": "stream",
     "name": "stdout",
     "text": [
      "          id                                        raw_address\n0          0              s. par 53 sidanegara 4 cilacap tengah\n1          1              angg per, baloi indah kel. lubuk baja\n2          2                              asma laun, mand imog,\n3          3      ud agung rej, raya nga sri wedari karanganyar\n4          4                         cut mutia, 35 baiturrahman\n...      ...                                                ...\n49995  49995                    toko mbak farid semboro semboro\n49996  49996     vie - tk. ridho kids, vete 3 cari, 16720 ciawi\n49997  49997                mart dan roti bakar malabar, nasio,\n49998  49998  graha indah pamulang jl. mujair raya bambu apu...\n49999  49999                                               adi,\n\n[50000 rows x 2 columns]\n"
     ]
    }
   ],
   "source": [
    "df_test = pd.DataFrame(test, columns= ['id','raw_address'])\n",
    "print(df_test)"
   ]
  },
  {
   "cell_type": "code",
   "execution_count": 7,
   "metadata": {},
   "outputs": [
    {
     "output_type": "execute_result",
     "data": {
      "text/plain": [
       "0         jl kapuk timur delta sili iii lippo cika 11 a ...\n",
       "1                                        aye, jati sampurna\n",
       "2                      setu siung 119 rt 5 1 13880 cipayung\n",
       "3                                      toko dita, kertosono\n",
       "4                                             jl. orde baru\n",
       "                                ...                        \n",
       "299995                 jend ahmad yani 331 kertasari ciamis\n",
       "299996                   raya cila kko, cilandak timur kel.\n",
       "299997                       tanjung gusta jl. yaya 2 no 17\n",
       "299998    jalan cipadu jaya taman asri gang bijaksana 3 ...\n",
       "299999            jaya maspion permata blok beryl b2  no.58\n",
       "Name: raw_address, Length: 300000, dtype: object"
      ]
     },
     "metadata": {},
     "execution_count": 7
    }
   ],
   "source": [
    "#Call all the raw addresses\n",
    "df_train.raw_address"
   ]
  },
  {
   "cell_type": "code",
   "execution_count": 8,
   "metadata": {},
   "outputs": [
    {
     "output_type": "execute_result",
     "data": {
      "text/plain": [
       "   id                                        raw_address\n",
       "2   2               setu siung 119 rt 5 1 13880 cipayung\n",
       "3   3                               toko dita, kertosono\n",
       "4   4                                      jl. orde baru\n",
       "5   5                   raya samb gede, 299 toko bb kids\n",
       "6   6  kem mel raya, no 4 bojong rawalumbu rt 1 36 ra..."
      ],
      "text/html": "<div>\n<style scoped>\n    .dataframe tbody tr th:only-of-type {\n        vertical-align: middle;\n    }\n\n    .dataframe tbody tr th {\n        vertical-align: top;\n    }\n\n    .dataframe thead th {\n        text-align: right;\n    }\n</style>\n<table border=\"1\" class=\"dataframe\">\n  <thead>\n    <tr style=\"text-align: right;\">\n      <th></th>\n      <th>id</th>\n      <th>raw_address</th>\n    </tr>\n  </thead>\n  <tbody>\n    <tr>\n      <th>2</th>\n      <td>2</td>\n      <td>setu siung 119 rt 5 1 13880 cipayung</td>\n    </tr>\n    <tr>\n      <th>3</th>\n      <td>3</td>\n      <td>toko dita, kertosono</td>\n    </tr>\n    <tr>\n      <th>4</th>\n      <td>4</td>\n      <td>jl. orde baru</td>\n    </tr>\n    <tr>\n      <th>5</th>\n      <td>5</td>\n      <td>raya samb gede, 299 toko bb kids</td>\n    </tr>\n    <tr>\n      <th>6</th>\n      <td>6</td>\n      <td>kem mel raya, no 4 bojong rawalumbu rt 1 36 ra...</td>\n    </tr>\n  </tbody>\n</table>\n</div>"
     },
     "metadata": {},
     "execution_count": 8
    }
   ],
   "source": [
    "#Get a rows of addresses\n",
    "df_train.loc[2:6]"
   ]
  },
  {
   "cell_type": "code",
   "execution_count": 9,
   "metadata": {},
   "outputs": [
    {
     "output_type": "execute_result",
     "data": {
      "text/plain": [
       "(300000,)"
      ]
     },
     "metadata": {},
     "execution_count": 9
    }
   ],
   "source": [
    "df_train.raw_address.shape"
   ]
  },
  {
   "source": [
    "## Tokenization"
   ],
   "cell_type": "markdown",
   "metadata": {}
  },
  {
   "cell_type": "code",
   "execution_count": 26,
   "metadata": {},
   "outputs": [],
   "source": [
    "def tokenize(contents):\n",
    "  allAddresses = contents.raw_address\n",
    "  tokens = []\n",
    "  for address in allAddresses:\n",
    "    #print(address.split(\", \"))\n",
    "    for text in address.split(\", \"):\n",
    "      tokens.append(text)\n",
    "  return tokens"
   ]
  },
  {
   "cell_type": "code",
   "execution_count": 29,
   "metadata": {
    "tags": []
   },
   "outputs": [],
   "source": [
    "#Get Tokens\n",
    "train_tokens = tokenize(df_train)"
   ]
  },
  {
   "cell_type": "code",
   "execution_count": 31,
   "metadata": {},
   "outputs": [
    {
     "output_type": "execute_result",
     "data": {
      "text/plain": [
       "474418"
      ]
     },
     "metadata": {},
     "execution_count": 31
    }
   ],
   "source": [
    "#Number of tokens found\n",
    "len(train_tokens)"
   ]
  },
  {
   "cell_type": "code",
   "execution_count": 45,
   "metadata": {},
   "outputs": [
    {
     "output_type": "execute_result",
     "data": {
      "text/plain": [
       "377844"
      ]
     },
     "metadata": {},
     "execution_count": 45
    }
   ],
   "source": [
    "# number of UNIQUE tokens found\n",
    "vocabulary = set(train_tokens)\n",
    "len(vocabulary)"
   ]
  },
  {
   "cell_type": "code",
   "execution_count": 47,
   "metadata": {},
   "outputs": [
    {
     "output_type": "execute_result",
     "data": {
      "text/plain": [
       "['jend sudi',\n",
       " 'ahmad yani',\n",
       " 'jend ahmad yani',\n",
       " 'pem',\n",
       " 'gajah mada',\n",
       " 'soek hatta',\n",
       " 'vete',\n",
       " 'yos suda',\n",
       " 'imam bon',\n",
       " 'dip',\n",
       " 'gatot subr',\n",
       " 'depok',\n",
       " 'pahl',\n",
       " 'teuku umar',\n",
       " 'man',\n",
       " 'no 1',\n",
       " 'hayam wuruk',\n",
       " 'pram',\n",
       " 'brig kata',\n",
       " 'jend sudi,',\n",
       " 'merd',\n",
       " 'kuta',\n",
       " 'rw 1',\n",
       " 'denpasar barat',\n",
       " 'cengkareng',\n",
       " 'setia budi',\n",
       " 'ir. h. jua',\n",
       " 'pang sudi',\n",
       " 'kebon jeruk',\n",
       " 'rw 4',\n",
       " 'nasio',\n",
       " 'ban',\n",
       " 'jawa barat',\n",
       " 'ahmad yani,',\n",
       " 'mawar',\n",
       " 'mas',\n",
       " 'jati',\n",
       " 'gar',\n",
       " 'raya ser',\n",
       " 'toko kelon',\n",
       " 'taman sari',\n",
       " 'peri kem',\n",
       " 'denpasar selatan',\n",
       " 'siliw',\n",
       " 'urip sumoh',\n",
       " 'waru',\n",
       " 'tangerang',\n",
       " 'cipayung',\n",
       " 'bas rah',\n",
       " 'balikpapan selatan']"
      ]
     },
     "metadata": {},
     "execution_count": 47
    }
   ],
   "source": [
    "frequency_dist = nltk.FreqDist(train_tokens)\n",
    "#Show top 50 tokens\n",
    "sorted(frequency_dist,key=frequency_dist.__getitem__, reverse=True)[0:50]"
   ]
  },
  {
   "source": [
    "## Set Up the Model"
   ],
   "cell_type": "markdown",
   "metadata": {}
  },
  {
   "cell_type": "code",
   "execution_count": 182,
   "metadata": {},
   "outputs": [],
   "source": [
    "raws = df_train['raw_address'].to_numpy()\n",
    "results = df_train['POI/street'].to_numpy()"
   ]
  },
  {
   "cell_type": "code",
   "execution_count": 184,
   "metadata": {},
   "outputs": [],
   "source": [
    "# TOKENIZE TEXT SEQUENCE\n",
    "tokenizer = Tokenizer()\n",
    "tokenizer.fit_on_texts(raws)\n",
    "sequences = tokenizer.texts_to_sequences(raws)\n",
    "\n",
    "# convert to numpy array\n",
    "sequences = np.array(sequences)\n",
    "x = sequences"
   ]
  },
  {
   "cell_type": "code",
   "execution_count": 203,
   "metadata": {},
   "outputs": [],
   "source": [
    "# TOKENIZE TEXT SEQUENCE\n",
    "sequences = tokenizer.texts_to_sequences(results)\n",
    "\n",
    "# convert to numpy array\n",
    "sequences = np.array(sequences)\n",
    "y = sequences"
   ]
  },
  {
   "cell_type": "code",
   "execution_count": 204,
   "metadata": {},
   "outputs": [
    {
     "output_type": "execute_result",
     "data": {
      "text/plain": [
       "array([list([8, 282, 12, 876, 7664, 39, 2147, 656, 31, 45, 6855, 107, 291]),\n",
       "       list([9761, 48, 494]),\n",
       "       list([401, 16058, 1538, 2, 13, 4, 9368, 174]), ...,\n",
       "       list([42, 3560, 8, 1277, 5, 1, 61]),\n",
       "       list([90, 1941, 16, 29, 129, 58, 15684, 7, 1728, 210, 1, 383]),\n",
       "       list([16, 7004, 600, 28, 13091, 1708, 1, 426])], dtype=object)"
      ]
     },
     "metadata": {},
     "execution_count": 204
    }
   ],
   "source": [
    "x"
   ]
  },
  {
   "cell_type": "code",
   "execution_count": 186,
   "metadata": {},
   "outputs": [
    {
     "output_type": "stream",
     "name": "stdout",
     "text": [
      "X:  (300000,)\nY:  (300000,)\n"
     ]
    }
   ],
   "source": [
    "print(\"X: \",x.shape)\n",
    "print(\"Y: \",y.shape)"
   ]
  },
  {
   "cell_type": "code",
   "execution_count": 187,
   "metadata": {
    "tags": [
     "outputPrepend"
    ]
   },
   "outputs": [
    {
     "output_type": "stream",
     "name": "stdout",
     "text": [
      "ingsir': 80624, '336a': 80625, 'mampan': 80626, 'penjarin': 80627, 'gimbal': 80628, 'qoryah': 80629, '43tg9': 80630, 'dwina': 80631, 'dispenda': 80632, 'halteu': 80633, 'baswey': 80634, '144ab': 80635, 'nurfau': 80636, 'chasanah': 80637, '46138': 80638, 'gadri': 80639, '93122': 80640, 'leang': 80641, '1166': 80642, 'pilli': 80643, 'emwe': 80644, 'religious': 80645, 'abshor': 80646, 'irsad': 80647, 'samiran': 80648, 'kimiko': 80649, 'carano': 80650, 'coms': 80651, '674': 80652, 'darmika': 80653, '12kel': 80654, 'jans': 80655, 'permono': 80656, 'wayd': 80657, 'atut': 80658, 'widyaningsih': 80659, 'indoba': 80660, 'samira': 80661, '37m': 80662, 'langa': 80663, 'allstate': 80664, 'benks': 80665, 'kalikuning': 80666, 'lumer': 80667, 'rezekimu': 80668, 'maskot': 80669, 'romza': 80670, 'clotes': 80671, 'ngemp': 80672, 'pundhi': 80673, 'semprul': 80674, 'pohea': 80675, 'pandanwang': 80676, 'kedhai': 80677, 'pertumbukan': 80678, '61373': 80679, 'gbdi': 80680, 'kany': 80681, 'oucha': 80682, 'danna': 80683, 'ethernet': 80684, 'tanggulrejo': 80685, '948': 80686, 'apk': 80687, '179d': 80688, 'cibalado': 80689, 'hajimen': 80690, 'starbuck': 80691, 'medan٫': 80692, 'barat٫': 80693, 'widay': 80694, 'mekan': 80695, 'seals': 80696, 'yapi': 80697, 'khamid': 80698, 'geti': 80699, 'suparmi': 80700, 'soegianto': 80701, 'setiat': 80702, 'annahd': 80703, 'luwunggede': 80704, '53415': 80705, 'ditali': 80706, 'kav2': 80707, 'boem': 80708, 'anais': 80709, 'inag': 80710, 'mizzar': 80711, 'tiben': 80712, 'zubir': 80713, 'talwai': 80714, 'coper': 80715, 'scoob': 80716, 'paryanti': 80717, 'sembunyi': 80718, 'deut': 80719, 'gesells': 80720, 'fuer': 80721, 'techni': 80722, 'zusammen': 80723, 'grateful': 80724, 'tanggem': 80725, 'vinny': 80726, 'pureit': 80727, 'alohaseafood': 80728, 'sigandu': 80729, 'klidang': 80730, 'pawo': 80731, 'moonow': 80732, 't2t': 80733, 'diliana': 80734, 'coz': 80735, 'gerbras': 80736, 'wonogondo': 80737, 'tumpan': 80738, 'dapour': 80739, 'parni': 80740, 'nilis': 80741, 'viiif': 80742, 'bukalap': 80743, 'kape': 80744, 'naning': 80745, 'umaroh': 80746, '173d': 80747, 'grosirdan': 80748, 'tafe': 80749, 'pegeh': 80750, 'masegara': 80751, 'yusufiyah': 80752, 'danginume': 80753, 'crui': 80754, 'saris': 80755, 'sambolo': 80756, '357d': 80757, 'mjc': 80758, 'sanggam': 80759, 'cikor': 80760, 'aiki': 80761, 'zinnuarain': 80762, 'obuyuts': 80763, 'gandasa': 80764, 'yabika': 80765, 'skyl': 80766, 'ngumban': 80767, 'peninjoan': 80768, 'sasag': 80769, 'melba': 80770, 'jede': 80771, 'siansimun': 80772, 'antaru': 80773, 'kessing': 80774, '2277': 80775, 'celluular': 80776, 'tnjong': 80777, 'deliserdang': 80778, 'logon': 80779, 'karangjambu': 80780, 'riezk': 80781, 'perkampungan': 80782, 'deska': 80783, 'hendy': 80784, 'usmaja': 80785, 'parulian': 80786, 'maskura': 80787, 'sambam': 80788, 'gamoh': 80789, 'kafet': 80790, 'r121': 80791, 'kocen': 80792, 'raflesis': 80793, 'mudrikah': 80794, 'phg': 80795, 'cassette': 80796, 'vandi': 80797, 'arkim': 80798, 'atalla': 80799, 'unggaran': 80800, 'pakuwojo': 80801, 'nirbaya': 80802, 'figha': 80803, '69381': 80804, 'taretta': 80805, 'calagenreng': 80806, '172e': 80807, 'linggon': 80808, 'simpung': 80809, 'ryuka': 80810, 'mudru': 80811, 'corda': 80812, 'banyuaeng': 80813, \"mutma'inah\": 80814, 'akhu': 80815, 'niuw': 80816, 'selopanggung': 80817, 'halimi': 80818, 'tubohan': 80819, 'bodan': 80820, 'delm': 80821, '69415': 80822, 'manufak': 80823, 'servicce': 80824, 'makasaar': 80825, 'unismu': 80826, 'losc': 80827, 'timlezt': 80828, '69315': 80829, 'saruado': 80830, 'vivie': 80831, 'bdv': 80832, 'tyopotret': 80833, 'yebrang': 80834, 'primafood': 80835, 'internationa': 80836, 'lelangon': 80837, 'zaic': 80838, 'palurahan': 80839, 'keprib': 80840, 'h23': 80841, 'nuruh': 80842, '41273': 80843, 'kemir': 80844, 'cors': 80845, 'balittas': 80846, 'raftour': 80847, 'habsyi': 80848, 'albusyra': 80849, 'kepruk': 80850, 'qm': 80851, 'kolos': 80852, 'sagalah': 80853, 'temmapaduae': 80854, 'pasireungit': 80855, 'takim': 80856, 'sumbing': 80857, 'kuntu': 80858, '93472': 80859, 'indagro': 80860, 'entjim': 80861, 'beirut': 80862, '91125': 80863, 'warcom': 80864, 'elltya': 80865, 'jqlan': 80866, '702t': 80867, 'fres2': 80868, 'lalole': 80869, 'etnic': 80870, 'bulusibatang': 80871, 'orka': 80872, 'dbox': 80873, 'karnodin': 80874, 'kodri': 80875, 'pe2ng': 80876, 'ristana': 80877, 'pojokwatu': 80878, 'mujanah': 80879, 'hamli': 80880, 'dwijendra': 80881, '42277': 80882, 'randuharjo': 80883, '80861': 80884, 'wallst': 80885, 'kaliayu': 80886, 'w3': 80887, 'azzamy': 80888, 'panimbunan': 80889, 'megaban': 80890, 'erlis': 80891, 'thec': 80892, 'gantiw': 80893, '66124': 80894, 'penggilinngan': 80895, 'batacom': 80896, '57382': 80897, 'nesm': 80898, 'bayt': 80899, \"d'imz\": 80900, 'azzis': 80901, 'ruani': 80902, 'ppiptek': 80903, 'sejoanging': 80904, 'saepuloh': 80905, 'cikitu': 80906, '429a': 80907, 'veter': 80908, 'tuoy': 80909, 'cepok': 80910, '63286': 80911, \"pa'min\": 80912, 'jurhan': 80913, 'rutinih': 80914, 'timur2': 80915, 'ciz': 80916, 'saronojiwo': 80917, 'milanisti': 80918, 'kadungr': 80919, 'kadungrembug': 80920, 'kalangsuria': 80921, 'balitan': 80922, 'fingers': 80923, 'astrio': 80924, 'kenf': 80925, 'tanur': 80926, 'loan': 80927, '87111': 80928, 'hma': 80929, 'gotalamo': 80930, 'kawazaki': 80931, 'gassing': 80932, 'wakh': 80933, 'sq': 80934, 'aribah': 80935, 'sanxing': 80936, 'mitsu': 80937, '28145': 80938, 'kemelak': 80939, 'bindung': 80940, 'peeumhan': 80941, 'alte': 80942, 'rogoy': 80943, 'basuo': 80944, 'besaudara': 80945, 'citem': 80946, '53261': 80947, '76j': 80948, 'axc': 80949, 'pengkajian': 80950, 'teknolog': 80951, 'rummaisha': 80952, 'retah': 80953, 'albezits': 80954, 'rekt': 80955, '26216': 80956, 'ngalang': 80957, '37o': 80958, 'atit': 80959, 'km03': 80960, '111x': 80961, 'rayana': 80962, '16aa': 80963, '37573': 80964, 'sukesti': 80965, 'bulugl': 80966, 'akena': 80967, 'murani': 80968, 'huudy': 80969, 'cedang': 80970, 'becak': 80971, 'iday': 80972, 'imtaq': 80973, 'karanghegar': 80974, 'spaghetti': 80975, 'metro10': 80976, 'amarilis': 80977, 'i16': 80978, 'chinku': 80979, 'lease': 80980, 'fotocopian': 80981, '66k': 80982, 'kinilow': 80983, 'nonstop': 80984, 'waliman': 80985, 'sidogede': 80986, '210d': 80987, 'assyah': 80988, 'pmbli': 80989, 'prelis': 80990, 'brilianrez': 80991, 'penujah': 80992, '52472': 80993, 'fadlilah': 80994, 'haezer': 80995, 'wrm': 80996, '694': 80997, 'eyza': 80998, 'mumah': 80999, 'betnga': 81000, 'sendja': 81001, 'basarnas': 81002, 'nasyani': 81003, 'pasirpeuti': 81004, 'mardiy': 81005, 'entu': 81006, 'tarape': 81007, 'epip': 81008, 'apllo': 81009, 'fatra': 81010, 'aulya': 81011, 'labuha': 81012, 'lamai': 81013, 'novelia': 81014, 'watuagung': 81015, 'lgedung': 81016, 'ghij': 81017, 'tarya': 81018, 'cinehel': 81019, 'peniketaan': 81020, 'blaw': 81021, 'zuriyanli': 81022, 'segu': 81023, 'indrajati': 81024, '1505': 81025, 'bentangan': 81026, 'karangsatu': 81027, 'kecomberab': 81028, '03patokan': 81029, 'arash': 81030, 'milksh': 81031, 'poltekkes': 81032, 'kamasi': 81033, 'sepinggen': 81034, 'veg': 81035, '100z': 81036, 'budisa': 81037, 'rahardiasmara': 81038, '57156': 81039, 'gunongan': 81040, 'vald': 81041, 'indrakusuma': 81042, 'toegoe': 81043, 'funw': 81044, 'elinda': 81045, 'prkauman': 81046, 'spooky': 81047, 'elsye': 81048, 'basithu': 81049, 'bakalrejo': 81050, 'pedada': 81051, 'fabs': 81052, '04rw': 81053, 'terper': 81054, '82ag': 81055, 'backdoor': 81056, 'panjerejo': 81057, 'sambongsari': 81058, 'ericson': 81059, 'txas': 81060, 'batuajara': 81061, 'bichos': 81062, 'bandaraksa': 81063, 'ejoli': 81064, 'superkue': 81065, 'sulf': 81066, 'ricem': 81067, 'butan': 81068, 'meutuah': 81069, 'mislimin': 81070, 'milli': 81071, 'tejorini': 81072, 'tubuma': 81073, 'kyan': 81074, 'intiva': 81075, 'jembawan': 81076, 'mangcek': 81077, 'ambulans': 81078, '03jl': 81079, 'bi30': 81080, 'visualm': 81081, 'nadeen': 81082, '57435': 81083, 'cred': 81084, 'waringinkurungkec': 81085, 'loke': 81086, 'erniez': 81087, 'panhkas': 81088, 'batikan': 81089, 'trunoj': 81090, 'pbm': 81091, 'iaf': 81092, 'sumbermandiri': 81093, 'didz': 81094, '88f': 81095, 'ganell': 81096, 'alfap': 81097, 'kusa': 81098, 'meriani': 81099, 'tegu': 81100, '25536': 81101, 'samarinda2': 81102, 'durbuk': 81103, 'dhalam': 81104, 'aspay': 81105, 'adennan': 81106, 'rumbut': 81107, '20714': 81108, 'gbp': 81109, 'pleci': 81110, \"d'hamonic\": 81111, 'hormon': 81112, 'marwadi': 81113, '46397': 81114, 'irih': 81115, 'shiddig': 81116, 'slm': 81117, '75331': 81118, 'mdr': 81119, 'baat': 81120, 'skipp': 81121, 'chakra': 81122, 'pidia': 81123, 'yanmed': 81124, 'browniez': 81125, 'murlinus': 81126, 'recruitment': 81127, '22av': 81128, 'milatronika': 81129, 'labaha': 81130, 'bcrewinside': 81131, 'cihin': 81132, 'audh': 81133, '17837': 81134, 'wailiang': 81135, 'meritai': 81136, 'tje': 81137, 'ombah': 81138, 'warbaks': 81139, 'sarga': 81140, 'lumas': 81141, 'rumawan': 81142, '1034': 81143, 'mohandis': 81144, 'fanisa': 81145, '1041': 81146, 'emd': 81147, 'unilis': 81148, 'sulestri': 81149, 'cholili': 81150, '4s': 81151, '67262': 81152, 'aliv': 81153, 'bosjam': 81154, 'caplin': 81155, 'herliati': 81156, 'elnagr': 81157, 'per7mahan': 81158, 'sempurn': 81159, 'multinusa': 81160, 'cind': 81161, 'cindaga': 81162, 'bema': 81163, 'kalipepe': 81164, 'indotex': 81165, 'tegowangi': 81166, 'kesun': 81167, 'alqi': 81168, '88e': 81169, 'sportaways': 81170, '2106': 81171, 'suryaprana': 81172, 'nutris': 81173, 'mwm': 81174, 'tarempah': 81175, 'nasura': 81176, '50182': 81177, '15i': 81178, 'wiya': 81179, 'adell': 81180, 'stru': 81181, 'mertanadi': 81182, 'matsani': 81183, 'sanol': 81184, 'passa': 81185, 'bottled': 81186, 'tarud': 81187, \"eni's\": 81188, '45465': 81189, 'xxic': 81190, 'gedangrowo': 81191, 'vazza': 81192, 'mesigit': 81193, 'yusam': 81194, 'abdidurochiem': 81195, 'adibah': 81196, 'plass': 81197, 'siwit': 81198, 'tagor': 81199, 'agatos': 81200, 'hokkian': 81201, 'tembes': 81202, 'studies': 81203, '2714': 81204, '50262': 81205, 'tramo': 81206, 'wo99': 81207, 'ghru': 81208, 'hanara': 81209, 'grenteng': 81210, 'curuk': 81211, 'cibalo': 81212, 'vhyee': 81213, 'doorsmer': 81214, 'selokarto': 81215, 'medie': 81216, 'h28': 81217, 'metadata': 81218, 'sapiri': 81219, 'baimbai': 81220, 'c228': 81221, 'kebotohan': 81222, 'gski': 81223, 'moedrik': 81224, 'ekse': 81225, 'marso': 81226, 'sorowajan': 81227, 'bankara': 81228, 'andansari': 81229, 'pirma': 81230, 'p3tv': 81231, 'autosport': 81232, 'kopansha': 81233, 'talunk': 81234, 'tlogonongko': 81235, 'garza': 81236, 'scotch': 81237, '1090': 81238, 'sedg': 81239, 'mubajirin': 81240, 'aliku': 81241, 'bagoes': 81242, 'pantans': 81243, 'skating': 81244, 'ikans': 81245, 'alaey': 81246, 'mujiyati': 81247, 'yunaedi': 81248, 'laviolas': 81249, 'sijian': 81250, 'iceu': 81251, '304v': 81252, 'fanji': 81253, 'lalonggombu': 81254, 'sentifik': 81255, 'pujisa': 81256, 'assad': 81257, 'gunungronggo': 81258, 'warsinem': 81259, 'mendiro': 81260, 'bedut': 81261, 'pangurabaan': 81262, 'windhy': 81263, 'elegan': 81264, 'jenisa': 81265, 'chocoblended': 81266, 'argowilis': 81267, 'barel': 81268, 'anyan': 81269, 'g20': 81270, 'daarussadah': 81271, 'pejo': 81272, 'timicy': 81273, 'sudiasih': 81274, 'ompu': 81275, 'baet': 81276, 'buahkapas': 81277, 'bigv': 81278, 'wikikopi': 81279, 'printpack': 81280, '86561': 81281, '108kel': 81282, 'vanshobby': 81283, 'herawaty': 81284, 'rerey': 81285, 'zamh': 81286, 'sukopuro': 81287, '42169': 81288, 'ekar': 81289, 'ishaqiyah': 81290, 'wielde': 81291, 'rtadio': 81292, 'nk2': 81293, 'hidat': 81294, \"se'ad\": 81295, 'petsho': 81296, 'bigstone': 81297, 'x14': 81298, 'b034': 81299, 'guttu': 81300, 'pamai': 81301, 'atira': 81302, 'psgc': 81303, 'molan': 81304, 'otentik': 81305, 'shoap': 81306, 'achilles': 81307, 'acce': 81308, 'forceum': 81309, 'peniraman': 81310, 'penggelap': 81311, 'lips': 81312, 'melalu': 81313, '153c': 81314, 'delon': 81315, 'pengalasan': 81316, 'endo': 81317, 'kaseg': 81318, 'kasegeran': 81319, 'khazifa': 81320, '26229': 81321, 'praptomo': 81322, 'ncek': 81323, '95531': 81324, 'wiryosu': 81325, 'tukimin': 81326, 'inbisco': 81327, 'selekop': 81328, 'khaborael': 81329, 'cipanunjang': 81330, 'wengga': 81331, 'mantec': 81332, '2617': 81333, 'hasienda21jl': 81334, 'raywhite': 81335, 'bites': 81336, 'pelud': 81337, 'asnap': 81338, 'widiati': 81339, 'kareem': 81340, 'palmano': 81341, \"d'hea\": 81342, 'no384': 81343, 'l10': 81344, 'sepedah': 81345, 'alkurowa': 81346, 'aksel': 81347, '56314': 81348, 'djogo': 81349, 'rahar': 81350, 'adikarto': 81351, 'trimu': 81352, '35551': 81353, 'kedais': 81354, 'mlinjo': 81355, '1165': 81356, 'baland': 81357, 'paaar': 81358, 'waykandis': 81359, 'a44': 81360, 'taesin': 81361, '45114': 81362, 'tozi': 81363, 'pfizer': 81364, 'rohit': 81365, 'jenekang': 81366, 'ipb1': 81367, 'leging': 81368, 'sumberwudi': 81369, 'reliance': 81370, 'wanusobo': 81371, 'darmajaya': 81372, 'ngkong': 81373, 'tunin': 81374, 'today': 81375, 'susuhbango': 81376, 'anong': 81377, 'syubb': 81378, 'tunarungu': 81379, 'bekisar': 81380, 'narito': 81381, '707b': 81382, 'claustar': 81383, 'maiya': 81384, 'gshop': 81385, 'juing': 81386, 'erdianto': 81387, 'wardhana': 81388, 'industritenayan': 81389, 'dilampu': 81390, 'proye': 81391, 'clock': 81392, 'buae': 81393, 'sgd': 81394, 'sariyo': 81395, 'klingkit': 81396, 'winss': 81397, 'garag': 81398, 'embe': 81399, '053ii': 81400, 'penual': 81401, 'parangkesit': 81402, 'binsar': 81403, 'kindiah': 81404, 'brebeg': 81405, 'banci': 81406, 'efina': 81407, 'selawang': 81408, 'segantang': 81409, 'keharmonisan': 81410, 'buanas': 81411, \"nop's\": 81412, 'bangsus': 81413, 'rilan': 81414, 'infokom': 81415, '8822': 81416, 'sinduraya': 81417, 'pohara': 81418, 'trimas': 81419, 'andant': 81420, 'galope': 81421, 'zhou': 81422, 'conex': 81423, 'jez': 81424, 'eek': 81425, 'damaska': 81426, 'fimka': 81427, 'ganja': 81428, 'pulot': 81429, 'amparita': 81430, '57179': 81431, 'tyad': 81432, '296a': 81433, 'cipancar': 81434, 'kayun': 81435, 'anjelo': 81436, 'istir': 81437, '2st': 81438, '2123': 81439, 'mieyamso69': 81440, 'wijana': 81441, 'nasiatul': 81442, 'bakah': 81443, 'bahrin': 81444, 'famtraco': 81445, 'madua': 81446, 'duwak': 81447, 'peug': 81448, '1413b': 81449, 'adhira': 81450, 'longat': 81451, 'romangloe': 81452, 'balie': 81453, 'tique': 81454, 'sumbermujur': 81455, 'solder': 81456, '67373': 81457, 'ereropa': 81458, 'godon': 81459, 'andwi': 81460, 'klampitan': 81461, 'kaude': 81462, 'kisna': 81463, 'firriyandi': 81464, 'dysna': 81465, 'medisoft': 81466, 'bouticue': 81467, \"liza's\": 81468, 'polisindo': 81469, 'sajahbkalo': 81470, 'sumub': 81471, 'eyewear': 81472, 'nomo': 81473, 'cihareng': 81474, 'balongtani': 81475, 'luby': 81476, 'punggulan': 81477, 'wichindo': 81478, 'pramika': 81479, 'ruqiah': 81480, 'singkoyo': 81481, 'mufidurrohman': 81482, 'interl': 81483, '19i': 81484, 'vi2n': 81485, 'punawa': 81486, 'forqon': 81487, 'no005': 81488, 'hyra': 81489, 'multiv': 81490, 'sonco': 81491, 'cisait': 81492, 'kerjani': 81493, 'keserangan': 81494, 'ziara': 81495, 'seminary': 81496, 'backbone': 81497, 'guran': 81498, 'tallung': 81499, 'kukeh': 81500, 'lsj': 81501, '15647': 81502, 'mandalagiri': 81503, 'sapro': 81504, 'hokya': 81505, 'condrolokito': 81506, 'patakon': 81507, '64162': 81508, 'cocktail': 81509, 'lismi': 81510, 'bkad': 81511, 'safiatuddin': 81512, 'tasha': 81513, 'semprit': 81514, 'asrikin': 81515, 'sanggauledo': 81516, 'saej': 81517, 'patoan': 81518, 'canda': 81519, 'adjhie': 81520, 'daroj': 81521, 'brass': 81522, 'encon': 81523, 'soepi': 81524, 'bajuin': 81525, 'celor': 81526, 'marbella2': 81527, 'pedu': 81528, '1660': 81529, 'thoyibah': 81530, 'soloper': 81531, 'healthcare': 81532, 'tutis': 81533, 'anjung': 81534, 'jumawan': 81535, 'liyen': 81536, \"d'jahe\": 81537, 'tamping': 81538, 'koperindo': 81539, 'techking': 81540, 'gerjensari': 81541, 'syafaat': 81542, 'gumirih': 81543, 'ekay': 81544, 'silhouette': 81545, 'callez': 81546, 'bulupayung': 81547, 'trayu': 81548, '28565': 81549, 'brahul': 81550, 'ukirsari': 81551, 'monges': 81552, 'labangka': 81553, 'sousis': 81554, 'ngudhi': 81555, 'winongsari': 81556, 'lakses': 81557, 'dijou': 81558, 'alpian': 81559, 'raffer': 81560, 'astrina': 81561, 'nullpointer': 81562, '91k': 81563, 'tauno': 81564, '67137': 81565, 'dlau': 81566, 'wardan': 81567, 'mensango': 81568, 'matara': 81569, 'pharmasindo': 81570, 'custumer': 81571, 'jalarta': 81572, '36101': 81573, 'kidan': 81574, 'abbi': 81575, 'kecong': 81576, 'dulan': 81577, 'leka': 81578, 'antari': 81579, 'biding': 81580, 'mandep': 81581, 'barepan': 81582, 'gidna': 81583, 'imaswati': 81584, 'ilin': 81585, 'riga': 81586, 'yanna': 81587, 'hutahean': 81588, 'buns': 81589, '53177': 81590, 'therosjadi': 81591, 'npak': 81592, 'xanram': 81593, 'nofi': 81594, 'dind': 81595, 'musika': 81596, 'cimmanggis': 81597, 'mantu': 81598, 'sulaimah': 81599, 'tabi': 81600, 'nenok': 81601, '0011': 81602, 'fachrul': 81603, 'ayes': 81604, 'kalya': 81605, 'sareh': 81606, 'aktuaria': 81607, 'manggur': 81608, 'thea': 81609, 'roudhatul': 81610, 'winarta': 81611, 'adisumarmo': 81612, 'salm': 81613, 'pgg': 81614, 'samsudinnor': 81615, 'cijunti': 81616, 'gempolsewu': 81617, 'subaim': 81618, 'langsan': 81619, 'lylo': 81620, 'amini': 81621, 'nurik': 81622, 'alghifari': 81623, 'assaki': 81624, 'hoddo': 81625, 'poncoroso': 81626, 'derponoyo': 81627, 'securitt': 81628, 'loki': 81629, 'stroke': 81630, 'proban': 81631, 'motop': 81632, 'mungku': 81633, 'hotata': 81634, 'e102': 81635, 'kerosindo': 81636, 'rieke': 81637, 'gepreek': 81638, 'mustahil': 81639, 'rosyi': 81640, 'tamberu': 81641, 'jlego': 81642, 'alfacoms': 81643, 'galv': 81644, 'cirbon': 81645, 'fathiyya': 81646, 'umaya': 81647, 'akukamukopi': 81648, '24653': 81649, 'macadam': 81650, 'b48': 81651, 'clever': 81652, 'iwul': 81653, 'pamrkasan': 81654, 'assalikin': 81655, 'brasil': 81656, 'langom': 81657, 'latta': 81658, 'befat': 81659, 'majalangu': 81660, '52357': 81661, 'moncer': 81662, '3109': 81663, 'kuwase': 81664, 'rukmini': 81665, 'ngatman': 81666, 'dse': 81667, 'lindet': 81668, '38kel': 81669, 'autocare': 81670, 'wkoel': 81671, 'foodstreet': 81672, 'binongko': 81673, 'gebby': 81674, 'vhl': 81675, 'ktb': 81676, 'admini': 81677, 'spanyol': 81678, 'cipami': 81679, 'moims': 81680, 'polamas': 81681, 'sunb': 81682, 'cpal': 81683, '34167': 81684, 'mabd': 81685, 'faish': 81686, 'ghas': 81687, 'alasdowo': 81688, 'canton': 81689, 'yodanet': 81690, 'cisambeng': 81691, '158t': 81692, 'sakijo': 81693, 'mojodelik': 81694, 'gongo': 81695, \"d'suki\": 81696, 'oj': 81697, 'adhit': 81698, 'julan': 81699, 'carnation': 81700, 'igal': 81701, 'mandisari': 81702, 'oliander': 81703, 'boej': 81704, 'trisha': 81705, 'harinem': 81706, 'direc': 81707, 'medaksa': 81708, 'annajm': 81709, 'balui': 81710, 'wijak': 81711, 'goffa': 81712, 'dedanha': 81713, 'misun': 81714, 'dhamma': 81715, 'ricebowl': 81716, 'mileia': 81717, 'trowo': 81718, 'kesemb': 81719, 'hezzel': 81720, 'arve': 81721, 'dipenda': 81722, 'wassen': 81723, 'bilkas': 81724, 'kams': 81725, 'tariqul': 81726, 'naleung': 81727, 'sawabi': 81728, 'ajaycoll': 81729, 'sesana': 81730, 'sifood': 81731, 'suriati': 81732, 'juliatdi': 81733, 'nton': 81734, 'byypas': 81735, 'pillar': 81736, 'mf3': 81737, 'anke': 81738, 'ayok': 81739, 'nanditoz': 81740, 'comcell': 81741, 'kadikaran': 81742, 'yusnani': 81743, 'azala': 81744, 'panatraco': 81745, 'jagong': 81746, 'soemanta': 81747, 'patoe': 81748, 'bwh': 81749, 'bnyk': 81750, 'mobilnya': 81751, 'sambiresik': 81752, 'title': 81753, 'tjx': 81754, 'inograph': 81755, 'adventising': 81756, 'pkss': 81757, 'coet': 81758, 'pueb': 81759, 'askot': 81760, 'bonglo': 81761, 'dto': 81762, 'ngada': 81763, '86413': 81764, 'vimalakitri': 81765, 'nosan': 81766, '70871': 81767, 'ramban': 81768, 'ghanjaran': 81769, 'parbowo': 81770, 'mandetek': 81771, 'sadari': 81772, 'sttionary': 81773, 'nasiona': 81774, 'merchandish': 81775, 'hell': 81776, 'jatisono': 81777, 'lasarez': 81778, 'mujtaba': 81779, '42311': 81780, 'esem': 81781, 'talif': 81782, 'experts': 81783, 'vok': 81784, 'ginzi': 81785, 'torut': 81786}\n81787\n"
     ]
    }
   ],
   "source": [
    "word_index = tokenizer.word_index\n",
    "vocab_size = len(tokenizer.word_index) + 1\n",
    "print(word_index)\n",
    "print(vocab_size)"
   ]
  },
  {
   "cell_type": "code",
   "execution_count": 188,
   "metadata": {},
   "outputs": [
    {
     "output_type": "stream",
     "name": "stdout",
     "text": [
      "Raw address:  raya samb gede, 299 toko bb kids\n[3, 3221, 128, 7032, 23, 3222, 2181]\nPOI/Street:  toko bb kids/raya samb gede\n[23, 3222, 2181, 3, 3221, 128]\n"
     ]
    }
   ],
   "source": [
    "print(\"Raw address: \",raws[5])\n",
    "print(x[5])\n",
    "print(\"POI/Street: \",results[5])\n",
    "print(y[5])"
   ]
  },
  {
   "cell_type": "code",
   "execution_count": 189,
   "metadata": {},
   "outputs": [],
   "source": [
    "#Variables\n",
    "RANDOM_STATE = 50\n",
    "EPOCHS = 150\n",
    "BATCH_SIZE = 2048\n",
    "TRAINING_LENGTH = 50\n",
    "TRAIN_FRACTION = 0.7\n",
    "LSTM_CELLS = 64\n",
    "VERBOSE = 0\n",
    "SAVE_MODEL = True\n",
    "# OUTPUT DIMENSION OF THE EMBEDDING LAYER\n",
    "EM_OUTPUT_LENGTH = 50"
   ]
  },
  {
   "cell_type": "code",
   "execution_count": 190,
   "metadata": {},
   "outputs": [
    {
     "output_type": "execute_result",
     "data": {
      "text/plain": [
       "300000"
      ]
     },
     "metadata": {},
     "execution_count": 190
    }
   ],
   "source": [
    "# GET THE SEQUENCE LENGTH\n",
    "seq_length = x.shape[0]\n",
    "seq_length"
   ]
  },
  {
   "cell_type": "code",
   "execution_count": 191,
   "metadata": {},
   "outputs": [],
   "source": [
    "# Fit Model function\n",
    "def fit_model(batch_size, X, y, model_name, epochs):\n",
    "    model = Sequential()\n",
    "    model.add(Embedding(vocab_size, EM_OUTPUT_LENGTH, input_length=seq_length))\n",
    "    model.add(LSTM(128, return_sequences=True))\n",
    "    model.add(LSTM(128))\n",
    "    model.add(Dense(64, activation='relu'))\n",
    "    model.add(Dense(vocab_size, activation='softmax'))\n",
    "\n",
    "    optimizer = Adam(learning_rate=0.001)\n",
    "\n",
    "    model.compile(loss='categorical_crossentropy', optimizer = optimizer, metrics = ['accuracy'])\n",
    "\n",
    "    # save the weights for different configuration\n",
    "    filepath = f\"{model_name}-{epochs}_epoch-{batch_size}_batch_size\"\n",
    "\n",
    "    csv_logger = CSVLogger(filepath+\".csv\",append=False,separator=',')\n",
    "    checkpoint = ModelCheckpoint(filepath+\".h5\", monitor='loss', verbose=1, save_best_only=True, mode='min')\n",
    "    reduce_lr = ReduceLROnPlateau(monitor='accuracy', factor=0.2, patience=1, min_lr=1e-8)\n",
    "    early_stopping = EarlyStopping(monitor='loss',\n",
    "                                    mode='min',\n",
    "                                    verbose=1,\n",
    "                                    patience=5)\n",
    "    desired_callbacks = [checkpoint, early_stopping, csv_logger, reduce_lr]\n",
    "    start = time.perf_counter()\n",
    "    model.fit(X, y, \n",
    "              batch_size = batch_size, \n",
    "              epochs = epochs, \n",
    "              callbacks=desired_callbacks)\n",
    "    time_taken = time.perf_counter() - start\n",
    "    print(f\"Total time taken for {epochs} epochs: {time_taken} seconds\")\n",
    "    print(f\"Average time taken per epochs: {time_taken/epochs} seconds\")\n",
    "    print(f\"Total time taken to train: {time_taken} seconds\")\n",
    "\n",
    "    return model"
   ]
  },
  {
   "cell_type": "code",
   "execution_count": 192,
   "metadata": {},
   "outputs": [],
   "source": [
    "# LOAD PRE-TRAINED H5 FILES\n",
    "# Write a function to load different variant of the pre-trained model\n",
    "def load_pretrain_model(model_name,batch_size,epochs, optimizer_type):\n",
    "    filepath = f\"{WEIGHTS_DIR}{model_name}-{epochs}_epoch-{batch_size}_batch_size-{optimizer_type}.h5\"\n",
    "    # debug\n",
    "    #print(filepath)\n",
    "\n",
    "    # load the model\n",
    "    model = load_model(filepath)\n",
    "    #model.summary()\n",
    "\n",
    "    return model"
   ]
  },
  {
   "cell_type": "code",
   "execution_count": 207,
   "metadata": {},
   "outputs": [
    {
     "output_type": "error",
     "ename": "ValueError",
     "evalue": "Failed to convert a NumPy array to a Tensor (Unsupported object type list).",
     "traceback": [
      "\u001b[1;31m---------------------------------------------------------------------------\u001b[0m",
      "\u001b[1;31mValueError\u001b[0m                                Traceback (most recent call last)",
      "\u001b[1;32m<ipython-input-207-7246c0e03af0>\u001b[0m in \u001b[0;36m<module>\u001b[1;34m\u001b[0m\n\u001b[1;32m----> 1\u001b[1;33m \u001b[0mmodel\u001b[0m \u001b[1;33m=\u001b[0m \u001b[0mfit_model\u001b[0m\u001b[1;33m(\u001b[0m\u001b[0mbatch_size\u001b[0m\u001b[1;33m=\u001b[0m\u001b[1;36m128\u001b[0m\u001b[1;33m,\u001b[0m \u001b[0mX\u001b[0m\u001b[1;33m=\u001b[0m\u001b[0mx\u001b[0m\u001b[1;33m,\u001b[0m \u001b[0my\u001b[0m\u001b[1;33m=\u001b[0m\u001b[0my\u001b[0m\u001b[1;33m,\u001b[0m \u001b[0mmodel_name\u001b[0m\u001b[1;33m=\u001b[0m\u001b[1;34m\"LSTM\"\u001b[0m\u001b[1;33m,\u001b[0m \u001b[0mepochs\u001b[0m\u001b[1;33m=\u001b[0m\u001b[1;36m1\u001b[0m\u001b[1;33m)\u001b[0m\u001b[1;33m\u001b[0m\u001b[1;33m\u001b[0m\u001b[0m\n\u001b[0m",
      "\u001b[1;32m<ipython-input-191-e34094722de6>\u001b[0m in \u001b[0;36mfit_model\u001b[1;34m(batch_size, X, y, model_name, epochs)\u001b[0m\n\u001b[0;32m     24\u001b[0m     \u001b[0mdesired_callbacks\u001b[0m \u001b[1;33m=\u001b[0m \u001b[1;33m[\u001b[0m\u001b[0mcheckpoint\u001b[0m\u001b[1;33m,\u001b[0m \u001b[0mearly_stopping\u001b[0m\u001b[1;33m,\u001b[0m \u001b[0mcsv_logger\u001b[0m\u001b[1;33m,\u001b[0m \u001b[0mreduce_lr\u001b[0m\u001b[1;33m]\u001b[0m\u001b[1;33m\u001b[0m\u001b[1;33m\u001b[0m\u001b[0m\n\u001b[0;32m     25\u001b[0m     \u001b[0mstart\u001b[0m \u001b[1;33m=\u001b[0m \u001b[0mtime\u001b[0m\u001b[1;33m.\u001b[0m\u001b[0mperf_counter\u001b[0m\u001b[1;33m(\u001b[0m\u001b[1;33m)\u001b[0m\u001b[1;33m\u001b[0m\u001b[1;33m\u001b[0m\u001b[0m\n\u001b[1;32m---> 26\u001b[1;33m     model.fit(X, y, \n\u001b[0m\u001b[0;32m     27\u001b[0m               \u001b[0mbatch_size\u001b[0m \u001b[1;33m=\u001b[0m \u001b[0mbatch_size\u001b[0m\u001b[1;33m,\u001b[0m\u001b[1;33m\u001b[0m\u001b[1;33m\u001b[0m\u001b[0m\n\u001b[0;32m     28\u001b[0m               \u001b[0mepochs\u001b[0m \u001b[1;33m=\u001b[0m \u001b[0mepochs\u001b[0m\u001b[1;33m,\u001b[0m\u001b[1;33m\u001b[0m\u001b[1;33m\u001b[0m\u001b[0m\n",
      "\u001b[1;32mC:\\Python38\\lib\\site-packages\\tensorflow\\python\\keras\\engine\\training.py\u001b[0m in \u001b[0;36m_method_wrapper\u001b[1;34m(self, *args, **kwargs)\u001b[0m\n\u001b[0;32m    106\u001b[0m   \u001b[1;32mdef\u001b[0m \u001b[0m_method_wrapper\u001b[0m\u001b[1;33m(\u001b[0m\u001b[0mself\u001b[0m\u001b[1;33m,\u001b[0m \u001b[1;33m*\u001b[0m\u001b[0margs\u001b[0m\u001b[1;33m,\u001b[0m \u001b[1;33m**\u001b[0m\u001b[0mkwargs\u001b[0m\u001b[1;33m)\u001b[0m\u001b[1;33m:\u001b[0m\u001b[1;33m\u001b[0m\u001b[1;33m\u001b[0m\u001b[0m\n\u001b[0;32m    107\u001b[0m     \u001b[1;32mif\u001b[0m \u001b[1;32mnot\u001b[0m \u001b[0mself\u001b[0m\u001b[1;33m.\u001b[0m\u001b[0m_in_multi_worker_mode\u001b[0m\u001b[1;33m(\u001b[0m\u001b[1;33m)\u001b[0m\u001b[1;33m:\u001b[0m  \u001b[1;31m# pylint: disable=protected-access\u001b[0m\u001b[1;33m\u001b[0m\u001b[1;33m\u001b[0m\u001b[0m\n\u001b[1;32m--> 108\u001b[1;33m       \u001b[1;32mreturn\u001b[0m \u001b[0mmethod\u001b[0m\u001b[1;33m(\u001b[0m\u001b[0mself\u001b[0m\u001b[1;33m,\u001b[0m \u001b[1;33m*\u001b[0m\u001b[0margs\u001b[0m\u001b[1;33m,\u001b[0m \u001b[1;33m**\u001b[0m\u001b[0mkwargs\u001b[0m\u001b[1;33m)\u001b[0m\u001b[1;33m\u001b[0m\u001b[1;33m\u001b[0m\u001b[0m\n\u001b[0m\u001b[0;32m    109\u001b[0m \u001b[1;33m\u001b[0m\u001b[0m\n\u001b[0;32m    110\u001b[0m     \u001b[1;31m# Running inside `run_distribute_coordinator` already.\u001b[0m\u001b[1;33m\u001b[0m\u001b[1;33m\u001b[0m\u001b[1;33m\u001b[0m\u001b[0m\n",
      "\u001b[1;32mC:\\Python38\\lib\\site-packages\\tensorflow\\python\\keras\\engine\\training.py\u001b[0m in \u001b[0;36mfit\u001b[1;34m(self, x, y, batch_size, epochs, verbose, callbacks, validation_split, validation_data, shuffle, class_weight, sample_weight, initial_epoch, steps_per_epoch, validation_steps, validation_batch_size, validation_freq, max_queue_size, workers, use_multiprocessing)\u001b[0m\n\u001b[0;32m   1047\u001b[0m          \u001b[0mtraining_utils\u001b[0m\u001b[1;33m.\u001b[0m\u001b[0mRespectCompiledTrainableState\u001b[0m\u001b[1;33m(\u001b[0m\u001b[0mself\u001b[0m\u001b[1;33m)\u001b[0m\u001b[1;33m:\u001b[0m\u001b[1;33m\u001b[0m\u001b[1;33m\u001b[0m\u001b[0m\n\u001b[0;32m   1048\u001b[0m       \u001b[1;31m# Creates a `tf.data.Dataset` and handles batch and epoch iteration.\u001b[0m\u001b[1;33m\u001b[0m\u001b[1;33m\u001b[0m\u001b[1;33m\u001b[0m\u001b[0m\n\u001b[1;32m-> 1049\u001b[1;33m       data_handler = data_adapter.DataHandler(\n\u001b[0m\u001b[0;32m   1050\u001b[0m           \u001b[0mx\u001b[0m\u001b[1;33m=\u001b[0m\u001b[0mx\u001b[0m\u001b[1;33m,\u001b[0m\u001b[1;33m\u001b[0m\u001b[1;33m\u001b[0m\u001b[0m\n\u001b[0;32m   1051\u001b[0m           \u001b[0my\u001b[0m\u001b[1;33m=\u001b[0m\u001b[0my\u001b[0m\u001b[1;33m,\u001b[0m\u001b[1;33m\u001b[0m\u001b[1;33m\u001b[0m\u001b[0m\n",
      "\u001b[1;32mC:\\Python38\\lib\\site-packages\\tensorflow\\python\\keras\\engine\\data_adapter.py\u001b[0m in \u001b[0;36m__init__\u001b[1;34m(self, x, y, sample_weight, batch_size, steps_per_epoch, initial_epoch, epochs, shuffle, class_weight, max_queue_size, workers, use_multiprocessing, model, steps_per_execution)\u001b[0m\n\u001b[0;32m   1103\u001b[0m \u001b[1;33m\u001b[0m\u001b[0m\n\u001b[0;32m   1104\u001b[0m     \u001b[0madapter_cls\u001b[0m \u001b[1;33m=\u001b[0m \u001b[0mselect_data_adapter\u001b[0m\u001b[1;33m(\u001b[0m\u001b[0mx\u001b[0m\u001b[1;33m,\u001b[0m \u001b[0my\u001b[0m\u001b[1;33m)\u001b[0m\u001b[1;33m\u001b[0m\u001b[1;33m\u001b[0m\u001b[0m\n\u001b[1;32m-> 1105\u001b[1;33m     self._adapter = adapter_cls(\n\u001b[0m\u001b[0;32m   1106\u001b[0m         \u001b[0mx\u001b[0m\u001b[1;33m,\u001b[0m\u001b[1;33m\u001b[0m\u001b[1;33m\u001b[0m\u001b[0m\n\u001b[0;32m   1107\u001b[0m         \u001b[0my\u001b[0m\u001b[1;33m,\u001b[0m\u001b[1;33m\u001b[0m\u001b[1;33m\u001b[0m\u001b[0m\n",
      "\u001b[1;32mC:\\Python38\\lib\\site-packages\\tensorflow\\python\\keras\\engine\\data_adapter.py\u001b[0m in \u001b[0;36m__init__\u001b[1;34m(self, x, y, sample_weights, sample_weight_modes, batch_size, epochs, steps, shuffle, **kwargs)\u001b[0m\n\u001b[0;32m    263\u001b[0m                **kwargs):\n\u001b[0;32m    264\u001b[0m     \u001b[0msuper\u001b[0m\u001b[1;33m(\u001b[0m\u001b[0mTensorLikeDataAdapter\u001b[0m\u001b[1;33m,\u001b[0m \u001b[0mself\u001b[0m\u001b[1;33m)\u001b[0m\u001b[1;33m.\u001b[0m\u001b[0m__init__\u001b[0m\u001b[1;33m(\u001b[0m\u001b[0mx\u001b[0m\u001b[1;33m,\u001b[0m \u001b[0my\u001b[0m\u001b[1;33m,\u001b[0m \u001b[1;33m**\u001b[0m\u001b[0mkwargs\u001b[0m\u001b[1;33m)\u001b[0m\u001b[1;33m\u001b[0m\u001b[1;33m\u001b[0m\u001b[0m\n\u001b[1;32m--> 265\u001b[1;33m     \u001b[0mx\u001b[0m\u001b[1;33m,\u001b[0m \u001b[0my\u001b[0m\u001b[1;33m,\u001b[0m \u001b[0msample_weights\u001b[0m \u001b[1;33m=\u001b[0m \u001b[0m_process_tensorlike\u001b[0m\u001b[1;33m(\u001b[0m\u001b[1;33m(\u001b[0m\u001b[0mx\u001b[0m\u001b[1;33m,\u001b[0m \u001b[0my\u001b[0m\u001b[1;33m,\u001b[0m \u001b[0msample_weights\u001b[0m\u001b[1;33m)\u001b[0m\u001b[1;33m)\u001b[0m\u001b[1;33m\u001b[0m\u001b[1;33m\u001b[0m\u001b[0m\n\u001b[0m\u001b[0;32m    266\u001b[0m     sample_weight_modes = broadcast_sample_weight_modes(\n\u001b[0;32m    267\u001b[0m         sample_weights, sample_weight_modes)\n",
      "\u001b[1;32mC:\\Python38\\lib\\site-packages\\tensorflow\\python\\keras\\engine\\data_adapter.py\u001b[0m in \u001b[0;36m_process_tensorlike\u001b[1;34m(inputs)\u001b[0m\n\u001b[0;32m   1019\u001b[0m     \u001b[1;32mreturn\u001b[0m \u001b[0mx\u001b[0m\u001b[1;33m\u001b[0m\u001b[1;33m\u001b[0m\u001b[0m\n\u001b[0;32m   1020\u001b[0m \u001b[1;33m\u001b[0m\u001b[0m\n\u001b[1;32m-> 1021\u001b[1;33m   \u001b[0minputs\u001b[0m \u001b[1;33m=\u001b[0m \u001b[0mnest\u001b[0m\u001b[1;33m.\u001b[0m\u001b[0mmap_structure\u001b[0m\u001b[1;33m(\u001b[0m\u001b[0m_convert_numpy_and_scipy\u001b[0m\u001b[1;33m,\u001b[0m \u001b[0minputs\u001b[0m\u001b[1;33m)\u001b[0m\u001b[1;33m\u001b[0m\u001b[1;33m\u001b[0m\u001b[0m\n\u001b[0m\u001b[0;32m   1022\u001b[0m   \u001b[1;32mreturn\u001b[0m \u001b[0mnest\u001b[0m\u001b[1;33m.\u001b[0m\u001b[0mlist_to_tuple\u001b[0m\u001b[1;33m(\u001b[0m\u001b[0minputs\u001b[0m\u001b[1;33m)\u001b[0m\u001b[1;33m\u001b[0m\u001b[1;33m\u001b[0m\u001b[0m\n\u001b[0;32m   1023\u001b[0m \u001b[1;33m\u001b[0m\u001b[0m\n",
      "\u001b[1;32mC:\\Python38\\lib\\site-packages\\tensorflow\\python\\util\\nest.py\u001b[0m in \u001b[0;36mmap_structure\u001b[1;34m(func, *structure, **kwargs)\u001b[0m\n\u001b[0;32m    633\u001b[0m \u001b[1;33m\u001b[0m\u001b[0m\n\u001b[0;32m    634\u001b[0m   return pack_sequence_as(\n\u001b[1;32m--> 635\u001b[1;33m       \u001b[0mstructure\u001b[0m\u001b[1;33m[\u001b[0m\u001b[1;36m0\u001b[0m\u001b[1;33m]\u001b[0m\u001b[1;33m,\u001b[0m \u001b[1;33m[\u001b[0m\u001b[0mfunc\u001b[0m\u001b[1;33m(\u001b[0m\u001b[1;33m*\u001b[0m\u001b[0mx\u001b[0m\u001b[1;33m)\u001b[0m \u001b[1;32mfor\u001b[0m \u001b[0mx\u001b[0m \u001b[1;32min\u001b[0m \u001b[0mentries\u001b[0m\u001b[1;33m]\u001b[0m\u001b[1;33m,\u001b[0m\u001b[1;33m\u001b[0m\u001b[1;33m\u001b[0m\u001b[0m\n\u001b[0m\u001b[0;32m    636\u001b[0m       expand_composites=expand_composites)\n\u001b[0;32m    637\u001b[0m \u001b[1;33m\u001b[0m\u001b[0m\n",
      "\u001b[1;32mC:\\Python38\\lib\\site-packages\\tensorflow\\python\\util\\nest.py\u001b[0m in \u001b[0;36m<listcomp>\u001b[1;34m(.0)\u001b[0m\n\u001b[0;32m    633\u001b[0m \u001b[1;33m\u001b[0m\u001b[0m\n\u001b[0;32m    634\u001b[0m   return pack_sequence_as(\n\u001b[1;32m--> 635\u001b[1;33m       \u001b[0mstructure\u001b[0m\u001b[1;33m[\u001b[0m\u001b[1;36m0\u001b[0m\u001b[1;33m]\u001b[0m\u001b[1;33m,\u001b[0m \u001b[1;33m[\u001b[0m\u001b[0mfunc\u001b[0m\u001b[1;33m(\u001b[0m\u001b[1;33m*\u001b[0m\u001b[0mx\u001b[0m\u001b[1;33m)\u001b[0m \u001b[1;32mfor\u001b[0m \u001b[0mx\u001b[0m \u001b[1;32min\u001b[0m \u001b[0mentries\u001b[0m\u001b[1;33m]\u001b[0m\u001b[1;33m,\u001b[0m\u001b[1;33m\u001b[0m\u001b[1;33m\u001b[0m\u001b[0m\n\u001b[0m\u001b[0;32m    636\u001b[0m       expand_composites=expand_composites)\n\u001b[0;32m    637\u001b[0m \u001b[1;33m\u001b[0m\u001b[0m\n",
      "\u001b[1;32mC:\\Python38\\lib\\site-packages\\tensorflow\\python\\keras\\engine\\data_adapter.py\u001b[0m in \u001b[0;36m_convert_numpy_and_scipy\u001b[1;34m(x)\u001b[0m\n\u001b[0;32m   1014\u001b[0m       \u001b[1;32mif\u001b[0m \u001b[0missubclass\u001b[0m\u001b[1;33m(\u001b[0m\u001b[0mx\u001b[0m\u001b[1;33m.\u001b[0m\u001b[0mdtype\u001b[0m\u001b[1;33m.\u001b[0m\u001b[0mtype\u001b[0m\u001b[1;33m,\u001b[0m \u001b[0mnp\u001b[0m\u001b[1;33m.\u001b[0m\u001b[0mfloating\u001b[0m\u001b[1;33m)\u001b[0m\u001b[1;33m:\u001b[0m\u001b[1;33m\u001b[0m\u001b[1;33m\u001b[0m\u001b[0m\n\u001b[0;32m   1015\u001b[0m         \u001b[0mdtype\u001b[0m \u001b[1;33m=\u001b[0m \u001b[0mbackend\u001b[0m\u001b[1;33m.\u001b[0m\u001b[0mfloatx\u001b[0m\u001b[1;33m(\u001b[0m\u001b[1;33m)\u001b[0m\u001b[1;33m\u001b[0m\u001b[1;33m\u001b[0m\u001b[0m\n\u001b[1;32m-> 1016\u001b[1;33m       \u001b[1;32mreturn\u001b[0m \u001b[0mops\u001b[0m\u001b[1;33m.\u001b[0m\u001b[0mconvert_to_tensor\u001b[0m\u001b[1;33m(\u001b[0m\u001b[0mx\u001b[0m\u001b[1;33m,\u001b[0m \u001b[0mdtype\u001b[0m\u001b[1;33m=\u001b[0m\u001b[0mdtype\u001b[0m\u001b[1;33m)\u001b[0m\u001b[1;33m\u001b[0m\u001b[1;33m\u001b[0m\u001b[0m\n\u001b[0m\u001b[0;32m   1017\u001b[0m     \u001b[1;32melif\u001b[0m \u001b[0mscipy_sparse\u001b[0m \u001b[1;32mand\u001b[0m \u001b[0mscipy_sparse\u001b[0m\u001b[1;33m.\u001b[0m\u001b[0missparse\u001b[0m\u001b[1;33m(\u001b[0m\u001b[0mx\u001b[0m\u001b[1;33m)\u001b[0m\u001b[1;33m:\u001b[0m\u001b[1;33m\u001b[0m\u001b[1;33m\u001b[0m\u001b[0m\n\u001b[0;32m   1018\u001b[0m       \u001b[1;32mreturn\u001b[0m \u001b[0m_scipy_sparse_to_sparse_tensor\u001b[0m\u001b[1;33m(\u001b[0m\u001b[0mx\u001b[0m\u001b[1;33m)\u001b[0m\u001b[1;33m\u001b[0m\u001b[1;33m\u001b[0m\u001b[0m\n",
      "\u001b[1;32mC:\\Python38\\lib\\site-packages\\tensorflow\\python\\framework\\ops.py\u001b[0m in \u001b[0;36mconvert_to_tensor\u001b[1;34m(value, dtype, name, as_ref, preferred_dtype, dtype_hint, ctx, accepted_result_types)\u001b[0m\n\u001b[0;32m   1497\u001b[0m \u001b[1;33m\u001b[0m\u001b[0m\n\u001b[0;32m   1498\u001b[0m     \u001b[1;32mif\u001b[0m \u001b[0mret\u001b[0m \u001b[1;32mis\u001b[0m \u001b[1;32mNone\u001b[0m\u001b[1;33m:\u001b[0m\u001b[1;33m\u001b[0m\u001b[1;33m\u001b[0m\u001b[0m\n\u001b[1;32m-> 1499\u001b[1;33m       \u001b[0mret\u001b[0m \u001b[1;33m=\u001b[0m \u001b[0mconversion_func\u001b[0m\u001b[1;33m(\u001b[0m\u001b[0mvalue\u001b[0m\u001b[1;33m,\u001b[0m \u001b[0mdtype\u001b[0m\u001b[1;33m=\u001b[0m\u001b[0mdtype\u001b[0m\u001b[1;33m,\u001b[0m \u001b[0mname\u001b[0m\u001b[1;33m=\u001b[0m\u001b[0mname\u001b[0m\u001b[1;33m,\u001b[0m \u001b[0mas_ref\u001b[0m\u001b[1;33m=\u001b[0m\u001b[0mas_ref\u001b[0m\u001b[1;33m)\u001b[0m\u001b[1;33m\u001b[0m\u001b[1;33m\u001b[0m\u001b[0m\n\u001b[0m\u001b[0;32m   1500\u001b[0m \u001b[1;33m\u001b[0m\u001b[0m\n\u001b[0;32m   1501\u001b[0m     \u001b[1;32mif\u001b[0m \u001b[0mret\u001b[0m \u001b[1;32mis\u001b[0m \u001b[0mNotImplemented\u001b[0m\u001b[1;33m:\u001b[0m\u001b[1;33m\u001b[0m\u001b[1;33m\u001b[0m\u001b[0m\n",
      "\u001b[1;32mC:\\Python38\\lib\\site-packages\\tensorflow\\python\\framework\\tensor_conversion_registry.py\u001b[0m in \u001b[0;36m_default_conversion_function\u001b[1;34m(***failed resolving arguments***)\u001b[0m\n\u001b[0;32m     50\u001b[0m \u001b[1;32mdef\u001b[0m \u001b[0m_default_conversion_function\u001b[0m\u001b[1;33m(\u001b[0m\u001b[0mvalue\u001b[0m\u001b[1;33m,\u001b[0m \u001b[0mdtype\u001b[0m\u001b[1;33m,\u001b[0m \u001b[0mname\u001b[0m\u001b[1;33m,\u001b[0m \u001b[0mas_ref\u001b[0m\u001b[1;33m)\u001b[0m\u001b[1;33m:\u001b[0m\u001b[1;33m\u001b[0m\u001b[1;33m\u001b[0m\u001b[0m\n\u001b[0;32m     51\u001b[0m   \u001b[1;32mdel\u001b[0m \u001b[0mas_ref\u001b[0m  \u001b[1;31m# Unused.\u001b[0m\u001b[1;33m\u001b[0m\u001b[1;33m\u001b[0m\u001b[0m\n\u001b[1;32m---> 52\u001b[1;33m   \u001b[1;32mreturn\u001b[0m \u001b[0mconstant_op\u001b[0m\u001b[1;33m.\u001b[0m\u001b[0mconstant\u001b[0m\u001b[1;33m(\u001b[0m\u001b[0mvalue\u001b[0m\u001b[1;33m,\u001b[0m \u001b[0mdtype\u001b[0m\u001b[1;33m,\u001b[0m \u001b[0mname\u001b[0m\u001b[1;33m=\u001b[0m\u001b[0mname\u001b[0m\u001b[1;33m)\u001b[0m\u001b[1;33m\u001b[0m\u001b[1;33m\u001b[0m\u001b[0m\n\u001b[0m\u001b[0;32m     53\u001b[0m \u001b[1;33m\u001b[0m\u001b[0m\n\u001b[0;32m     54\u001b[0m \u001b[1;33m\u001b[0m\u001b[0m\n",
      "\u001b[1;32mC:\\Python38\\lib\\site-packages\\tensorflow\\python\\framework\\constant_op.py\u001b[0m in \u001b[0;36mconstant\u001b[1;34m(value, dtype, shape, name)\u001b[0m\n\u001b[0;32m    261\u001b[0m     \u001b[0mValueError\u001b[0m\u001b[1;33m:\u001b[0m \u001b[1;32mif\u001b[0m \u001b[0mcalled\u001b[0m \u001b[0mon\u001b[0m \u001b[0ma\u001b[0m \u001b[0msymbolic\u001b[0m \u001b[0mtensor\u001b[0m\u001b[1;33m.\u001b[0m\u001b[1;33m\u001b[0m\u001b[1;33m\u001b[0m\u001b[0m\n\u001b[0;32m    262\u001b[0m   \"\"\"\n\u001b[1;32m--> 263\u001b[1;33m   return _constant_impl(value, dtype, shape, name, verify_shape=False,\n\u001b[0m\u001b[0;32m    264\u001b[0m                         allow_broadcast=True)\n\u001b[0;32m    265\u001b[0m \u001b[1;33m\u001b[0m\u001b[0m\n",
      "\u001b[1;32mC:\\Python38\\lib\\site-packages\\tensorflow\\python\\framework\\constant_op.py\u001b[0m in \u001b[0;36m_constant_impl\u001b[1;34m(value, dtype, shape, name, verify_shape, allow_broadcast)\u001b[0m\n\u001b[0;32m    273\u001b[0m       \u001b[1;32mwith\u001b[0m \u001b[0mtrace\u001b[0m\u001b[1;33m.\u001b[0m\u001b[0mTrace\u001b[0m\u001b[1;33m(\u001b[0m\u001b[1;34m\"tf.constant\"\u001b[0m\u001b[1;33m)\u001b[0m\u001b[1;33m:\u001b[0m\u001b[1;33m\u001b[0m\u001b[1;33m\u001b[0m\u001b[0m\n\u001b[0;32m    274\u001b[0m         \u001b[1;32mreturn\u001b[0m \u001b[0m_constant_eager_impl\u001b[0m\u001b[1;33m(\u001b[0m\u001b[0mctx\u001b[0m\u001b[1;33m,\u001b[0m \u001b[0mvalue\u001b[0m\u001b[1;33m,\u001b[0m \u001b[0mdtype\u001b[0m\u001b[1;33m,\u001b[0m \u001b[0mshape\u001b[0m\u001b[1;33m,\u001b[0m \u001b[0mverify_shape\u001b[0m\u001b[1;33m)\u001b[0m\u001b[1;33m\u001b[0m\u001b[1;33m\u001b[0m\u001b[0m\n\u001b[1;32m--> 275\u001b[1;33m     \u001b[1;32mreturn\u001b[0m \u001b[0m_constant_eager_impl\u001b[0m\u001b[1;33m(\u001b[0m\u001b[0mctx\u001b[0m\u001b[1;33m,\u001b[0m \u001b[0mvalue\u001b[0m\u001b[1;33m,\u001b[0m \u001b[0mdtype\u001b[0m\u001b[1;33m,\u001b[0m \u001b[0mshape\u001b[0m\u001b[1;33m,\u001b[0m \u001b[0mverify_shape\u001b[0m\u001b[1;33m)\u001b[0m\u001b[1;33m\u001b[0m\u001b[1;33m\u001b[0m\u001b[0m\n\u001b[0m\u001b[0;32m    276\u001b[0m \u001b[1;33m\u001b[0m\u001b[0m\n\u001b[0;32m    277\u001b[0m   \u001b[0mg\u001b[0m \u001b[1;33m=\u001b[0m \u001b[0mops\u001b[0m\u001b[1;33m.\u001b[0m\u001b[0mget_default_graph\u001b[0m\u001b[1;33m(\u001b[0m\u001b[1;33m)\u001b[0m\u001b[1;33m\u001b[0m\u001b[1;33m\u001b[0m\u001b[0m\n",
      "\u001b[1;32mC:\\Python38\\lib\\site-packages\\tensorflow\\python\\framework\\constant_op.py\u001b[0m in \u001b[0;36m_constant_eager_impl\u001b[1;34m(ctx, value, dtype, shape, verify_shape)\u001b[0m\n\u001b[0;32m    298\u001b[0m \u001b[1;32mdef\u001b[0m \u001b[0m_constant_eager_impl\u001b[0m\u001b[1;33m(\u001b[0m\u001b[0mctx\u001b[0m\u001b[1;33m,\u001b[0m \u001b[0mvalue\u001b[0m\u001b[1;33m,\u001b[0m \u001b[0mdtype\u001b[0m\u001b[1;33m,\u001b[0m \u001b[0mshape\u001b[0m\u001b[1;33m,\u001b[0m \u001b[0mverify_shape\u001b[0m\u001b[1;33m)\u001b[0m\u001b[1;33m:\u001b[0m\u001b[1;33m\u001b[0m\u001b[1;33m\u001b[0m\u001b[0m\n\u001b[0;32m    299\u001b[0m   \u001b[1;34m\"\"\"Implementation of eager constant.\"\"\"\u001b[0m\u001b[1;33m\u001b[0m\u001b[1;33m\u001b[0m\u001b[0m\n\u001b[1;32m--> 300\u001b[1;33m   \u001b[0mt\u001b[0m \u001b[1;33m=\u001b[0m \u001b[0mconvert_to_eager_tensor\u001b[0m\u001b[1;33m(\u001b[0m\u001b[0mvalue\u001b[0m\u001b[1;33m,\u001b[0m \u001b[0mctx\u001b[0m\u001b[1;33m,\u001b[0m \u001b[0mdtype\u001b[0m\u001b[1;33m)\u001b[0m\u001b[1;33m\u001b[0m\u001b[1;33m\u001b[0m\u001b[0m\n\u001b[0m\u001b[0;32m    301\u001b[0m   \u001b[1;32mif\u001b[0m \u001b[0mshape\u001b[0m \u001b[1;32mis\u001b[0m \u001b[1;32mNone\u001b[0m\u001b[1;33m:\u001b[0m\u001b[1;33m\u001b[0m\u001b[1;33m\u001b[0m\u001b[0m\n\u001b[0;32m    302\u001b[0m     \u001b[1;32mreturn\u001b[0m \u001b[0mt\u001b[0m\u001b[1;33m\u001b[0m\u001b[1;33m\u001b[0m\u001b[0m\n",
      "\u001b[1;32mC:\\Python38\\lib\\site-packages\\tensorflow\\python\\framework\\constant_op.py\u001b[0m in \u001b[0;36mconvert_to_eager_tensor\u001b[1;34m(value, ctx, dtype)\u001b[0m\n\u001b[0;32m     96\u001b[0m       \u001b[0mdtype\u001b[0m \u001b[1;33m=\u001b[0m \u001b[0mdtypes\u001b[0m\u001b[1;33m.\u001b[0m\u001b[0mas_dtype\u001b[0m\u001b[1;33m(\u001b[0m\u001b[0mdtype\u001b[0m\u001b[1;33m)\u001b[0m\u001b[1;33m.\u001b[0m\u001b[0mas_datatype_enum\u001b[0m\u001b[1;33m\u001b[0m\u001b[1;33m\u001b[0m\u001b[0m\n\u001b[0;32m     97\u001b[0m   \u001b[0mctx\u001b[0m\u001b[1;33m.\u001b[0m\u001b[0mensure_initialized\u001b[0m\u001b[1;33m(\u001b[0m\u001b[1;33m)\u001b[0m\u001b[1;33m\u001b[0m\u001b[1;33m\u001b[0m\u001b[0m\n\u001b[1;32m---> 98\u001b[1;33m   \u001b[1;32mreturn\u001b[0m \u001b[0mops\u001b[0m\u001b[1;33m.\u001b[0m\u001b[0mEagerTensor\u001b[0m\u001b[1;33m(\u001b[0m\u001b[0mvalue\u001b[0m\u001b[1;33m,\u001b[0m \u001b[0mctx\u001b[0m\u001b[1;33m.\u001b[0m\u001b[0mdevice_name\u001b[0m\u001b[1;33m,\u001b[0m \u001b[0mdtype\u001b[0m\u001b[1;33m)\u001b[0m\u001b[1;33m\u001b[0m\u001b[1;33m\u001b[0m\u001b[0m\n\u001b[0m\u001b[0;32m     99\u001b[0m \u001b[1;33m\u001b[0m\u001b[0m\n\u001b[0;32m    100\u001b[0m \u001b[1;33m\u001b[0m\u001b[0m\n",
      "\u001b[1;31mValueError\u001b[0m: Failed to convert a NumPy array to a Tensor (Unsupported object type list)."
     ]
    }
   ],
   "source": [
    "model = fit_model(batch_size=128, X=x, y=y, model_name=\"LSTM\", epochs=1)"
   ]
  },
  {
   "cell_type": "code",
   "execution_count": 198,
   "metadata": {},
   "outputs": [
    {
     "output_type": "execute_result",
     "data": {
      "text/plain": [
       "array([list([8, 282, 12, 876, 7664, 39, 2147, 656, 31, 45, 6855, 107, 291]),\n",
       "       list([9761, 48, 494]),\n",
       "       list([401, 16058, 1538, 2, 13, 4, 9368, 174]), ...,\n",
       "       list([42, 3560, 8, 1277, 5, 1, 61]),\n",
       "       list([90, 1941, 16, 29, 129, 58, 15684, 7, 1728, 210, 1, 383]),\n",
       "       list([16, 7004, 600, 28, 13091, 1708, 1, 426])], dtype=object)"
      ]
     },
     "metadata": {},
     "execution_count": 198
    }
   ],
   "source": [
    "x"
   ]
  },
  {
   "cell_type": "code",
   "execution_count": null,
   "metadata": {},
   "outputs": [],
   "source": []
  }
 ]
}