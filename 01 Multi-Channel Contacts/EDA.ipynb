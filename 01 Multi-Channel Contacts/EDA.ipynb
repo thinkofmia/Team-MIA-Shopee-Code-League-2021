{
  "nbformat": 4,
  "nbformat_minor": 0,
  "metadata": {
    "colab": {
      "name": "EDA.ipynb",
      "provenance": [],
      "collapsed_sections": []
    },
    "kernelspec": {
      "name": "python3",
      "display_name": "Python 3"
    }
  },
  "cells": [
    {
      "cell_type": "code",
      "metadata": {
        "id": "ogcTLjtGLeLu"
      },
      "source": [
        "# import essential modules\r\n",
        "import pandas as pd\r\n",
        "import numpy as np"
      ],
      "execution_count": null,
      "outputs": []
    },
    {
      "cell_type": "code",
      "metadata": {
        "colab": {
          "base_uri": "https://localhost:8080/",
          "height": 261
        },
        "id": "PyKqKPi0Mbqn",
        "outputId": "789f0a02-806c-4572-8da8-a5abf0fee9fe"
      },
      "source": [
        "df = pd.read_json('/content/drive/My Drive/contacts.json')\r\n",
        "\r\n",
        "print(len(df))\r\n",
        "print(df.columns, '\\n')\r\n",
        "\r\n",
        "df.head()"
      ],
      "execution_count": null,
      "outputs": [
        {
          "output_type": "stream",
          "text": [
            "500000\n",
            "Index(['Id', 'Email', 'Phone', 'Contacts', 'OrderId'], dtype='object') \n",
            "\n"
          ],
          "name": "stdout"
        },
        {
          "output_type": "execute_result",
          "data": {
            "text/html": [
              "<div>\n",
              "<style scoped>\n",
              "    .dataframe tbody tr th:only-of-type {\n",
              "        vertical-align: middle;\n",
              "    }\n",
              "\n",
              "    .dataframe tbody tr th {\n",
              "        vertical-align: top;\n",
              "    }\n",
              "\n",
              "    .dataframe thead th {\n",
              "        text-align: right;\n",
              "    }\n",
              "</style>\n",
              "<table border=\"1\" class=\"dataframe\">\n",
              "  <thead>\n",
              "    <tr style=\"text-align: right;\">\n",
              "      <th></th>\n",
              "      <th>Id</th>\n",
              "      <th>Email</th>\n",
              "      <th>Phone</th>\n",
              "      <th>Contacts</th>\n",
              "      <th>OrderId</th>\n",
              "    </tr>\n",
              "  </thead>\n",
              "  <tbody>\n",
              "    <tr>\n",
              "      <th>0</th>\n",
              "      <td>0</td>\n",
              "      <td>gkzAbIy@qq.com</td>\n",
              "      <td></td>\n",
              "      <td>1</td>\n",
              "      <td></td>\n",
              "    </tr>\n",
              "    <tr>\n",
              "      <th>1</th>\n",
              "      <td>1</td>\n",
              "      <td></td>\n",
              "      <td>329442681752</td>\n",
              "      <td>4</td>\n",
              "      <td>vDDJJcxfLtSfkooPhbYnJdxov</td>\n",
              "    </tr>\n",
              "    <tr>\n",
              "      <th>2</th>\n",
              "      <td>2</td>\n",
              "      <td></td>\n",
              "      <td>9125983679</td>\n",
              "      <td>0</td>\n",
              "      <td></td>\n",
              "    </tr>\n",
              "    <tr>\n",
              "      <th>3</th>\n",
              "      <td>3</td>\n",
              "      <td>mdllpYmE@gmail.com</td>\n",
              "      <td></td>\n",
              "      <td>0</td>\n",
              "      <td>bHquEnCbbsGLqllwryxPsNOxa</td>\n",
              "    </tr>\n",
              "    <tr>\n",
              "      <th>4</th>\n",
              "      <td>4</td>\n",
              "      <td></td>\n",
              "      <td>300364407</td>\n",
              "      <td>2</td>\n",
              "      <td></td>\n",
              "    </tr>\n",
              "  </tbody>\n",
              "</table>\n",
              "</div>"
            ],
            "text/plain": [
              "   Id               Email         Phone  Contacts                    OrderId\n",
              "0   0      gkzAbIy@qq.com                       1                           \n",
              "1   1                      329442681752         4  vDDJJcxfLtSfkooPhbYnJdxov\n",
              "2   2                        9125983679         0                           \n",
              "3   3  mdllpYmE@gmail.com                       0  bHquEnCbbsGLqllwryxPsNOxa\n",
              "4   4                         300364407         2                           "
            ]
          },
          "metadata": {
            "tags": []
          },
          "execution_count": 2
        }
      ]
    },
    {
      "cell_type": "code",
      "metadata": {
        "colab": {
          "base_uri": "https://localhost:8080/"
        },
        "id": "7R3ootjXMgmO",
        "outputId": "7b5c16af-882e-4637-ce1f-5acf8d02e21b"
      },
      "source": [
        "df.isnull().sum()"
      ],
      "execution_count": null,
      "outputs": [
        {
          "output_type": "execute_result",
          "data": {
            "text/plain": [
              "Id          0\n",
              "Email       0\n",
              "Phone       0\n",
              "Contacts    0\n",
              "OrderId     0\n",
              "dtype: int64"
            ]
          },
          "metadata": {
            "tags": []
          },
          "execution_count": 3
        }
      ]
    },
    {
      "cell_type": "code",
      "metadata": {
        "colab": {
          "base_uri": "https://localhost:8080/"
        },
        "id": "3M3ki4-WRzPn",
        "outputId": "553a0e3b-38a0-456a-93ea-3b6a5a2e1736"
      },
      "source": [
        "df.isna().sum()"
      ],
      "execution_count": null,
      "outputs": [
        {
          "output_type": "execute_result",
          "data": {
            "text/plain": [
              "Id          0\n",
              "Email       0\n",
              "Phone       0\n",
              "Contacts    0\n",
              "OrderId     0\n",
              "dtype: int64"
            ]
          },
          "metadata": {
            "tags": []
          },
          "execution_count": 4
        }
      ]
    },
    {
      "cell_type": "code",
      "metadata": {
        "colab": {
          "base_uri": "https://localhost:8080/"
        },
        "id": "FNd6dHbrMlEM",
        "outputId": "cdd2f8be-2b7a-45fd-db2b-9e9abf846db3"
      },
      "source": [
        "df.duplicated().sum()"
      ],
      "execution_count": null,
      "outputs": [
        {
          "output_type": "execute_result",
          "data": {
            "text/plain": [
              "0"
            ]
          },
          "metadata": {
            "tags": []
          },
          "execution_count": 5
        }
      ]
    },
    {
      "cell_type": "code",
      "metadata": {
        "colab": {
          "base_uri": "https://localhost:8080/"
        },
        "id": "11rGQV4vNO02",
        "outputId": "1cca6ae8-cebd-4ded-ccb8-463584c721a5"
      },
      "source": [
        "for i in df.columns.to_list():\r\n",
        "  print(i, len(df[i].unique()))"
      ],
      "execution_count": null,
      "outputs": [
        {
          "output_type": "stream",
          "text": [
            "Id 500000\n",
            "Email 249157\n",
            "Phone 190678\n",
            "Contacts 5\n",
            "OrderId 189303\n"
          ],
          "name": "stdout"
        }
      ]
    },
    {
      "cell_type": "markdown",
      "metadata": {
        "id": "pImOp9OQQ8wg"
      },
      "source": [
        "# Phone"
      ]
    },
    {
      "cell_type": "code",
      "metadata": {
        "colab": {
          "base_uri": "https://localhost:8080/",
          "height": 206
        },
        "id": "lcPaWGSfOEd8",
        "outputId": "9e4d0c56-218a-4774-b5a6-41bea124eb2c"
      },
      "source": [
        "phoneCountDF = pd.DataFrame(df['Phone'].value_counts().reset_index().rename(columns = {'index':'Phone', 'Phone':'count'}))\r\n",
        "phoneCountDF.head()"
      ],
      "execution_count": null,
      "outputs": [
        {
          "output_type": "execute_result",
          "data": {
            "text/html": [
              "<div>\n",
              "<style scoped>\n",
              "    .dataframe tbody tr th:only-of-type {\n",
              "        vertical-align: middle;\n",
              "    }\n",
              "\n",
              "    .dataframe tbody tr th {\n",
              "        vertical-align: top;\n",
              "    }\n",
              "\n",
              "    .dataframe thead th {\n",
              "        text-align: right;\n",
              "    }\n",
              "</style>\n",
              "<table border=\"1\" class=\"dataframe\">\n",
              "  <thead>\n",
              "    <tr style=\"text-align: right;\">\n",
              "      <th></th>\n",
              "      <th>Phone</th>\n",
              "      <th>count</th>\n",
              "    </tr>\n",
              "  </thead>\n",
              "  <tbody>\n",
              "    <tr>\n",
              "      <th>0</th>\n",
              "      <td></td>\n",
              "      <td>254919</td>\n",
              "    </tr>\n",
              "    <tr>\n",
              "      <th>1</th>\n",
              "      <td>4973691147</td>\n",
              "      <td>6</td>\n",
              "    </tr>\n",
              "    <tr>\n",
              "      <th>2</th>\n",
              "      <td>17061886270</td>\n",
              "      <td>6</td>\n",
              "    </tr>\n",
              "    <tr>\n",
              "      <th>3</th>\n",
              "      <td>0823972506</td>\n",
              "      <td>6</td>\n",
              "    </tr>\n",
              "    <tr>\n",
              "      <th>4</th>\n",
              "      <td>830154496211</td>\n",
              "      <td>6</td>\n",
              "    </tr>\n",
              "  </tbody>\n",
              "</table>\n",
              "</div>"
            ],
            "text/plain": [
              "          Phone   count\n",
              "0                254919\n",
              "1    4973691147       6\n",
              "2   17061886270       6\n",
              "3    0823972506       6\n",
              "4  830154496211       6"
            ]
          },
          "metadata": {
            "tags": []
          },
          "execution_count": 7
        }
      ]
    },
    {
      "cell_type": "code",
      "metadata": {
        "colab": {
          "base_uri": "https://localhost:8080/"
        },
        "id": "mFT6y3d7RYy3",
        "outputId": "890164ef-4e8f-4622-8f2d-bbb4c088486b"
      },
      "source": [
        "phoneCountDF[1:]['count'].unique()"
      ],
      "execution_count": null,
      "outputs": [
        {
          "output_type": "execute_result",
          "data": {
            "text/plain": [
              "array([6, 5, 4, 3, 2, 1])"
            ]
          },
          "metadata": {
            "tags": []
          },
          "execution_count": 8
        }
      ]
    },
    {
      "cell_type": "code",
      "metadata": {
        "colab": {
          "base_uri": "https://localhost:8080/"
        },
        "id": "NFbVkFiPSgRa",
        "outputId": "64f7ba9c-9bcc-409f-eb3b-88042ed6fad7"
      },
      "source": [
        "phoneCountDF[1:]['count'].value_counts()"
      ],
      "execution_count": null,
      "outputs": [
        {
          "output_type": "execute_result",
          "data": {
            "text/plain": [
              "1    145533\n",
              "2     37148\n",
              "3      6876\n",
              "4       985\n",
              "5       126\n",
              "6         9\n",
              "Name: count, dtype: int64"
            ]
          },
          "metadata": {
            "tags": []
          },
          "execution_count": 9
        }
      ]
    },
    {
      "cell_type": "code",
      "metadata": {
        "colab": {
          "base_uri": "https://localhost:8080/",
          "height": 340
        },
        "id": "IDtAYyrkP4GC",
        "outputId": "e0e3386c-67b5-4810-8a9f-46add0d91c98"
      },
      "source": [
        "phoneCountDF[1:][phoneCountDF['count'] > 1].plot()"
      ],
      "execution_count": null,
      "outputs": [
        {
          "output_type": "stream",
          "text": [
            "/usr/local/lib/python3.7/dist-packages/ipykernel_launcher.py:1: UserWarning: Boolean Series key will be reindexed to match DataFrame index.\n",
            "  \"\"\"Entry point for launching an IPython kernel.\n"
          ],
          "name": "stderr"
        },
        {
          "output_type": "execute_result",
          "data": {
            "text/plain": [
              "<matplotlib.axes._subplots.AxesSubplot at 0x7fd419d50d90>"
            ]
          },
          "metadata": {
            "tags": []
          },
          "execution_count": 10
        },
        {
          "output_type": "display_data",
          "data": {
            "image/png": "[encoded data removed]",
            "text/plain": [
              "<Figure size 432x288 with 1 Axes>"
            ]
          },
          "metadata": {
            "tags": [],
            "needs_background": "light"
          }
        }
      ]
    },
    {
      "cell_type": "markdown",
      "metadata": {
        "id": "Dseu7tRiQ_ep"
      },
      "source": [
        "# Email"
      ]
    },
    {
      "cell_type": "code",
      "metadata": {
        "colab": {
          "base_uri": "https://localhost:8080/",
          "height": 206
        },
        "id": "NItjF2ybQ1Bn",
        "outputId": "15808ab2-9001-4aad-8a43-d33ac4ddaf29"
      },
      "source": [
        "emailCountDF = pd.DataFrame(df['Email'].value_counts().reset_index().rename(columns = {'index':'Email', 'Email':'count'}))\r\n",
        "emailCountDF.head()"
      ],
      "execution_count": null,
      "outputs": [
        {
          "output_type": "execute_result",
          "data": {
            "text/html": [
              "<div>\n",
              "<style scoped>\n",
              "    .dataframe tbody tr th:only-of-type {\n",
              "        vertical-align: middle;\n",
              "    }\n",
              "\n",
              "    .dataframe tbody tr th {\n",
              "        vertical-align: top;\n",
              "    }\n",
              "\n",
              "    .dataframe thead th {\n",
              "        text-align: right;\n",
              "    }\n",
              "</style>\n",
              "<table border=\"1\" class=\"dataframe\">\n",
              "  <thead>\n",
              "    <tr style=\"text-align: right;\">\n",
              "      <th></th>\n",
              "      <th>Email</th>\n",
              "      <th>count</th>\n",
              "    </tr>\n",
              "  </thead>\n",
              "  <tbody>\n",
              "    <tr>\n",
              "      <th>0</th>\n",
              "      <td></td>\n",
              "      <td>151394</td>\n",
              "    </tr>\n",
              "    <tr>\n",
              "      <th>1</th>\n",
              "      <td>joeiBlUUXIEsEBHp@yahoo.com</td>\n",
              "      <td>8</td>\n",
              "    </tr>\n",
              "    <tr>\n",
              "      <th>2</th>\n",
              "      <td>CTZmhZeinbwjkCDNZl@hotmail.com</td>\n",
              "      <td>7</td>\n",
              "    </tr>\n",
              "    <tr>\n",
              "      <th>3</th>\n",
              "      <td>cNOClXNUqeYiWUPu@hotmail.com</td>\n",
              "      <td>7</td>\n",
              "    </tr>\n",
              "    <tr>\n",
              "      <th>4</th>\n",
              "      <td>EacGcUDVEcfjDh@hotmail.com</td>\n",
              "      <td>7</td>\n",
              "    </tr>\n",
              "  </tbody>\n",
              "</table>\n",
              "</div>"
            ],
            "text/plain": [
              "                            Email   count\n",
              "0                                  151394\n",
              "1      joeiBlUUXIEsEBHp@yahoo.com       8\n",
              "2  CTZmhZeinbwjkCDNZl@hotmail.com       7\n",
              "3    cNOClXNUqeYiWUPu@hotmail.com       7\n",
              "4      EacGcUDVEcfjDh@hotmail.com       7"
            ]
          },
          "metadata": {
            "tags": []
          },
          "execution_count": 11
        }
      ]
    },
    {
      "cell_type": "code",
      "metadata": {
        "colab": {
          "base_uri": "https://localhost:8080/"
        },
        "id": "ZDS_hdKdRTMg",
        "outputId": "cd3ac364-18ca-418e-bbaf-7abd864f24cf"
      },
      "source": [
        "emailCountDF[1:]['count'].unique()"
      ],
      "execution_count": null,
      "outputs": [
        {
          "output_type": "execute_result",
          "data": {
            "text/plain": [
              "array([8, 7, 6, 5, 4, 3, 2, 1])"
            ]
          },
          "metadata": {
            "tags": []
          },
          "execution_count": 12
        }
      ]
    },
    {
      "cell_type": "code",
      "metadata": {
        "colab": {
          "base_uri": "https://localhost:8080/",
          "height": 206
        },
        "id": "uJlqHJU3UGMh",
        "outputId": "8d64caa0-3eb4-43d9-b745-3fe66fac7705"
      },
      "source": [
        "emailCountDF[emailCountDF['count'] == 5].head()"
      ],
      "execution_count": null,
      "outputs": [
        {
          "output_type": "execute_result",
          "data": {
            "text/html": [
              "<div>\n",
              "<style scoped>\n",
              "    .dataframe tbody tr th:only-of-type {\n",
              "        vertical-align: middle;\n",
              "    }\n",
              "\n",
              "    .dataframe tbody tr th {\n",
              "        vertical-align: top;\n",
              "    }\n",
              "\n",
              "    .dataframe thead th {\n",
              "        text-align: right;\n",
              "    }\n",
              "</style>\n",
              "<table border=\"1\" class=\"dataframe\">\n",
              "  <thead>\n",
              "    <tr style=\"text-align: right;\">\n",
              "      <th></th>\n",
              "      <th>Email</th>\n",
              "      <th>count</th>\n",
              "    </tr>\n",
              "  </thead>\n",
              "  <tbody>\n",
              "    <tr>\n",
              "      <th>64</th>\n",
              "      <td>UBUyIJphmHYfOPSgcd@qq.com</td>\n",
              "      <td>5</td>\n",
              "    </tr>\n",
              "    <tr>\n",
              "      <th>65</th>\n",
              "      <td>lkjTIowMEbiSq@yahoo.com</td>\n",
              "      <td>5</td>\n",
              "    </tr>\n",
              "    <tr>\n",
              "      <th>66</th>\n",
              "      <td>hNspPnyCGJWcrKPOkxV@yahoo.com</td>\n",
              "      <td>5</td>\n",
              "    </tr>\n",
              "    <tr>\n",
              "      <th>67</th>\n",
              "      <td>oTWPXtqIBiu@hotmail.com</td>\n",
              "      <td>5</td>\n",
              "    </tr>\n",
              "    <tr>\n",
              "      <th>68</th>\n",
              "      <td>DHizKrUod@yahoo.com</td>\n",
              "      <td>5</td>\n",
              "    </tr>\n",
              "  </tbody>\n",
              "</table>\n",
              "</div>"
            ],
            "text/plain": [
              "                            Email  count\n",
              "64      UBUyIJphmHYfOPSgcd@qq.com      5\n",
              "65        lkjTIowMEbiSq@yahoo.com      5\n",
              "66  hNspPnyCGJWcrKPOkxV@yahoo.com      5\n",
              "67        oTWPXtqIBiu@hotmail.com      5\n",
              "68            DHizKrUod@yahoo.com      5"
            ]
          },
          "metadata": {
            "tags": []
          },
          "execution_count": 13
        }
      ]
    },
    {
      "cell_type": "code",
      "metadata": {
        "colab": {
          "base_uri": "https://localhost:8080/"
        },
        "id": "Y30fLLYCSbNP",
        "outputId": "c40a8a23-c18b-4db0-a3fe-68044f59ee48"
      },
      "source": [
        "emailCountDF[1:]['count'].value_counts()"
      ],
      "execution_count": null,
      "outputs": [
        {
          "output_type": "execute_result",
          "data": {
            "text/plain": [
              "1    171331\n",
              "2     59930\n",
              "3     14721\n",
              "4      2686\n",
              "5       425\n",
              "6        59\n",
              "7         3\n",
              "8         1\n",
              "Name: count, dtype: int64"
            ]
          },
          "metadata": {
            "tags": []
          },
          "execution_count": 14
        }
      ]
    },
    {
      "cell_type": "code",
      "metadata": {
        "colab": {
          "base_uri": "https://localhost:8080/",
          "height": 340
        },
        "id": "aKe0ZCp6RJ7O",
        "outputId": "00dfd926-2df4-4da3-b127-23f3c20e4a69"
      },
      "source": [
        "emailCountDF[1:][emailCountDF['count'] > 1].plot()"
      ],
      "execution_count": null,
      "outputs": [
        {
          "output_type": "stream",
          "text": [
            "/usr/local/lib/python3.7/dist-packages/ipykernel_launcher.py:1: UserWarning: Boolean Series key will be reindexed to match DataFrame index.\n",
            "  \"\"\"Entry point for launching an IPython kernel.\n"
          ],
          "name": "stderr"
        },
        {
          "output_type": "execute_result",
          "data": {
            "text/plain": [
              "<matplotlib.axes._subplots.AxesSubplot at 0x7fd419d346d0>"
            ]
          },
          "metadata": {
            "tags": []
          },
          "execution_count": 15
        },
        {
          "output_type": "display_data",
          "data": {
            "image/png": "[encoded data removed]",
            "text/plain": [
              "<Figure size 432x288 with 1 Axes>"
            ]
          },
          "metadata": {
            "tags": [],
            "needs_background": "light"
          }
        }
      ]
    },
    {
      "cell_type": "markdown",
      "metadata": {
        "id": "-AkLjNE8R77w"
      },
      "source": [
        "# Order ID"
      ]
    },
    {
      "cell_type": "code",
      "metadata": {
        "colab": {
          "base_uri": "https://localhost:8080/",
          "height": 206
        },
        "id": "3-qlHjk8RPNY",
        "outputId": "49f2f444-56ef-4527-e604-90a719c007fb"
      },
      "source": [
        "orderIDcountDF = pd.DataFrame(df['OrderId'].value_counts().reset_index().rename(columns = {'index':'OrderId', 'OrderId':'count'}))\r\n",
        "orderIDcountDF.head()"
      ],
      "execution_count": null,
      "outputs": [
        {
          "output_type": "execute_result",
          "data": {
            "text/html": [
              "<div>\n",
              "<style scoped>\n",
              "    .dataframe tbody tr th:only-of-type {\n",
              "        vertical-align: middle;\n",
              "    }\n",
              "\n",
              "    .dataframe tbody tr th {\n",
              "        vertical-align: top;\n",
              "    }\n",
              "\n",
              "    .dataframe thead th {\n",
              "        text-align: right;\n",
              "    }\n",
              "</style>\n",
              "<table border=\"1\" class=\"dataframe\">\n",
              "  <thead>\n",
              "    <tr style=\"text-align: right;\">\n",
              "      <th></th>\n",
              "      <th>OrderId</th>\n",
              "      <th>count</th>\n",
              "    </tr>\n",
              "  </thead>\n",
              "  <tbody>\n",
              "    <tr>\n",
              "      <th>0</th>\n",
              "      <td></td>\n",
              "      <td>256456</td>\n",
              "    </tr>\n",
              "    <tr>\n",
              "      <th>1</th>\n",
              "      <td>sXUrqwwNhKznjvToweHbZSEga</td>\n",
              "      <td>7</td>\n",
              "    </tr>\n",
              "    <tr>\n",
              "      <th>2</th>\n",
              "      <td>XnkDQsOGUHYvPTGJPZQmkQUQr</td>\n",
              "      <td>7</td>\n",
              "    </tr>\n",
              "    <tr>\n",
              "      <th>3</th>\n",
              "      <td>BATrLNqtLBjKoebpOUifVUqtb</td>\n",
              "      <td>6</td>\n",
              "    </tr>\n",
              "    <tr>\n",
              "      <th>4</th>\n",
              "      <td>rSdiekztwjSABlQksJdcjmVUW</td>\n",
              "      <td>6</td>\n",
              "    </tr>\n",
              "  </tbody>\n",
              "</table>\n",
              "</div>"
            ],
            "text/plain": [
              "                     OrderId   count\n",
              "0                             256456\n",
              "1  sXUrqwwNhKznjvToweHbZSEga       7\n",
              "2  XnkDQsOGUHYvPTGJPZQmkQUQr       7\n",
              "3  BATrLNqtLBjKoebpOUifVUqtb       6\n",
              "4  rSdiekztwjSABlQksJdcjmVUW       6"
            ]
          },
          "metadata": {
            "tags": []
          },
          "execution_count": 16
        }
      ]
    },
    {
      "cell_type": "code",
      "metadata": {
        "colab": {
          "base_uri": "https://localhost:8080/"
        },
        "id": "ZIo7QlQbSF7A",
        "outputId": "d7e00316-b356-4a9a-857c-05ced687acca"
      },
      "source": [
        "orderIDcountDF[1:]['count'].unique()"
      ],
      "execution_count": null,
      "outputs": [
        {
          "output_type": "execute_result",
          "data": {
            "text/plain": [
              "array([7, 6, 5, 4, 3, 2, 1])"
            ]
          },
          "metadata": {
            "tags": []
          },
          "execution_count": 17
        }
      ]
    },
    {
      "cell_type": "code",
      "metadata": {
        "colab": {
          "base_uri": "https://localhost:8080/"
        },
        "id": "pec0zwluSU6D",
        "outputId": "c49fe76a-0481-4e2f-aaea-d30b9e607ce9"
      },
      "source": [
        "orderIDcountDF[1:]['count'].value_counts()"
      ],
      "execution_count": null,
      "outputs": [
        {
          "output_type": "execute_result",
          "data": {
            "text/plain": [
              "1    144367\n",
              "2     36988\n",
              "3      6759\n",
              "4      1037\n",
              "5       132\n",
              "6        17\n",
              "7         2\n",
              "Name: count, dtype: int64"
            ]
          },
          "metadata": {
            "tags": []
          },
          "execution_count": 18
        }
      ]
    },
    {
      "cell_type": "code",
      "metadata": {
        "colab": {
          "base_uri": "https://localhost:8080/",
          "height": 340
        },
        "id": "FM2JsRcDSKY1",
        "outputId": "6977f191-2bc6-408f-912f-8e0cbb50905e"
      },
      "source": [
        "orderIDcountDF[1:][orderIDcountDF['count'] > 1].plot()"
      ],
      "execution_count": null,
      "outputs": [
        {
          "output_type": "stream",
          "text": [
            "/usr/local/lib/python3.7/dist-packages/ipykernel_launcher.py:1: UserWarning: Boolean Series key will be reindexed to match DataFrame index.\n",
            "  \"\"\"Entry point for launching an IPython kernel.\n"
          ],
          "name": "stderr"
        },
        {
          "output_type": "execute_result",
          "data": {
            "text/plain": [
              "<matplotlib.axes._subplots.AxesSubplot at 0x7fd419d132d0>"
            ]
          },
          "metadata": {
            "tags": []
          },
          "execution_count": 19
        },
        {
          "output_type": "display_data",
          "data": {
            "image/png": "[encoded data removed]",
            "text/plain": [
              "<Figure size 432x288 with 1 Axes>"
            ]
          },
          "metadata": {
            "tags": [],
            "needs_background": "light"
          }
        }
      ]
    },
    {
      "cell_type": "markdown",
      "metadata": {
        "id": "A-VPNz6dStg4"
      },
      "source": [
        "# Try"
      ]
    },
    {
      "cell_type": "code",
      "metadata": {
        "colab": {
          "base_uri": "https://localhost:8080/",
          "height": 206
        },
        "id": "zEekjeu2U5A1",
        "outputId": "84a995b4-94ed-4608-f094-b758e80e35c4"
      },
      "source": [
        "multipleEmailContacts = emailCountDF[(emailCountDF['count'] > 1) & (emailCountDF['count'] <= 8)]\r\n",
        "multipleEmailContacts.head()"
      ],
      "execution_count": null,
      "outputs": [
        {
          "output_type": "execute_result",
          "data": {
            "text/html": [
              "<div>\n",
              "<style scoped>\n",
              "    .dataframe tbody tr th:only-of-type {\n",
              "        vertical-align: middle;\n",
              "    }\n",
              "\n",
              "    .dataframe tbody tr th {\n",
              "        vertical-align: top;\n",
              "    }\n",
              "\n",
              "    .dataframe thead th {\n",
              "        text-align: right;\n",
              "    }\n",
              "</style>\n",
              "<table border=\"1\" class=\"dataframe\">\n",
              "  <thead>\n",
              "    <tr style=\"text-align: right;\">\n",
              "      <th></th>\n",
              "      <th>Email</th>\n",
              "      <th>count</th>\n",
              "    </tr>\n",
              "  </thead>\n",
              "  <tbody>\n",
              "    <tr>\n",
              "      <th>1</th>\n",
              "      <td>joeiBlUUXIEsEBHp@yahoo.com</td>\n",
              "      <td>8</td>\n",
              "    </tr>\n",
              "    <tr>\n",
              "      <th>2</th>\n",
              "      <td>CTZmhZeinbwjkCDNZl@hotmail.com</td>\n",
              "      <td>7</td>\n",
              "    </tr>\n",
              "    <tr>\n",
              "      <th>3</th>\n",
              "      <td>cNOClXNUqeYiWUPu@hotmail.com</td>\n",
              "      <td>7</td>\n",
              "    </tr>\n",
              "    <tr>\n",
              "      <th>4</th>\n",
              "      <td>EacGcUDVEcfjDh@hotmail.com</td>\n",
              "      <td>7</td>\n",
              "    </tr>\n",
              "    <tr>\n",
              "      <th>5</th>\n",
              "      <td>ueIQsOlzCiTnFMfaXo@hotmail.com</td>\n",
              "      <td>6</td>\n",
              "    </tr>\n",
              "  </tbody>\n",
              "</table>\n",
              "</div>"
            ],
            "text/plain": [
              "                            Email  count\n",
              "1      joeiBlUUXIEsEBHp@yahoo.com      8\n",
              "2  CTZmhZeinbwjkCDNZl@hotmail.com      7\n",
              "3    cNOClXNUqeYiWUPu@hotmail.com      7\n",
              "4      EacGcUDVEcfjDh@hotmail.com      7\n",
              "5  ueIQsOlzCiTnFMfaXo@hotmail.com      6"
            ]
          },
          "metadata": {
            "tags": []
          },
          "execution_count": 20
        }
      ]
    },
    {
      "cell_type": "code",
      "metadata": {
        "colab": {
          "base_uri": "https://localhost:8080/",
          "height": 335
        },
        "id": "wiB5s_3yVhXu",
        "outputId": "eb811af0-3f08-4176-b4b7-b74aab6f8820"
      },
      "source": [
        "multipleEmailContacts['uniqueEmail'] = multipleEmailContacts.index\r\n",
        "multipleEmailContacts = multipleEmailContacts.drop(columns=['count'])\r\n",
        "multipleEmailContacts.head()"
      ],
      "execution_count": null,
      "outputs": [
        {
          "output_type": "stream",
          "text": [
            "/usr/local/lib/python3.7/dist-packages/ipykernel_launcher.py:1: SettingWithCopyWarning: \n",
            "A value is trying to be set on a copy of a slice from a DataFrame.\n",
            "Try using .loc[row_indexer,col_indexer] = value instead\n",
            "\n",
            "See the caveats in the documentation: https://pandas.pydata.org/pandas-docs/stable/user_guide/indexing.html#returning-a-view-versus-a-copy\n",
            "  \"\"\"Entry point for launching an IPython kernel.\n"
          ],
          "name": "stderr"
        },
        {
          "output_type": "execute_result",
          "data": {
            "text/html": [
              "<div>\n",
              "<style scoped>\n",
              "    .dataframe tbody tr th:only-of-type {\n",
              "        vertical-align: middle;\n",
              "    }\n",
              "\n",
              "    .dataframe tbody tr th {\n",
              "        vertical-align: top;\n",
              "    }\n",
              "\n",
              "    .dataframe thead th {\n",
              "        text-align: right;\n",
              "    }\n",
              "</style>\n",
              "<table border=\"1\" class=\"dataframe\">\n",
              "  <thead>\n",
              "    <tr style=\"text-align: right;\">\n",
              "      <th></th>\n",
              "      <th>Email</th>\n",
              "      <th>uniqueEmail</th>\n",
              "    </tr>\n",
              "  </thead>\n",
              "  <tbody>\n",
              "    <tr>\n",
              "      <th>1</th>\n",
              "      <td>joeiBlUUXIEsEBHp@yahoo.com</td>\n",
              "      <td>1</td>\n",
              "    </tr>\n",
              "    <tr>\n",
              "      <th>2</th>\n",
              "      <td>CTZmhZeinbwjkCDNZl@hotmail.com</td>\n",
              "      <td>2</td>\n",
              "    </tr>\n",
              "    <tr>\n",
              "      <th>3</th>\n",
              "      <td>cNOClXNUqeYiWUPu@hotmail.com</td>\n",
              "      <td>3</td>\n",
              "    </tr>\n",
              "    <tr>\n",
              "      <th>4</th>\n",
              "      <td>EacGcUDVEcfjDh@hotmail.com</td>\n",
              "      <td>4</td>\n",
              "    </tr>\n",
              "    <tr>\n",
              "      <th>5</th>\n",
              "      <td>ueIQsOlzCiTnFMfaXo@hotmail.com</td>\n",
              "      <td>5</td>\n",
              "    </tr>\n",
              "  </tbody>\n",
              "</table>\n",
              "</div>"
            ],
            "text/plain": [
              "                            Email  uniqueEmail\n",
              "1      joeiBlUUXIEsEBHp@yahoo.com            1\n",
              "2  CTZmhZeinbwjkCDNZl@hotmail.com            2\n",
              "3    cNOClXNUqeYiWUPu@hotmail.com            3\n",
              "4      EacGcUDVEcfjDh@hotmail.com            4\n",
              "5  ueIQsOlzCiTnFMfaXo@hotmail.com            5"
            ]
          },
          "metadata": {
            "tags": []
          },
          "execution_count": 21
        }
      ]
    },
    {
      "cell_type": "code",
      "metadata": {
        "colab": {
          "base_uri": "https://localhost:8080/",
          "height": 206
        },
        "id": "5C1JaLpxZz4Z",
        "outputId": "7eb329e6-2146-4c83-a051-852540286b49"
      },
      "source": [
        "multiplePhoneContacts = phoneCountDF[(phoneCountDF['count'] > 1) & (phoneCountDF['count'] <= 8)]\r\n",
        "multiplePhoneContacts.head()"
      ],
      "execution_count": null,
      "outputs": [
        {
          "output_type": "execute_result",
          "data": {
            "text/html": [
              "<div>\n",
              "<style scoped>\n",
              "    .dataframe tbody tr th:only-of-type {\n",
              "        vertical-align: middle;\n",
              "    }\n",
              "\n",
              "    .dataframe tbody tr th {\n",
              "        vertical-align: top;\n",
              "    }\n",
              "\n",
              "    .dataframe thead th {\n",
              "        text-align: right;\n",
              "    }\n",
              "</style>\n",
              "<table border=\"1\" class=\"dataframe\">\n",
              "  <thead>\n",
              "    <tr style=\"text-align: right;\">\n",
              "      <th></th>\n",
              "      <th>Phone</th>\n",
              "      <th>count</th>\n",
              "    </tr>\n",
              "  </thead>\n",
              "  <tbody>\n",
              "    <tr>\n",
              "      <th>1</th>\n",
              "      <td>4973691147</td>\n",
              "      <td>6</td>\n",
              "    </tr>\n",
              "    <tr>\n",
              "      <th>2</th>\n",
              "      <td>17061886270</td>\n",
              "      <td>6</td>\n",
              "    </tr>\n",
              "    <tr>\n",
              "      <th>3</th>\n",
              "      <td>0823972506</td>\n",
              "      <td>6</td>\n",
              "    </tr>\n",
              "    <tr>\n",
              "      <th>4</th>\n",
              "      <td>830154496211</td>\n",
              "      <td>6</td>\n",
              "    </tr>\n",
              "    <tr>\n",
              "      <th>5</th>\n",
              "      <td>093492142</td>\n",
              "      <td>6</td>\n",
              "    </tr>\n",
              "  </tbody>\n",
              "</table>\n",
              "</div>"
            ],
            "text/plain": [
              "          Phone  count\n",
              "1    4973691147      6\n",
              "2   17061886270      6\n",
              "3    0823972506      6\n",
              "4  830154496211      6\n",
              "5     093492142      6"
            ]
          },
          "metadata": {
            "tags": []
          },
          "execution_count": 22
        }
      ]
    },
    {
      "cell_type": "code",
      "metadata": {
        "colab": {
          "base_uri": "https://localhost:8080/",
          "height": 335
        },
        "id": "8RUmmTAUZz7_",
        "outputId": "bc140699-c74c-4e0f-a992-a8958950feb7"
      },
      "source": [
        "multiplePhoneContacts['uniquePhone'] = multiplePhoneContacts.index\r\n",
        "multiplePhoneContacts = multiplePhoneContacts.drop(columns=['count'])\r\n",
        "multiplePhoneContacts.head()"
      ],
      "execution_count": null,
      "outputs": [
        {
          "output_type": "stream",
          "text": [
            "/usr/local/lib/python3.7/dist-packages/ipykernel_launcher.py:1: SettingWithCopyWarning: \n",
            "A value is trying to be set on a copy of a slice from a DataFrame.\n",
            "Try using .loc[row_indexer,col_indexer] = value instead\n",
            "\n",
            "See the caveats in the documentation: https://pandas.pydata.org/pandas-docs/stable/user_guide/indexing.html#returning-a-view-versus-a-copy\n",
            "  \"\"\"Entry point for launching an IPython kernel.\n"
          ],
          "name": "stderr"
        },
        {
          "output_type": "execute_result",
          "data": {
            "text/html": [
              "<div>\n",
              "<style scoped>\n",
              "    .dataframe tbody tr th:only-of-type {\n",
              "        vertical-align: middle;\n",
              "    }\n",
              "\n",
              "    .dataframe tbody tr th {\n",
              "        vertical-align: top;\n",
              "    }\n",
              "\n",
              "    .dataframe thead th {\n",
              "        text-align: right;\n",
              "    }\n",
              "</style>\n",
              "<table border=\"1\" class=\"dataframe\">\n",
              "  <thead>\n",
              "    <tr style=\"text-align: right;\">\n",
              "      <th></th>\n",
              "      <th>Phone</th>\n",
              "      <th>uniquePhone</th>\n",
              "    </tr>\n",
              "  </thead>\n",
              "  <tbody>\n",
              "    <tr>\n",
              "      <th>1</th>\n",
              "      <td>4973691147</td>\n",
              "      <td>1</td>\n",
              "    </tr>\n",
              "    <tr>\n",
              "      <th>2</th>\n",
              "      <td>17061886270</td>\n",
              "      <td>2</td>\n",
              "    </tr>\n",
              "    <tr>\n",
              "      <th>3</th>\n",
              "      <td>0823972506</td>\n",
              "      <td>3</td>\n",
              "    </tr>\n",
              "    <tr>\n",
              "      <th>4</th>\n",
              "      <td>830154496211</td>\n",
              "      <td>4</td>\n",
              "    </tr>\n",
              "    <tr>\n",
              "      <th>5</th>\n",
              "      <td>093492142</td>\n",
              "      <td>5</td>\n",
              "    </tr>\n",
              "  </tbody>\n",
              "</table>\n",
              "</div>"
            ],
            "text/plain": [
              "          Phone  uniquePhone\n",
              "1    4973691147            1\n",
              "2   17061886270            2\n",
              "3    0823972506            3\n",
              "4  830154496211            4\n",
              "5     093492142            5"
            ]
          },
          "metadata": {
            "tags": []
          },
          "execution_count": 23
        }
      ]
    },
    {
      "cell_type": "code",
      "metadata": {
        "colab": {
          "base_uri": "https://localhost:8080/",
          "height": 206
        },
        "id": "faAFDIPgataQ",
        "outputId": "3aa2cec7-6269-4204-81ec-79bdae74b8ee"
      },
      "source": [
        "multipleOrders = orderIDcountDF[(orderIDcountDF['count'] > 1) & (orderIDcountDF['count'] <= 8)]\r\n",
        "multipleOrders.head()"
      ],
      "execution_count": null,
      "outputs": [
        {
          "output_type": "execute_result",
          "data": {
            "text/html": [
              "<div>\n",
              "<style scoped>\n",
              "    .dataframe tbody tr th:only-of-type {\n",
              "        vertical-align: middle;\n",
              "    }\n",
              "\n",
              "    .dataframe tbody tr th {\n",
              "        vertical-align: top;\n",
              "    }\n",
              "\n",
              "    .dataframe thead th {\n",
              "        text-align: right;\n",
              "    }\n",
              "</style>\n",
              "<table border=\"1\" class=\"dataframe\">\n",
              "  <thead>\n",
              "    <tr style=\"text-align: right;\">\n",
              "      <th></th>\n",
              "      <th>OrderId</th>\n",
              "      <th>count</th>\n",
              "    </tr>\n",
              "  </thead>\n",
              "  <tbody>\n",
              "    <tr>\n",
              "      <th>1</th>\n",
              "      <td>sXUrqwwNhKznjvToweHbZSEga</td>\n",
              "      <td>7</td>\n",
              "    </tr>\n",
              "    <tr>\n",
              "      <th>2</th>\n",
              "      <td>XnkDQsOGUHYvPTGJPZQmkQUQr</td>\n",
              "      <td>7</td>\n",
              "    </tr>\n",
              "    <tr>\n",
              "      <th>3</th>\n",
              "      <td>BATrLNqtLBjKoebpOUifVUqtb</td>\n",
              "      <td>6</td>\n",
              "    </tr>\n",
              "    <tr>\n",
              "      <th>4</th>\n",
              "      <td>rSdiekztwjSABlQksJdcjmVUW</td>\n",
              "      <td>6</td>\n",
              "    </tr>\n",
              "    <tr>\n",
              "      <th>5</th>\n",
              "      <td>NSFRTIlnReqSAVQyVQGCXtInJ</td>\n",
              "      <td>6</td>\n",
              "    </tr>\n",
              "  </tbody>\n",
              "</table>\n",
              "</div>"
            ],
            "text/plain": [
              "                     OrderId  count\n",
              "1  sXUrqwwNhKznjvToweHbZSEga      7\n",
              "2  XnkDQsOGUHYvPTGJPZQmkQUQr      7\n",
              "3  BATrLNqtLBjKoebpOUifVUqtb      6\n",
              "4  rSdiekztwjSABlQksJdcjmVUW      6\n",
              "5  NSFRTIlnReqSAVQyVQGCXtInJ      6"
            ]
          },
          "metadata": {
            "tags": []
          },
          "execution_count": 24
        }
      ]
    },
    {
      "cell_type": "code",
      "metadata": {
        "colab": {
          "base_uri": "https://localhost:8080/",
          "height": 335
        },
        "id": "wEJTpDh6atd-",
        "outputId": "1f648da9-5e24-4cd1-9171-e15e9dc4d94c"
      },
      "source": [
        "multipleOrders['uniqueOrder'] = multipleOrders.index\r\n",
        "multipleOrders = multipleOrders.drop(columns=['count'])\r\n",
        "multipleOrders.head()"
      ],
      "execution_count": null,
      "outputs": [
        {
          "output_type": "stream",
          "text": [
            "/usr/local/lib/python3.7/dist-packages/ipykernel_launcher.py:1: SettingWithCopyWarning: \n",
            "A value is trying to be set on a copy of a slice from a DataFrame.\n",
            "Try using .loc[row_indexer,col_indexer] = value instead\n",
            "\n",
            "See the caveats in the documentation: https://pandas.pydata.org/pandas-docs/stable/user_guide/indexing.html#returning-a-view-versus-a-copy\n",
            "  \"\"\"Entry point for launching an IPython kernel.\n"
          ],
          "name": "stderr"
        },
        {
          "output_type": "execute_result",
          "data": {
            "text/html": [
              "<div>\n",
              "<style scoped>\n",
              "    .dataframe tbody tr th:only-of-type {\n",
              "        vertical-align: middle;\n",
              "    }\n",
              "\n",
              "    .dataframe tbody tr th {\n",
              "        vertical-align: top;\n",
              "    }\n",
              "\n",
              "    .dataframe thead th {\n",
              "        text-align: right;\n",
              "    }\n",
              "</style>\n",
              "<table border=\"1\" class=\"dataframe\">\n",
              "  <thead>\n",
              "    <tr style=\"text-align: right;\">\n",
              "      <th></th>\n",
              "      <th>OrderId</th>\n",
              "      <th>uniqueOrder</th>\n",
              "    </tr>\n",
              "  </thead>\n",
              "  <tbody>\n",
              "    <tr>\n",
              "      <th>1</th>\n",
              "      <td>sXUrqwwNhKznjvToweHbZSEga</td>\n",
              "      <td>1</td>\n",
              "    </tr>\n",
              "    <tr>\n",
              "      <th>2</th>\n",
              "      <td>XnkDQsOGUHYvPTGJPZQmkQUQr</td>\n",
              "      <td>2</td>\n",
              "    </tr>\n",
              "    <tr>\n",
              "      <th>3</th>\n",
              "      <td>BATrLNqtLBjKoebpOUifVUqtb</td>\n",
              "      <td>3</td>\n",
              "    </tr>\n",
              "    <tr>\n",
              "      <th>4</th>\n",
              "      <td>rSdiekztwjSABlQksJdcjmVUW</td>\n",
              "      <td>4</td>\n",
              "    </tr>\n",
              "    <tr>\n",
              "      <th>5</th>\n",
              "      <td>NSFRTIlnReqSAVQyVQGCXtInJ</td>\n",
              "      <td>5</td>\n",
              "    </tr>\n",
              "  </tbody>\n",
              "</table>\n",
              "</div>"
            ],
            "text/plain": [
              "                     OrderId  uniqueOrder\n",
              "1  sXUrqwwNhKznjvToweHbZSEga            1\n",
              "2  XnkDQsOGUHYvPTGJPZQmkQUQr            2\n",
              "3  BATrLNqtLBjKoebpOUifVUqtb            3\n",
              "4  rSdiekztwjSABlQksJdcjmVUW            4\n",
              "5  NSFRTIlnReqSAVQyVQGCXtInJ            5"
            ]
          },
          "metadata": {
            "tags": []
          },
          "execution_count": 25
        }
      ]
    },
    {
      "cell_type": "code",
      "metadata": {
        "id": "nIaVzsYQWhde"
      },
      "source": [
        "# def checkEmail(mainDF):\r\n",
        "#   for i in mainDF:\r\n",
        "#     count = 0\r\n",
        "\r\n",
        "#     for j in multipleEmailContacts['Email']:\r\n",
        "#         if i == j:\r\n",
        "#           return count\r\n",
        "#         count += 1\r\n",
        "\r\n",
        "#     return np.nan"
      ],
      "execution_count": null,
      "outputs": []
    },
    {
      "cell_type": "code",
      "metadata": {
        "id": "98C6oO7NSNwP"
      },
      "source": [
        "# df['sameEmail'] = df['Email'].apply(lambda x: checkEmail(x))\r\n",
        "# df"
      ],
      "execution_count": null,
      "outputs": []
    },
    {
      "cell_type": "code",
      "metadata": {
        "colab": {
          "base_uri": "https://localhost:8080/",
          "height": 424
        },
        "id": "gJJlhhpzWacC",
        "outputId": "c5d636b9-9d4e-4593-fd21-121d4c6d0007"
      },
      "source": [
        "df = pd.merge(df, multipleEmailContacts, on='Email', how='left')\r\n",
        "df = pd.merge(df, multiplePhoneContacts, on='Phone', how='left')\r\n",
        "df = pd.merge(df, multipleOrders, on='OrderId', how='left')\r\n",
        "df"
      ],
      "execution_count": null,
      "outputs": [
        {
          "output_type": "execute_result",
          "data": {
            "text/html": [
              "<div>\n",
              "<style scoped>\n",
              "    .dataframe tbody tr th:only-of-type {\n",
              "        vertical-align: middle;\n",
              "    }\n",
              "\n",
              "    .dataframe tbody tr th {\n",
              "        vertical-align: top;\n",
              "    }\n",
              "\n",
              "    .dataframe thead th {\n",
              "        text-align: right;\n",
              "    }\n",
              "</style>\n",
              "<table border=\"1\" class=\"dataframe\">\n",
              "  <thead>\n",
              "    <tr style=\"text-align: right;\">\n",
              "      <th></th>\n",
              "      <th>Id</th>\n",
              "      <th>Email</th>\n",
              "      <th>Phone</th>\n",
              "      <th>Contacts</th>\n",
              "      <th>OrderId</th>\n",
              "      <th>uniqueEmail</th>\n",
              "      <th>uniquePhone</th>\n",
              "      <th>uniqueOrder</th>\n",
              "    </tr>\n",
              "  </thead>\n",
              "  <tbody>\n",
              "    <tr>\n",
              "      <th>0</th>\n",
              "      <td>0</td>\n",
              "      <td>gkzAbIy@qq.com</td>\n",
              "      <td></td>\n",
              "      <td>1</td>\n",
              "      <td></td>\n",
              "      <td>NaN</td>\n",
              "      <td>NaN</td>\n",
              "      <td>NaN</td>\n",
              "    </tr>\n",
              "    <tr>\n",
              "      <th>1</th>\n",
              "      <td>1</td>\n",
              "      <td></td>\n",
              "      <td>329442681752</td>\n",
              "      <td>4</td>\n",
              "      <td>vDDJJcxfLtSfkooPhbYnJdxov</td>\n",
              "      <td>NaN</td>\n",
              "      <td>NaN</td>\n",
              "      <td>5485.0</td>\n",
              "    </tr>\n",
              "    <tr>\n",
              "      <th>2</th>\n",
              "      <td>2</td>\n",
              "      <td></td>\n",
              "      <td>9125983679</td>\n",
              "      <td>0</td>\n",
              "      <td></td>\n",
              "      <td>NaN</td>\n",
              "      <td>13929.0</td>\n",
              "      <td>NaN</td>\n",
              "    </tr>\n",
              "    <tr>\n",
              "      <th>3</th>\n",
              "      <td>3</td>\n",
              "      <td>mdllpYmE@gmail.com</td>\n",
              "      <td></td>\n",
              "      <td>0</td>\n",
              "      <td>bHquEnCbbsGLqllwryxPsNOxa</td>\n",
              "      <td>NaN</td>\n",
              "      <td>NaN</td>\n",
              "      <td>NaN</td>\n",
              "    </tr>\n",
              "    <tr>\n",
              "      <th>4</th>\n",
              "      <td>4</td>\n",
              "      <td></td>\n",
              "      <td>300364407</td>\n",
              "      <td>2</td>\n",
              "      <td></td>\n",
              "      <td>NaN</td>\n",
              "      <td>NaN</td>\n",
              "      <td>NaN</td>\n",
              "    </tr>\n",
              "    <tr>\n",
              "      <th>...</th>\n",
              "      <td>...</td>\n",
              "      <td>...</td>\n",
              "      <td>...</td>\n",
              "      <td>...</td>\n",
              "      <td>...</td>\n",
              "      <td>...</td>\n",
              "      <td>...</td>\n",
              "      <td>...</td>\n",
              "    </tr>\n",
              "    <tr>\n",
              "      <th>499995</th>\n",
              "      <td>499995</td>\n",
              "      <td></td>\n",
              "      <td>10072395382</td>\n",
              "      <td>2</td>\n",
              "      <td>whJlUOGNqjxCRzmIRdURQvlNv</td>\n",
              "      <td>NaN</td>\n",
              "      <td>NaN</td>\n",
              "      <td>NaN</td>\n",
              "    </tr>\n",
              "    <tr>\n",
              "      <th>499996</th>\n",
              "      <td>499996</td>\n",
              "      <td></td>\n",
              "      <td>571709661031</td>\n",
              "      <td>4</td>\n",
              "      <td>JqIXOONvrwvJxZqNxCYHqnrKS</td>\n",
              "      <td>NaN</td>\n",
              "      <td>NaN</td>\n",
              "      <td>NaN</td>\n",
              "    </tr>\n",
              "    <tr>\n",
              "      <th>499997</th>\n",
              "      <td>499997</td>\n",
              "      <td></td>\n",
              "      <td>4541459979</td>\n",
              "      <td>2</td>\n",
              "      <td>beXCZSzcHaBwAYoDcpQqjuAFO</td>\n",
              "      <td>NaN</td>\n",
              "      <td>NaN</td>\n",
              "      <td>NaN</td>\n",
              "    </tr>\n",
              "    <tr>\n",
              "      <th>499998</th>\n",
              "      <td>499998</td>\n",
              "      <td>RzSDsyH@hotmail.com</td>\n",
              "      <td>98947185431</td>\n",
              "      <td>1</td>\n",
              "      <td>ehjeFACGiwrERQxbziMxwOWku</td>\n",
              "      <td>NaN</td>\n",
              "      <td>NaN</td>\n",
              "      <td>41982.0</td>\n",
              "    </tr>\n",
              "    <tr>\n",
              "      <th>499999</th>\n",
              "      <td>499999</td>\n",
              "      <td></td>\n",
              "      <td>880053388839</td>\n",
              "      <td>0</td>\n",
              "      <td>JibSBRgzYdfzkzbTuGUXrcvDX</td>\n",
              "      <td>NaN</td>\n",
              "      <td>NaN</td>\n",
              "      <td>NaN</td>\n",
              "    </tr>\n",
              "  </tbody>\n",
              "</table>\n",
              "<p>500000 rows × 8 columns</p>\n",
              "</div>"
            ],
            "text/plain": [
              "            Id                Email  ... uniquePhone  uniqueOrder\n",
              "0            0       gkzAbIy@qq.com  ...         NaN          NaN\n",
              "1            1                       ...         NaN       5485.0\n",
              "2            2                       ...     13929.0          NaN\n",
              "3            3   mdllpYmE@gmail.com  ...         NaN          NaN\n",
              "4            4                       ...         NaN          NaN\n",
              "...        ...                  ...  ...         ...          ...\n",
              "499995  499995                       ...         NaN          NaN\n",
              "499996  499996                       ...         NaN          NaN\n",
              "499997  499997                       ...         NaN          NaN\n",
              "499998  499998  RzSDsyH@hotmail.com  ...         NaN      41982.0\n",
              "499999  499999                       ...         NaN          NaN\n",
              "\n",
              "[500000 rows x 8 columns]"
            ]
          },
          "metadata": {
            "tags": []
          },
          "execution_count": 28
        }
      ]
    },
    {
      "cell_type": "code",
      "metadata": {
        "colab": {
          "base_uri": "https://localhost:8080/"
        },
        "id": "ZfRDGPvHYHvi",
        "outputId": "9a30b44f-a613-4b2f-eea1-b46a910eb3d1"
      },
      "source": [
        "df.isnull().sum()"
      ],
      "execution_count": null,
      "outputs": [
        {
          "output_type": "execute_result",
          "data": {
            "text/plain": [
              "Id                  0\n",
              "Email               0\n",
              "Phone               0\n",
              "Contacts            0\n",
              "OrderId             0\n",
              "uniqueEmail    322725\n",
              "uniquePhone    400452\n",
              "uniqueOrder    400823\n",
              "dtype: int64"
            ]
          },
          "metadata": {
            "tags": []
          },
          "execution_count": 29
        }
      ]
    },
    {
      "cell_type": "code",
      "metadata": {
        "colab": {
          "base_uri": "https://localhost:8080/",
          "height": 424
        },
        "id": "O8O92b_VevDK",
        "outputId": "de566b5d-ad6f-4e60-ca08-e33d1260b6ad"
      },
      "source": [
        "theRest = df[df['uniqueEmail'].notna() | df['uniquePhone'].notna() | df['uniqueOrder'].notna()]\r\n",
        "theRest"
      ],
      "execution_count": null,
      "outputs": [
        {
          "output_type": "execute_result",
          "data": {
            "text/html": [
              "<div>\n",
              "<style scoped>\n",
              "    .dataframe tbody tr th:only-of-type {\n",
              "        vertical-align: middle;\n",
              "    }\n",
              "\n",
              "    .dataframe tbody tr th {\n",
              "        vertical-align: top;\n",
              "    }\n",
              "\n",
              "    .dataframe thead th {\n",
              "        text-align: right;\n",
              "    }\n",
              "</style>\n",
              "<table border=\"1\" class=\"dataframe\">\n",
              "  <thead>\n",
              "    <tr style=\"text-align: right;\">\n",
              "      <th></th>\n",
              "      <th>Id</th>\n",
              "      <th>Email</th>\n",
              "      <th>Phone</th>\n",
              "      <th>Contacts</th>\n",
              "      <th>OrderId</th>\n",
              "      <th>uniqueEmail</th>\n",
              "      <th>uniquePhone</th>\n",
              "      <th>uniqueOrder</th>\n",
              "    </tr>\n",
              "  </thead>\n",
              "  <tbody>\n",
              "    <tr>\n",
              "      <th>1</th>\n",
              "      <td>1</td>\n",
              "      <td></td>\n",
              "      <td>329442681752</td>\n",
              "      <td>4</td>\n",
              "      <td>vDDJJcxfLtSfkooPhbYnJdxov</td>\n",
              "      <td>NaN</td>\n",
              "      <td>NaN</td>\n",
              "      <td>5485.0</td>\n",
              "    </tr>\n",
              "    <tr>\n",
              "      <th>2</th>\n",
              "      <td>2</td>\n",
              "      <td></td>\n",
              "      <td>9125983679</td>\n",
              "      <td>0</td>\n",
              "      <td></td>\n",
              "      <td>NaN</td>\n",
              "      <td>13929.0</td>\n",
              "      <td>NaN</td>\n",
              "    </tr>\n",
              "    <tr>\n",
              "      <th>5</th>\n",
              "      <td>5</td>\n",
              "      <td></td>\n",
              "      <td>840113148</td>\n",
              "      <td>0</td>\n",
              "      <td></td>\n",
              "      <td>NaN</td>\n",
              "      <td>40765.0</td>\n",
              "      <td>NaN</td>\n",
              "    </tr>\n",
              "    <tr>\n",
              "      <th>6</th>\n",
              "      <td>6</td>\n",
              "      <td>hESiBgYTxMnj@hotmail.com</td>\n",
              "      <td></td>\n",
              "      <td>4</td>\n",
              "      <td></td>\n",
              "      <td>1534.0</td>\n",
              "      <td>NaN</td>\n",
              "      <td>NaN</td>\n",
              "    </tr>\n",
              "    <tr>\n",
              "      <th>8</th>\n",
              "      <td>8</td>\n",
              "      <td>XGUjcSiDpFKWEUCs@qq.com</td>\n",
              "      <td>223604620644</td>\n",
              "      <td>2</td>\n",
              "      <td></td>\n",
              "      <td>NaN</td>\n",
              "      <td>38570.0</td>\n",
              "      <td>NaN</td>\n",
              "    </tr>\n",
              "    <tr>\n",
              "      <th>...</th>\n",
              "      <td>...</td>\n",
              "      <td>...</td>\n",
              "      <td>...</td>\n",
              "      <td>...</td>\n",
              "      <td>...</td>\n",
              "      <td>...</td>\n",
              "      <td>...</td>\n",
              "      <td>...</td>\n",
              "    </tr>\n",
              "    <tr>\n",
              "      <th>499988</th>\n",
              "      <td>499988</td>\n",
              "      <td>qJXiiwTMjRjIYe@hotmail.com</td>\n",
              "      <td></td>\n",
              "      <td>1</td>\n",
              "      <td>AveIKdquxHFgCrNqPaihhCNGf</td>\n",
              "      <td>10846.0</td>\n",
              "      <td>NaN</td>\n",
              "      <td>NaN</td>\n",
              "    </tr>\n",
              "    <tr>\n",
              "      <th>499989</th>\n",
              "      <td>499989</td>\n",
              "      <td>BvqHOhvgL@qq.com</td>\n",
              "      <td></td>\n",
              "      <td>3</td>\n",
              "      <td>FAnuKqMMcznzQcHcDjprAgdOv</td>\n",
              "      <td>10675.0</td>\n",
              "      <td>NaN</td>\n",
              "      <td>NaN</td>\n",
              "    </tr>\n",
              "    <tr>\n",
              "      <th>499990</th>\n",
              "      <td>499990</td>\n",
              "      <td></td>\n",
              "      <td>880752090156</td>\n",
              "      <td>2</td>\n",
              "      <td>ElrIJOTvTabhzXnSMXOLtUibu</td>\n",
              "      <td>NaN</td>\n",
              "      <td>NaN</td>\n",
              "      <td>42704.0</td>\n",
              "    </tr>\n",
              "    <tr>\n",
              "      <th>499994</th>\n",
              "      <td>499994</td>\n",
              "      <td>btjvtrrKGFKcqgop@qq.com</td>\n",
              "      <td></td>\n",
              "      <td>0</td>\n",
              "      <td>FzJqceEASdmnduzOEHvqxdOpR</td>\n",
              "      <td>NaN</td>\n",
              "      <td>NaN</td>\n",
              "      <td>29940.0</td>\n",
              "    </tr>\n",
              "    <tr>\n",
              "      <th>499998</th>\n",
              "      <td>499998</td>\n",
              "      <td>RzSDsyH@hotmail.com</td>\n",
              "      <td>98947185431</td>\n",
              "      <td>1</td>\n",
              "      <td>ehjeFACGiwrERQxbziMxwOWku</td>\n",
              "      <td>NaN</td>\n",
              "      <td>NaN</td>\n",
              "      <td>41982.0</td>\n",
              "    </tr>\n",
              "  </tbody>\n",
              "</table>\n",
              "<p>304192 rows × 8 columns</p>\n",
              "</div>"
            ],
            "text/plain": [
              "            Id                       Email  ... uniquePhone  uniqueOrder\n",
              "1            1                              ...         NaN       5485.0\n",
              "2            2                              ...     13929.0          NaN\n",
              "5            5                              ...     40765.0          NaN\n",
              "6            6    hESiBgYTxMnj@hotmail.com  ...         NaN          NaN\n",
              "8            8     XGUjcSiDpFKWEUCs@qq.com  ...     38570.0          NaN\n",
              "...        ...                         ...  ...         ...          ...\n",
              "499988  499988  qJXiiwTMjRjIYe@hotmail.com  ...         NaN          NaN\n",
              "499989  499989            BvqHOhvgL@qq.com  ...         NaN          NaN\n",
              "499990  499990                              ...         NaN      42704.0\n",
              "499994  499994     btjvtrrKGFKcqgop@qq.com  ...         NaN      29940.0\n",
              "499998  499998         RzSDsyH@hotmail.com  ...         NaN      41982.0\n",
              "\n",
              "[304192 rows x 8 columns]"
            ]
          },
          "metadata": {
            "tags": []
          },
          "execution_count": 30
        }
      ]
    },
    {
      "cell_type": "markdown",
      "metadata": {
        "id": "uY9sSZAugGP4"
      },
      "source": [
        "# These rows all have something in email, phone and order ID"
      ]
    },
    {
      "cell_type": "code",
      "metadata": {
        "colab": {
          "base_uri": "https://localhost:8080/",
          "height": 224
        },
        "id": "91py4JY4fepY",
        "outputId": "0d20453c-a28e-4f2a-e8b0-589f64be89bc"
      },
      "source": [
        "allHaveSomething = df.loc[(df['Email'].str.len() >= 1) & (df['Phone'].str.len() >= 1) & (df['OrderId'].str.len() >= 1)]\r\n",
        "\r\n",
        "print(len(allHaveSomething))\r\n",
        "\r\n",
        "allHaveSomething.head()"
      ],
      "execution_count": null,
      "outputs": [
        {
          "output_type": "stream",
          "text": [
            "40326\n"
          ],
          "name": "stdout"
        },
        {
          "output_type": "execute_result",
          "data": {
            "text/html": [
              "<div>\n",
              "<style scoped>\n",
              "    .dataframe tbody tr th:only-of-type {\n",
              "        vertical-align: middle;\n",
              "    }\n",
              "\n",
              "    .dataframe tbody tr th {\n",
              "        vertical-align: top;\n",
              "    }\n",
              "\n",
              "    .dataframe thead th {\n",
              "        text-align: right;\n",
              "    }\n",
              "</style>\n",
              "<table border=\"1\" class=\"dataframe\">\n",
              "  <thead>\n",
              "    <tr style=\"text-align: right;\">\n",
              "      <th></th>\n",
              "      <th>Id</th>\n",
              "      <th>Email</th>\n",
              "      <th>Phone</th>\n",
              "      <th>Contacts</th>\n",
              "      <th>OrderId</th>\n",
              "      <th>uniqueEmail</th>\n",
              "      <th>uniquePhone</th>\n",
              "      <th>uniqueOrder</th>\n",
              "    </tr>\n",
              "  </thead>\n",
              "  <tbody>\n",
              "    <tr>\n",
              "      <th>13</th>\n",
              "      <td>13</td>\n",
              "      <td>YsKhkKGJoQSNniHcr@yahoo.com</td>\n",
              "      <td>562300766</td>\n",
              "      <td>1</td>\n",
              "      <td>IqewrMXVTJqSsVklWFfOpdRNI</td>\n",
              "      <td>66585.0</td>\n",
              "      <td>41795.0</td>\n",
              "      <td>6472.0</td>\n",
              "    </tr>\n",
              "    <tr>\n",
              "      <th>17</th>\n",
              "      <td>17</td>\n",
              "      <td>TNaMorNIWCJARsXlg@gmail.com</td>\n",
              "      <td>092607900110</td>\n",
              "      <td>3</td>\n",
              "      <td>GqpDeqZSwZTbPRrrGePkOhbSQ</td>\n",
              "      <td>NaN</td>\n",
              "      <td>4818.0</td>\n",
              "      <td>NaN</td>\n",
              "    </tr>\n",
              "    <tr>\n",
              "      <th>22</th>\n",
              "      <td>22</td>\n",
              "      <td>FoaGWGbpnlvizkIG@qq.com</td>\n",
              "      <td>87750412055</td>\n",
              "      <td>0</td>\n",
              "      <td>FAfkaPfbiYqJNLqonkuozigbW</td>\n",
              "      <td>64255.0</td>\n",
              "      <td>22786.0</td>\n",
              "      <td>NaN</td>\n",
              "    </tr>\n",
              "    <tr>\n",
              "      <th>28</th>\n",
              "      <td>28</td>\n",
              "      <td>MbjTCmxpcqf@yahoo.com</td>\n",
              "      <td>028044435230</td>\n",
              "      <td>1</td>\n",
              "      <td>nfVgFexPZGijuRCTKQOCRYKBe</td>\n",
              "      <td>NaN</td>\n",
              "      <td>NaN</td>\n",
              "      <td>4863.0</td>\n",
              "    </tr>\n",
              "    <tr>\n",
              "      <th>42</th>\n",
              "      <td>42</td>\n",
              "      <td>VbaKKxkCzo@yahoo.com</td>\n",
              "      <td>315194406</td>\n",
              "      <td>3</td>\n",
              "      <td>TsBwFmhSCeauMjfoMVkhTBdYI</td>\n",
              "      <td>59809.0</td>\n",
              "      <td>NaN</td>\n",
              "      <td>NaN</td>\n",
              "    </tr>\n",
              "  </tbody>\n",
              "</table>\n",
              "</div>"
            ],
            "text/plain": [
              "    Id                        Email  ... uniquePhone  uniqueOrder\n",
              "13  13  YsKhkKGJoQSNniHcr@yahoo.com  ...     41795.0       6472.0\n",
              "17  17  TNaMorNIWCJARsXlg@gmail.com  ...      4818.0          NaN\n",
              "22  22      FoaGWGbpnlvizkIG@qq.com  ...     22786.0          NaN\n",
              "28  28        MbjTCmxpcqf@yahoo.com  ...         NaN       4863.0\n",
              "42  42         VbaKKxkCzo@yahoo.com  ...         NaN          NaN\n",
              "\n",
              "[5 rows x 8 columns]"
            ]
          },
          "metadata": {
            "tags": []
          },
          "execution_count": 31
        }
      ]
    },
    {
      "cell_type": "code",
      "metadata": {
        "id": "tye1uukPgXaj"
      },
      "source": [
        "# duplicatedContacts = allHaveSomething[allHaveSomething[['Email', 'Phone']].duplicated()]\r\n",
        "\r\n",
        "# print(len(duplicatedContacts))\r\n",
        "\r\n",
        "# duplicatedContacts.head()"
      ],
      "execution_count": null,
      "outputs": []
    },
    {
      "cell_type": "code",
      "metadata": {
        "colab": {
          "base_uri": "https://localhost:8080/",
          "height": 424
        },
        "id": "lEzDZxpujf6r",
        "outputId": "358fb2ca-3b73-45f2-9038-b8899d64ac76"
      },
      "source": [
        "someDict = {'id':[], 'values':[]}\r\n",
        "\r\n",
        "haveEmail = df[df['uniqueEmail'].notna()]\r\n",
        "haveEmail"
      ],
      "execution_count": null,
      "outputs": [
        {
          "output_type": "execute_result",
          "data": {
            "text/html": [
              "<div>\n",
              "<style scoped>\n",
              "    .dataframe tbody tr th:only-of-type {\n",
              "        vertical-align: middle;\n",
              "    }\n",
              "\n",
              "    .dataframe tbody tr th {\n",
              "        vertical-align: top;\n",
              "    }\n",
              "\n",
              "    .dataframe thead th {\n",
              "        text-align: right;\n",
              "    }\n",
              "</style>\n",
              "<table border=\"1\" class=\"dataframe\">\n",
              "  <thead>\n",
              "    <tr style=\"text-align: right;\">\n",
              "      <th></th>\n",
              "      <th>Id</th>\n",
              "      <th>Email</th>\n",
              "      <th>Phone</th>\n",
              "      <th>Contacts</th>\n",
              "      <th>OrderId</th>\n",
              "      <th>uniqueEmail</th>\n",
              "      <th>uniquePhone</th>\n",
              "      <th>uniqueOrder</th>\n",
              "    </tr>\n",
              "  </thead>\n",
              "  <tbody>\n",
              "    <tr>\n",
              "      <th>6</th>\n",
              "      <td>6</td>\n",
              "      <td>hESiBgYTxMnj@hotmail.com</td>\n",
              "      <td></td>\n",
              "      <td>4</td>\n",
              "      <td></td>\n",
              "      <td>1534.0</td>\n",
              "      <td>NaN</td>\n",
              "      <td>NaN</td>\n",
              "    </tr>\n",
              "    <tr>\n",
              "      <th>11</th>\n",
              "      <td>11</td>\n",
              "      <td>QRamvop@qq.com</td>\n",
              "      <td></td>\n",
              "      <td>0</td>\n",
              "      <td></td>\n",
              "      <td>21243.0</td>\n",
              "      <td>NaN</td>\n",
              "      <td>NaN</td>\n",
              "    </tr>\n",
              "    <tr>\n",
              "      <th>12</th>\n",
              "      <td>12</td>\n",
              "      <td>QexYMLXc@qq.com</td>\n",
              "      <td></td>\n",
              "      <td>2</td>\n",
              "      <td></td>\n",
              "      <td>72608.0</td>\n",
              "      <td>NaN</td>\n",
              "      <td>NaN</td>\n",
              "    </tr>\n",
              "    <tr>\n",
              "      <th>13</th>\n",
              "      <td>13</td>\n",
              "      <td>YsKhkKGJoQSNniHcr@yahoo.com</td>\n",
              "      <td>562300766</td>\n",
              "      <td>1</td>\n",
              "      <td>IqewrMXVTJqSsVklWFfOpdRNI</td>\n",
              "      <td>66585.0</td>\n",
              "      <td>41795.0</td>\n",
              "      <td>6472.0</td>\n",
              "    </tr>\n",
              "    <tr>\n",
              "      <th>19</th>\n",
              "      <td>19</td>\n",
              "      <td>OPDjDybln@qq.com</td>\n",
              "      <td></td>\n",
              "      <td>1</td>\n",
              "      <td>hmEXuNUPZQyefHErmzjGbeeFK</td>\n",
              "      <td>32504.0</td>\n",
              "      <td>NaN</td>\n",
              "      <td>NaN</td>\n",
              "    </tr>\n",
              "    <tr>\n",
              "      <th>...</th>\n",
              "      <td>...</td>\n",
              "      <td>...</td>\n",
              "      <td>...</td>\n",
              "      <td>...</td>\n",
              "      <td>...</td>\n",
              "      <td>...</td>\n",
              "      <td>...</td>\n",
              "      <td>...</td>\n",
              "    </tr>\n",
              "    <tr>\n",
              "      <th>499983</th>\n",
              "      <td>499983</td>\n",
              "      <td>yfOKHQhkAq@gmail.com</td>\n",
              "      <td></td>\n",
              "      <td>3</td>\n",
              "      <td>ndcdydsYYySRRCynVONPqpASu</td>\n",
              "      <td>1877.0</td>\n",
              "      <td>NaN</td>\n",
              "      <td>6910.0</td>\n",
              "    </tr>\n",
              "    <tr>\n",
              "      <th>499985</th>\n",
              "      <td>499985</td>\n",
              "      <td>rOOnGdOP@yahoo.com</td>\n",
              "      <td></td>\n",
              "      <td>1</td>\n",
              "      <td>oecSmhdXNqUWkfDLRjGHdxPLC</td>\n",
              "      <td>40530.0</td>\n",
              "      <td>NaN</td>\n",
              "      <td>19205.0</td>\n",
              "    </tr>\n",
              "    <tr>\n",
              "      <th>499987</th>\n",
              "      <td>499987</td>\n",
              "      <td>xuhUoLwdWXuJJKegS@qq.com</td>\n",
              "      <td>446129159</td>\n",
              "      <td>4</td>\n",
              "      <td>iJXybgcaYcVSUIaFPxUnUjxVA</td>\n",
              "      <td>12590.0</td>\n",
              "      <td>34481.0</td>\n",
              "      <td>NaN</td>\n",
              "    </tr>\n",
              "    <tr>\n",
              "      <th>499988</th>\n",
              "      <td>499988</td>\n",
              "      <td>qJXiiwTMjRjIYe@hotmail.com</td>\n",
              "      <td></td>\n",
              "      <td>1</td>\n",
              "      <td>AveIKdquxHFgCrNqPaihhCNGf</td>\n",
              "      <td>10846.0</td>\n",
              "      <td>NaN</td>\n",
              "      <td>NaN</td>\n",
              "    </tr>\n",
              "    <tr>\n",
              "      <th>499989</th>\n",
              "      <td>499989</td>\n",
              "      <td>BvqHOhvgL@qq.com</td>\n",
              "      <td></td>\n",
              "      <td>3</td>\n",
              "      <td>FAnuKqMMcznzQcHcDjprAgdOv</td>\n",
              "      <td>10675.0</td>\n",
              "      <td>NaN</td>\n",
              "      <td>NaN</td>\n",
              "    </tr>\n",
              "  </tbody>\n",
              "</table>\n",
              "<p>177275 rows × 8 columns</p>\n",
              "</div>"
            ],
            "text/plain": [
              "            Id                        Email  ... uniquePhone  uniqueOrder\n",
              "6            6     hESiBgYTxMnj@hotmail.com  ...         NaN          NaN\n",
              "11          11               QRamvop@qq.com  ...         NaN          NaN\n",
              "12          12              QexYMLXc@qq.com  ...         NaN          NaN\n",
              "13          13  YsKhkKGJoQSNniHcr@yahoo.com  ...     41795.0       6472.0\n",
              "19          19             OPDjDybln@qq.com  ...         NaN          NaN\n",
              "...        ...                          ...  ...         ...          ...\n",
              "499983  499983         yfOKHQhkAq@gmail.com  ...         NaN       6910.0\n",
              "499985  499985           rOOnGdOP@yahoo.com  ...         NaN      19205.0\n",
              "499987  499987     xuhUoLwdWXuJJKegS@qq.com  ...     34481.0          NaN\n",
              "499988  499988   qJXiiwTMjRjIYe@hotmail.com  ...         NaN          NaN\n",
              "499989  499989             BvqHOhvgL@qq.com  ...         NaN          NaN\n",
              "\n",
              "[177275 rows x 8 columns]"
            ]
          },
          "metadata": {
            "tags": []
          },
          "execution_count": 33
        }
      ]
    },
    {
      "cell_type": "code",
      "metadata": {
        "colab": {
          "base_uri": "https://localhost:8080/",
          "height": 300
        },
        "id": "lRlWvailmGlp",
        "outputId": "415f0571-0982-494b-cb83-bbdbf5b56e83"
      },
      "source": [
        "haveEmail[haveEmail['uniqueEmail'] == 1]"
      ],
      "execution_count": null,
      "outputs": [
        {
          "output_type": "execute_result",
          "data": {
            "text/html": [
              "<div>\n",
              "<style scoped>\n",
              "    .dataframe tbody tr th:only-of-type {\n",
              "        vertical-align: middle;\n",
              "    }\n",
              "\n",
              "    .dataframe tbody tr th {\n",
              "        vertical-align: top;\n",
              "    }\n",
              "\n",
              "    .dataframe thead th {\n",
              "        text-align: right;\n",
              "    }\n",
              "</style>\n",
              "<table border=\"1\" class=\"dataframe\">\n",
              "  <thead>\n",
              "    <tr style=\"text-align: right;\">\n",
              "      <th></th>\n",
              "      <th>Id</th>\n",
              "      <th>Email</th>\n",
              "      <th>Phone</th>\n",
              "      <th>Contacts</th>\n",
              "      <th>OrderId</th>\n",
              "      <th>uniqueEmail</th>\n",
              "      <th>uniquePhone</th>\n",
              "      <th>uniqueOrder</th>\n",
              "    </tr>\n",
              "  </thead>\n",
              "  <tbody>\n",
              "    <tr>\n",
              "      <th>15814</th>\n",
              "      <td>15814</td>\n",
              "      <td>joeiBlUUXIEsEBHp@yahoo.com</td>\n",
              "      <td></td>\n",
              "      <td>2</td>\n",
              "      <td></td>\n",
              "      <td>1.0</td>\n",
              "      <td>NaN</td>\n",
              "      <td>NaN</td>\n",
              "    </tr>\n",
              "    <tr>\n",
              "      <th>36831</th>\n",
              "      <td>36831</td>\n",
              "      <td>joeiBlUUXIEsEBHp@yahoo.com</td>\n",
              "      <td></td>\n",
              "      <td>3</td>\n",
              "      <td></td>\n",
              "      <td>1.0</td>\n",
              "      <td>NaN</td>\n",
              "      <td>NaN</td>\n",
              "    </tr>\n",
              "    <tr>\n",
              "      <th>94850</th>\n",
              "      <td>94850</td>\n",
              "      <td>joeiBlUUXIEsEBHp@yahoo.com</td>\n",
              "      <td>430504296188</td>\n",
              "      <td>1</td>\n",
              "      <td>ODfhyeDpJvdCOpqGOYZGHozSg</td>\n",
              "      <td>1.0</td>\n",
              "      <td>37982.0</td>\n",
              "      <td>NaN</td>\n",
              "    </tr>\n",
              "    <tr>\n",
              "      <th>119674</th>\n",
              "      <td>119674</td>\n",
              "      <td>joeiBlUUXIEsEBHp@yahoo.com</td>\n",
              "      <td></td>\n",
              "      <td>1</td>\n",
              "      <td></td>\n",
              "      <td>1.0</td>\n",
              "      <td>NaN</td>\n",
              "      <td>NaN</td>\n",
              "    </tr>\n",
              "    <tr>\n",
              "      <th>148588</th>\n",
              "      <td>148588</td>\n",
              "      <td>joeiBlUUXIEsEBHp@yahoo.com</td>\n",
              "      <td></td>\n",
              "      <td>2</td>\n",
              "      <td></td>\n",
              "      <td>1.0</td>\n",
              "      <td>NaN</td>\n",
              "      <td>NaN</td>\n",
              "    </tr>\n",
              "    <tr>\n",
              "      <th>154506</th>\n",
              "      <td>154506</td>\n",
              "      <td>joeiBlUUXIEsEBHp@yahoo.com</td>\n",
              "      <td></td>\n",
              "      <td>0</td>\n",
              "      <td>kejtyRdjpHDHWaFPzmqLTXdfi</td>\n",
              "      <td>1.0</td>\n",
              "      <td>NaN</td>\n",
              "      <td>NaN</td>\n",
              "    </tr>\n",
              "    <tr>\n",
              "      <th>166966</th>\n",
              "      <td>166966</td>\n",
              "      <td>joeiBlUUXIEsEBHp@yahoo.com</td>\n",
              "      <td>0910417299</td>\n",
              "      <td>1</td>\n",
              "      <td>xfUsebgXVXgDTGgKvUuMrGAZy</td>\n",
              "      <td>1.0</td>\n",
              "      <td>NaN</td>\n",
              "      <td>NaN</td>\n",
              "    </tr>\n",
              "    <tr>\n",
              "      <th>292880</th>\n",
              "      <td>292880</td>\n",
              "      <td>joeiBlUUXIEsEBHp@yahoo.com</td>\n",
              "      <td></td>\n",
              "      <td>3</td>\n",
              "      <td></td>\n",
              "      <td>1.0</td>\n",
              "      <td>NaN</td>\n",
              "      <td>NaN</td>\n",
              "    </tr>\n",
              "  </tbody>\n",
              "</table>\n",
              "</div>"
            ],
            "text/plain": [
              "            Id                       Email  ... uniquePhone  uniqueOrder\n",
              "15814    15814  joeiBlUUXIEsEBHp@yahoo.com  ...         NaN          NaN\n",
              "36831    36831  joeiBlUUXIEsEBHp@yahoo.com  ...         NaN          NaN\n",
              "94850    94850  joeiBlUUXIEsEBHp@yahoo.com  ...     37982.0          NaN\n",
              "119674  119674  joeiBlUUXIEsEBHp@yahoo.com  ...         NaN          NaN\n",
              "148588  148588  joeiBlUUXIEsEBHp@yahoo.com  ...         NaN          NaN\n",
              "154506  154506  joeiBlUUXIEsEBHp@yahoo.com  ...         NaN          NaN\n",
              "166966  166966  joeiBlUUXIEsEBHp@yahoo.com  ...         NaN          NaN\n",
              "292880  292880  joeiBlUUXIEsEBHp@yahoo.com  ...         NaN          NaN\n",
              "\n",
              "[8 rows x 8 columns]"
            ]
          },
          "metadata": {
            "tags": []
          },
          "execution_count": 34
        }
      ]
    },
    {
      "cell_type": "code",
      "metadata": {
        "id": "lkMJja2zhVSn"
      },
      "source": [
        "someDict = {'Id':[], 'Group':[]}\r\n",
        "\r\n",
        "d = dict(haveEmail.groupby(['uniqueEmail']).groups)\r\n",
        "\r\n",
        "for i in d:\r\n",
        "  someDict['Group'].append(i)\r\n",
        "  someDict['Id'].append(d[i])"
      ],
      "execution_count": null,
      "outputs": []
    },
    {
      "cell_type": "code",
      "metadata": {
        "colab": {
          "base_uri": "https://localhost:8080/",
          "height": 424
        },
        "id": "fOROE0OdmoM-",
        "outputId": "5851ab34-13ba-41ad-ed04-82123936f77e"
      },
      "source": [
        "wanted = pd.DataFrame.from_dict(someDict)\r\n",
        "wanted['Id'] = wanted['Id'].astype(str).apply(lambda x: x[12:-17])\r\n",
        "\r\n",
        "wanted['Id'] = wanted['Id'].apply(lambda x: x.split(', '))\r\n",
        "\r\n",
        "wanted"
      ],
      "execution_count": null,
      "outputs": [
        {
          "output_type": "execute_result",
          "data": {
            "text/html": [
              "<div>\n",
              "<style scoped>\n",
              "    .dataframe tbody tr th:only-of-type {\n",
              "        vertical-align: middle;\n",
              "    }\n",
              "\n",
              "    .dataframe tbody tr th {\n",
              "        vertical-align: top;\n",
              "    }\n",
              "\n",
              "    .dataframe thead th {\n",
              "        text-align: right;\n",
              "    }\n",
              "</style>\n",
              "<table border=\"1\" class=\"dataframe\">\n",
              "  <thead>\n",
              "    <tr style=\"text-align: right;\">\n",
              "      <th></th>\n",
              "      <th>Id</th>\n",
              "      <th>Group</th>\n",
              "    </tr>\n",
              "  </thead>\n",
              "  <tbody>\n",
              "    <tr>\n",
              "      <th>0</th>\n",
              "      <td>[15814, 36831, 94850, 119674, 148588, 154506, ...</td>\n",
              "      <td>1.0</td>\n",
              "    </tr>\n",
              "    <tr>\n",
              "      <th>1</th>\n",
              "      <td>[4559, 8296, 197516, 341483, 374714, 386392, 4...</td>\n",
              "      <td>2.0</td>\n",
              "    </tr>\n",
              "    <tr>\n",
              "      <th>2</th>\n",
              "      <td>[66857, 284997, 309925, 330381, 394885, 488105...</td>\n",
              "      <td>3.0</td>\n",
              "    </tr>\n",
              "    <tr>\n",
              "      <th>3</th>\n",
              "      <td>[25147, 34516, 170746, 237213, 337936, 439161,...</td>\n",
              "      <td>4.0</td>\n",
              "    </tr>\n",
              "    <tr>\n",
              "      <th>4</th>\n",
              "      <td>[52737, 164383, 219610, 245511, 287018, 367081]</td>\n",
              "      <td>5.0</td>\n",
              "    </tr>\n",
              "    <tr>\n",
              "      <th>...</th>\n",
              "      <td>...</td>\n",
              "      <td>...</td>\n",
              "    </tr>\n",
              "    <tr>\n",
              "      <th>77820</th>\n",
              "      <td>[149668, 367739]</td>\n",
              "      <td>77821.0</td>\n",
              "    </tr>\n",
              "    <tr>\n",
              "      <th>77821</th>\n",
              "      <td>[292571, 460240]</td>\n",
              "      <td>77822.0</td>\n",
              "    </tr>\n",
              "    <tr>\n",
              "      <th>77822</th>\n",
              "      <td>[196751, 199460]</td>\n",
              "      <td>77823.0</td>\n",
              "    </tr>\n",
              "    <tr>\n",
              "      <th>77823</th>\n",
              "      <td>[280661, 339812]</td>\n",
              "      <td>77824.0</td>\n",
              "    </tr>\n",
              "    <tr>\n",
              "      <th>77824</th>\n",
              "      <td>[24002, 329375]</td>\n",
              "      <td>77825.0</td>\n",
              "    </tr>\n",
              "  </tbody>\n",
              "</table>\n",
              "<p>77825 rows × 2 columns</p>\n",
              "</div>"
            ],
            "text/plain": [
              "                                                      Id    Group\n",
              "0      [15814, 36831, 94850, 119674, 148588, 154506, ...      1.0\n",
              "1      [4559, 8296, 197516, 341483, 374714, 386392, 4...      2.0\n",
              "2      [66857, 284997, 309925, 330381, 394885, 488105...      3.0\n",
              "3      [25147, 34516, 170746, 237213, 337936, 439161,...      4.0\n",
              "4        [52737, 164383, 219610, 245511, 287018, 367081]      5.0\n",
              "...                                                  ...      ...\n",
              "77820                                   [149668, 367739]  77821.0\n",
              "77821                                   [292571, 460240]  77822.0\n",
              "77822                                   [196751, 199460]  77823.0\n",
              "77823                                   [280661, 339812]  77824.0\n",
              "77824                                    [24002, 329375]  77825.0\n",
              "\n",
              "[77825 rows x 2 columns]"
            ]
          },
          "metadata": {
            "tags": []
          },
          "execution_count": 36
        }
      ]
    },
    {
      "cell_type": "code",
      "metadata": {
        "colab": {
          "base_uri": "https://localhost:8080/"
        },
        "id": "2QCHfXxTs-IB",
        "outputId": "e8182bfb-62c2-4b46-9aa2-147c6f4f8aac"
      },
      "source": [
        "wanted.loc[0]['Id']"
      ],
      "execution_count": null,
      "outputs": [
        {
          "output_type": "execute_result",
          "data": {
            "text/plain": [
              "['15814', '36831', '94850', '119674', '148588', '154506', '166966', '292880']"
            ]
          },
          "metadata": {
            "tags": []
          },
          "execution_count": 37
        }
      ]
    },
    {
      "cell_type": "code",
      "metadata": {
        "colab": {
          "base_uri": "https://localhost:8080/",
          "height": 424
        },
        "id": "4HhoVzQxqLYO",
        "outputId": "469b6b12-4980-408e-8464-e6d3eb479c99"
      },
      "source": [
        "workOnthis = theRest[theRest['uniqueEmail'].isnull()]\r\n",
        "workOnthis = workOnthis[workOnthis['Phone'].str.len() >= 1]\r\n",
        "workOnthis = workOnthis[workOnthis['uniquePhone'].notna()]\r\n",
        "workOnthis"
      ],
      "execution_count": null,
      "outputs": [
        {
          "output_type": "execute_result",
          "data": {
            "text/html": [
              "<div>\n",
              "<style scoped>\n",
              "    .dataframe tbody tr th:only-of-type {\n",
              "        vertical-align: middle;\n",
              "    }\n",
              "\n",
              "    .dataframe tbody tr th {\n",
              "        vertical-align: top;\n",
              "    }\n",
              "\n",
              "    .dataframe thead th {\n",
              "        text-align: right;\n",
              "    }\n",
              "</style>\n",
              "<table border=\"1\" class=\"dataframe\">\n",
              "  <thead>\n",
              "    <tr style=\"text-align: right;\">\n",
              "      <th></th>\n",
              "      <th>Id</th>\n",
              "      <th>Email</th>\n",
              "      <th>Phone</th>\n",
              "      <th>Contacts</th>\n",
              "      <th>OrderId</th>\n",
              "      <th>uniqueEmail</th>\n",
              "      <th>uniquePhone</th>\n",
              "      <th>uniqueOrder</th>\n",
              "    </tr>\n",
              "  </thead>\n",
              "  <tbody>\n",
              "    <tr>\n",
              "      <th>2</th>\n",
              "      <td>2</td>\n",
              "      <td></td>\n",
              "      <td>9125983679</td>\n",
              "      <td>0</td>\n",
              "      <td></td>\n",
              "      <td>NaN</td>\n",
              "      <td>13929.0</td>\n",
              "      <td>NaN</td>\n",
              "    </tr>\n",
              "    <tr>\n",
              "      <th>5</th>\n",
              "      <td>5</td>\n",
              "      <td></td>\n",
              "      <td>840113148</td>\n",
              "      <td>0</td>\n",
              "      <td></td>\n",
              "      <td>NaN</td>\n",
              "      <td>40765.0</td>\n",
              "      <td>NaN</td>\n",
              "    </tr>\n",
              "    <tr>\n",
              "      <th>8</th>\n",
              "      <td>8</td>\n",
              "      <td>XGUjcSiDpFKWEUCs@qq.com</td>\n",
              "      <td>223604620644</td>\n",
              "      <td>2</td>\n",
              "      <td></td>\n",
              "      <td>NaN</td>\n",
              "      <td>38570.0</td>\n",
              "      <td>NaN</td>\n",
              "    </tr>\n",
              "    <tr>\n",
              "      <th>10</th>\n",
              "      <td>10</td>\n",
              "      <td></td>\n",
              "      <td>918973512631</td>\n",
              "      <td>3</td>\n",
              "      <td>OHRFAXqbAzyxljoUDaOErwtrg</td>\n",
              "      <td>NaN</td>\n",
              "      <td>41771.0</td>\n",
              "      <td>NaN</td>\n",
              "    </tr>\n",
              "    <tr>\n",
              "      <th>14</th>\n",
              "      <td>14</td>\n",
              "      <td></td>\n",
              "      <td>17423803380</td>\n",
              "      <td>4</td>\n",
              "      <td></td>\n",
              "      <td>NaN</td>\n",
              "      <td>9650.0</td>\n",
              "      <td>NaN</td>\n",
              "    </tr>\n",
              "    <tr>\n",
              "      <th>...</th>\n",
              "      <td>...</td>\n",
              "      <td>...</td>\n",
              "      <td>...</td>\n",
              "      <td>...</td>\n",
              "      <td>...</td>\n",
              "      <td>...</td>\n",
              "      <td>...</td>\n",
              "      <td>...</td>\n",
              "    </tr>\n",
              "    <tr>\n",
              "      <th>499966</th>\n",
              "      <td>499966</td>\n",
              "      <td></td>\n",
              "      <td>071207458</td>\n",
              "      <td>1</td>\n",
              "      <td>RXEGTtpjNBnDqJurhKIJIbIJS</td>\n",
              "      <td>NaN</td>\n",
              "      <td>30450.0</td>\n",
              "      <td>37815.0</td>\n",
              "    </tr>\n",
              "    <tr>\n",
              "      <th>499967</th>\n",
              "      <td>499967</td>\n",
              "      <td>XwIwJYOoLgjpHaH@gmail.com</td>\n",
              "      <td>26815611861</td>\n",
              "      <td>0</td>\n",
              "      <td></td>\n",
              "      <td>NaN</td>\n",
              "      <td>9224.0</td>\n",
              "      <td>NaN</td>\n",
              "    </tr>\n",
              "    <tr>\n",
              "      <th>499977</th>\n",
              "      <td>499977</td>\n",
              "      <td></td>\n",
              "      <td>257019949</td>\n",
              "      <td>3</td>\n",
              "      <td></td>\n",
              "      <td>NaN</td>\n",
              "      <td>452.0</td>\n",
              "      <td>NaN</td>\n",
              "    </tr>\n",
              "    <tr>\n",
              "      <th>499979</th>\n",
              "      <td>499979</td>\n",
              "      <td></td>\n",
              "      <td>751437990358</td>\n",
              "      <td>2</td>\n",
              "      <td></td>\n",
              "      <td>NaN</td>\n",
              "      <td>10584.0</td>\n",
              "      <td>NaN</td>\n",
              "    </tr>\n",
              "    <tr>\n",
              "      <th>499986</th>\n",
              "      <td>499986</td>\n",
              "      <td>zxSchUrACg@gmail.com</td>\n",
              "      <td>020160786</td>\n",
              "      <td>1</td>\n",
              "      <td></td>\n",
              "      <td>NaN</td>\n",
              "      <td>11001.0</td>\n",
              "      <td>NaN</td>\n",
              "    </tr>\n",
              "  </tbody>\n",
              "</table>\n",
              "<p>78630 rows × 8 columns</p>\n",
              "</div>"
            ],
            "text/plain": [
              "            Id                      Email  ... uniquePhone  uniqueOrder\n",
              "2            2                             ...     13929.0          NaN\n",
              "5            5                             ...     40765.0          NaN\n",
              "8            8    XGUjcSiDpFKWEUCs@qq.com  ...     38570.0          NaN\n",
              "10          10                             ...     41771.0          NaN\n",
              "14          14                             ...      9650.0          NaN\n",
              "...        ...                        ...  ...         ...          ...\n",
              "499966  499966                             ...     30450.0      37815.0\n",
              "499967  499967  XwIwJYOoLgjpHaH@gmail.com  ...      9224.0          NaN\n",
              "499977  499977                             ...       452.0          NaN\n",
              "499979  499979                             ...     10584.0          NaN\n",
              "499986  499986       zxSchUrACg@gmail.com  ...     11001.0          NaN\n",
              "\n",
              "[78630 rows x 8 columns]"
            ]
          },
          "metadata": {
            "tags": []
          },
          "execution_count": 38
        }
      ]
    },
    {
      "cell_type": "code",
      "metadata": {
        "id": "QBb335b3qiHS"
      },
      "source": [
        "someDict2 = {'Id':[], 'Group':[]}\r\n",
        "\r\n",
        "d = dict(workOnthis.groupby(['uniquePhone']).groups)\r\n",
        "\r\n",
        "for i in d:\r\n",
        "  someDict2['Group'].append(i)\r\n",
        "  someDict2['Id'].append(d[i])"
      ],
      "execution_count": null,
      "outputs": []
    },
    {
      "cell_type": "code",
      "metadata": {
        "colab": {
          "base_uri": "https://localhost:8080/",
          "height": 424
        },
        "id": "GYT_Vml-qZgg",
        "outputId": "a6bfb4a6-94c9-4df0-9f1b-e2527ade0af7"
      },
      "source": [
        "wanted2 = pd.DataFrame.from_dict(someDict2)\r\n",
        "wanted2['Id'] = wanted2['Id'].astype(str).apply(lambda x: x[12:-17])\r\n",
        "\r\n",
        "wanted2['Id'] = wanted2['Id'].apply(lambda x: x.split(', '))\r\n",
        "\r\n",
        "wanted2"
      ],
      "execution_count": null,
      "outputs": [
        {
          "output_type": "execute_result",
          "data": {
            "text/html": [
              "<div>\n",
              "<style scoped>\n",
              "    .dataframe tbody tr th:only-of-type {\n",
              "        vertical-align: middle;\n",
              "    }\n",
              "\n",
              "    .dataframe tbody tr th {\n",
              "        vertical-align: top;\n",
              "    }\n",
              "\n",
              "    .dataframe thead th {\n",
              "        text-align: right;\n",
              "    }\n",
              "</style>\n",
              "<table border=\"1\" class=\"dataframe\">\n",
              "  <thead>\n",
              "    <tr style=\"text-align: right;\">\n",
              "      <th></th>\n",
              "      <th>Id</th>\n",
              "      <th>Group</th>\n",
              "    </tr>\n",
              "  </thead>\n",
              "  <tbody>\n",
              "    <tr>\n",
              "      <th>0</th>\n",
              "      <td>[94800, 99146, 111914, 339228, 393215]</td>\n",
              "      <td>1.0</td>\n",
              "    </tr>\n",
              "    <tr>\n",
              "      <th>1</th>\n",
              "      <td>[1350, 82427, 129272, 397285, 414526]</td>\n",
              "      <td>2.0</td>\n",
              "    </tr>\n",
              "    <tr>\n",
              "      <th>2</th>\n",
              "      <td>[175684, 416447]</td>\n",
              "      <td>3.0</td>\n",
              "    </tr>\n",
              "    <tr>\n",
              "      <th>3</th>\n",
              "      <td>[92615, 116229, 200105, 322686, 429544]</td>\n",
              "      <td>4.0</td>\n",
              "    </tr>\n",
              "    <tr>\n",
              "      <th>4</th>\n",
              "      <td>[169571, 188696, 278071, 427396, 496972]</td>\n",
              "      <td>5.0</td>\n",
              "    </tr>\n",
              "    <tr>\n",
              "      <th>...</th>\n",
              "      <td>...</td>\n",
              "      <td>...</td>\n",
              "    </tr>\n",
              "    <tr>\n",
              "      <th>43491</th>\n",
              "      <td>[84096, 247008]</td>\n",
              "      <td>45140.0</td>\n",
              "    </tr>\n",
              "    <tr>\n",
              "      <th>43492</th>\n",
              "      <td>[169621, 288981]</td>\n",
              "      <td>45141.0</td>\n",
              "    </tr>\n",
              "    <tr>\n",
              "      <th>43493</th>\n",
              "      <td>[883]</td>\n",
              "      <td>45142.0</td>\n",
              "    </tr>\n",
              "    <tr>\n",
              "      <th>43494</th>\n",
              "      <td>[156622, 388124]</td>\n",
              "      <td>45143.0</td>\n",
              "    </tr>\n",
              "    <tr>\n",
              "      <th>43495</th>\n",
              "      <td>[183595, 361451]</td>\n",
              "      <td>45144.0</td>\n",
              "    </tr>\n",
              "  </tbody>\n",
              "</table>\n",
              "<p>43496 rows × 2 columns</p>\n",
              "</div>"
            ],
            "text/plain": [
              "                                             Id    Group\n",
              "0        [94800, 99146, 111914, 339228, 393215]      1.0\n",
              "1         [1350, 82427, 129272, 397285, 414526]      2.0\n",
              "2                              [175684, 416447]      3.0\n",
              "3       [92615, 116229, 200105, 322686, 429544]      4.0\n",
              "4      [169571, 188696, 278071, 427396, 496972]      5.0\n",
              "...                                         ...      ...\n",
              "43491                           [84096, 247008]  45140.0\n",
              "43492                          [169621, 288981]  45141.0\n",
              "43493                                     [883]  45142.0\n",
              "43494                          [156622, 388124]  45143.0\n",
              "43495                          [183595, 361451]  45144.0\n",
              "\n",
              "[43496 rows x 2 columns]"
            ]
          },
          "metadata": {
            "tags": []
          },
          "execution_count": 40
        }
      ]
    },
    {
      "cell_type": "markdown",
      "metadata": {
        "id": "xi_kUeFSdtUu"
      },
      "source": [
        "# These rows have no other tickets"
      ]
    },
    {
      "cell_type": "code",
      "metadata": {
        "colab": {
          "base_uri": "https://localhost:8080/",
          "height": 224
        },
        "id": "97lLody_Yer9",
        "outputId": "529a20b1-1382-4c25-bf30-a74aa9801b4d"
      },
      "source": [
        "noOthers = df[(df['uniqueEmail'].isnull()) & df['uniquePhone'].isnull() & df['uniqueOrder'].isnull()]\r\n",
        "copied = noOthers.copy()\r\n",
        "noOthers = pd.DataFrame(noOthers['Id'])\r\n",
        "noOthers['ticket_trace/contact'] = copied['Id'].astype(str) + ', ' + copied['Contacts'].astype(str)\r\n",
        "\r\n",
        "print(len(noOthers))\r\n",
        "\r\n",
        "noOthers.head()"
      ],
      "execution_count": null,
      "outputs": [
        {
          "output_type": "stream",
          "text": [
            "195808\n"
          ],
          "name": "stdout"
        },
        {
          "output_type": "execute_result",
          "data": {
            "text/html": [
              "<div>\n",
              "<style scoped>\n",
              "    .dataframe tbody tr th:only-of-type {\n",
              "        vertical-align: middle;\n",
              "    }\n",
              "\n",
              "    .dataframe tbody tr th {\n",
              "        vertical-align: top;\n",
              "    }\n",
              "\n",
              "    .dataframe thead th {\n",
              "        text-align: right;\n",
              "    }\n",
              "</style>\n",
              "<table border=\"1\" class=\"dataframe\">\n",
              "  <thead>\n",
              "    <tr style=\"text-align: right;\">\n",
              "      <th></th>\n",
              "      <th>Id</th>\n",
              "      <th>ticket_trace/contact</th>\n",
              "    </tr>\n",
              "  </thead>\n",
              "  <tbody>\n",
              "    <tr>\n",
              "      <th>0</th>\n",
              "      <td>0</td>\n",
              "      <td>0, 1</td>\n",
              "    </tr>\n",
              "    <tr>\n",
              "      <th>3</th>\n",
              "      <td>3</td>\n",
              "      <td>3, 0</td>\n",
              "    </tr>\n",
              "    <tr>\n",
              "      <th>4</th>\n",
              "      <td>4</td>\n",
              "      <td>4, 2</td>\n",
              "    </tr>\n",
              "    <tr>\n",
              "      <th>7</th>\n",
              "      <td>7</td>\n",
              "      <td>7, 1</td>\n",
              "    </tr>\n",
              "    <tr>\n",
              "      <th>16</th>\n",
              "      <td>16</td>\n",
              "      <td>16, 0</td>\n",
              "    </tr>\n",
              "  </tbody>\n",
              "</table>\n",
              "</div>"
            ],
            "text/plain": [
              "    Id ticket_trace/contact\n",
              "0    0                 0, 1\n",
              "3    3                 3, 0\n",
              "4    4                 4, 2\n",
              "7    7                 7, 1\n",
              "16  16                16, 0"
            ]
          },
          "metadata": {
            "tags": []
          },
          "execution_count": 41
        }
      ]
    },
    {
      "cell_type": "code",
      "metadata": {
        "colab": {
          "base_uri": "https://localhost:8080/",
          "height": 424
        },
        "id": "hLU1nORxuDwP",
        "outputId": "43d8e0d4-4fd3-4915-e1c3-8c6da97db432"
      },
      "source": [
        "copied"
      ],
      "execution_count": null,
      "outputs": [
        {
          "output_type": "execute_result",
          "data": {
            "text/html": [
              "<div>\n",
              "<style scoped>\n",
              "    .dataframe tbody tr th:only-of-type {\n",
              "        vertical-align: middle;\n",
              "    }\n",
              "\n",
              "    .dataframe tbody tr th {\n",
              "        vertical-align: top;\n",
              "    }\n",
              "\n",
              "    .dataframe thead th {\n",
              "        text-align: right;\n",
              "    }\n",
              "</style>\n",
              "<table border=\"1\" class=\"dataframe\">\n",
              "  <thead>\n",
              "    <tr style=\"text-align: right;\">\n",
              "      <th></th>\n",
              "      <th>Id</th>\n",
              "      <th>Email</th>\n",
              "      <th>Phone</th>\n",
              "      <th>Contacts</th>\n",
              "      <th>OrderId</th>\n",
              "      <th>uniqueEmail</th>\n",
              "      <th>uniquePhone</th>\n",
              "      <th>uniqueOrder</th>\n",
              "    </tr>\n",
              "  </thead>\n",
              "  <tbody>\n",
              "    <tr>\n",
              "      <th>0</th>\n",
              "      <td>0</td>\n",
              "      <td>gkzAbIy@qq.com</td>\n",
              "      <td></td>\n",
              "      <td>1</td>\n",
              "      <td></td>\n",
              "      <td>NaN</td>\n",
              "      <td>NaN</td>\n",
              "      <td>NaN</td>\n",
              "    </tr>\n",
              "    <tr>\n",
              "      <th>3</th>\n",
              "      <td>3</td>\n",
              "      <td>mdllpYmE@gmail.com</td>\n",
              "      <td></td>\n",
              "      <td>0</td>\n",
              "      <td>bHquEnCbbsGLqllwryxPsNOxa</td>\n",
              "      <td>NaN</td>\n",
              "      <td>NaN</td>\n",
              "      <td>NaN</td>\n",
              "    </tr>\n",
              "    <tr>\n",
              "      <th>4</th>\n",
              "      <td>4</td>\n",
              "      <td></td>\n",
              "      <td>300364407</td>\n",
              "      <td>2</td>\n",
              "      <td></td>\n",
              "      <td>NaN</td>\n",
              "      <td>NaN</td>\n",
              "      <td>NaN</td>\n",
              "    </tr>\n",
              "    <tr>\n",
              "      <th>7</th>\n",
              "      <td>7</td>\n",
              "      <td>hqyunTiaXfIjhO@yahoo.com</td>\n",
              "      <td></td>\n",
              "      <td>1</td>\n",
              "      <td>vxjYZtMUvNhtEBDruzQfjpsmX</td>\n",
              "      <td>NaN</td>\n",
              "      <td>NaN</td>\n",
              "      <td>NaN</td>\n",
              "    </tr>\n",
              "    <tr>\n",
              "      <th>16</th>\n",
              "      <td>16</td>\n",
              "      <td></td>\n",
              "      <td>8888238873</td>\n",
              "      <td>0</td>\n",
              "      <td></td>\n",
              "      <td>NaN</td>\n",
              "      <td>NaN</td>\n",
              "      <td>NaN</td>\n",
              "    </tr>\n",
              "    <tr>\n",
              "      <th>...</th>\n",
              "      <td>...</td>\n",
              "      <td>...</td>\n",
              "      <td>...</td>\n",
              "      <td>...</td>\n",
              "      <td>...</td>\n",
              "      <td>...</td>\n",
              "      <td>...</td>\n",
              "      <td>...</td>\n",
              "    </tr>\n",
              "    <tr>\n",
              "      <th>499993</th>\n",
              "      <td>499993</td>\n",
              "      <td>qXUQsYAv@yahoo.com</td>\n",
              "      <td></td>\n",
              "      <td>4</td>\n",
              "      <td>lByyLeHAiEctrjVSNHuMZBLgO</td>\n",
              "      <td>NaN</td>\n",
              "      <td>NaN</td>\n",
              "      <td>NaN</td>\n",
              "    </tr>\n",
              "    <tr>\n",
              "      <th>499995</th>\n",
              "      <td>499995</td>\n",
              "      <td></td>\n",
              "      <td>10072395382</td>\n",
              "      <td>2</td>\n",
              "      <td>whJlUOGNqjxCRzmIRdURQvlNv</td>\n",
              "      <td>NaN</td>\n",
              "      <td>NaN</td>\n",
              "      <td>NaN</td>\n",
              "    </tr>\n",
              "    <tr>\n",
              "      <th>499996</th>\n",
              "      <td>499996</td>\n",
              "      <td></td>\n",
              "      <td>571709661031</td>\n",
              "      <td>4</td>\n",
              "      <td>JqIXOONvrwvJxZqNxCYHqnrKS</td>\n",
              "      <td>NaN</td>\n",
              "      <td>NaN</td>\n",
              "      <td>NaN</td>\n",
              "    </tr>\n",
              "    <tr>\n",
              "      <th>499997</th>\n",
              "      <td>499997</td>\n",
              "      <td></td>\n",
              "      <td>4541459979</td>\n",
              "      <td>2</td>\n",
              "      <td>beXCZSzcHaBwAYoDcpQqjuAFO</td>\n",
              "      <td>NaN</td>\n",
              "      <td>NaN</td>\n",
              "      <td>NaN</td>\n",
              "    </tr>\n",
              "    <tr>\n",
              "      <th>499999</th>\n",
              "      <td>499999</td>\n",
              "      <td></td>\n",
              "      <td>880053388839</td>\n",
              "      <td>0</td>\n",
              "      <td>JibSBRgzYdfzkzbTuGUXrcvDX</td>\n",
              "      <td>NaN</td>\n",
              "      <td>NaN</td>\n",
              "      <td>NaN</td>\n",
              "    </tr>\n",
              "  </tbody>\n",
              "</table>\n",
              "<p>195808 rows × 8 columns</p>\n",
              "</div>"
            ],
            "text/plain": [
              "            Id                     Email  ... uniquePhone  uniqueOrder\n",
              "0            0            gkzAbIy@qq.com  ...         NaN          NaN\n",
              "3            3        mdllpYmE@gmail.com  ...         NaN          NaN\n",
              "4            4                            ...         NaN          NaN\n",
              "7            7  hqyunTiaXfIjhO@yahoo.com  ...         NaN          NaN\n",
              "16          16                            ...         NaN          NaN\n",
              "...        ...                       ...  ...         ...          ...\n",
              "499993  499993        qXUQsYAv@yahoo.com  ...         NaN          NaN\n",
              "499995  499995                            ...         NaN          NaN\n",
              "499996  499996                            ...         NaN          NaN\n",
              "499997  499997                            ...         NaN          NaN\n",
              "499999  499999                            ...         NaN          NaN\n",
              "\n",
              "[195808 rows x 8 columns]"
            ]
          },
          "metadata": {
            "tags": []
          },
          "execution_count": 42
        }
      ]
    },
    {
      "cell_type": "code",
      "metadata": {
        "id": "45nSjbMeeB4r"
      },
      "source": [
        "anotherDict = {'Id':[], 'values':[]}\r\n",
        "\r\n",
        "for i in wanted['Id']:\r\n",
        "  for j in i:\r\n",
        "    anotherDict['Id'].append(j)\r\n",
        "    anotherDict['values'].append(i)"
      ],
      "execution_count": null,
      "outputs": []
    },
    {
      "cell_type": "code",
      "metadata": {
        "colab": {
          "base_uri": "https://localhost:8080/",
          "height": 424
        },
        "id": "PjkC8Xp4wO1k",
        "outputId": "0c584949-e024-4e68-d553-2beade6ea6a6"
      },
      "source": [
        "haveEmail"
      ],
      "execution_count": null,
      "outputs": [
        {
          "output_type": "execute_result",
          "data": {
            "text/html": [
              "<div>\n",
              "<style scoped>\n",
              "    .dataframe tbody tr th:only-of-type {\n",
              "        vertical-align: middle;\n",
              "    }\n",
              "\n",
              "    .dataframe tbody tr th {\n",
              "        vertical-align: top;\n",
              "    }\n",
              "\n",
              "    .dataframe thead th {\n",
              "        text-align: right;\n",
              "    }\n",
              "</style>\n",
              "<table border=\"1\" class=\"dataframe\">\n",
              "  <thead>\n",
              "    <tr style=\"text-align: right;\">\n",
              "      <th></th>\n",
              "      <th>Id</th>\n",
              "      <th>Email</th>\n",
              "      <th>Phone</th>\n",
              "      <th>Contacts</th>\n",
              "      <th>OrderId</th>\n",
              "      <th>uniqueEmail</th>\n",
              "      <th>uniquePhone</th>\n",
              "      <th>uniqueOrder</th>\n",
              "    </tr>\n",
              "  </thead>\n",
              "  <tbody>\n",
              "    <tr>\n",
              "      <th>6</th>\n",
              "      <td>6</td>\n",
              "      <td>hESiBgYTxMnj@hotmail.com</td>\n",
              "      <td></td>\n",
              "      <td>4</td>\n",
              "      <td></td>\n",
              "      <td>1534.0</td>\n",
              "      <td>NaN</td>\n",
              "      <td>NaN</td>\n",
              "    </tr>\n",
              "    <tr>\n",
              "      <th>11</th>\n",
              "      <td>11</td>\n",
              "      <td>QRamvop@qq.com</td>\n",
              "      <td></td>\n",
              "      <td>0</td>\n",
              "      <td></td>\n",
              "      <td>21243.0</td>\n",
              "      <td>NaN</td>\n",
              "      <td>NaN</td>\n",
              "    </tr>\n",
              "    <tr>\n",
              "      <th>12</th>\n",
              "      <td>12</td>\n",
              "      <td>QexYMLXc@qq.com</td>\n",
              "      <td></td>\n",
              "      <td>2</td>\n",
              "      <td></td>\n",
              "      <td>72608.0</td>\n",
              "      <td>NaN</td>\n",
              "      <td>NaN</td>\n",
              "    </tr>\n",
              "    <tr>\n",
              "      <th>13</th>\n",
              "      <td>13</td>\n",
              "      <td>YsKhkKGJoQSNniHcr@yahoo.com</td>\n",
              "      <td>562300766</td>\n",
              "      <td>1</td>\n",
              "      <td>IqewrMXVTJqSsVklWFfOpdRNI</td>\n",
              "      <td>66585.0</td>\n",
              "      <td>41795.0</td>\n",
              "      <td>6472.0</td>\n",
              "    </tr>\n",
              "    <tr>\n",
              "      <th>19</th>\n",
              "      <td>19</td>\n",
              "      <td>OPDjDybln@qq.com</td>\n",
              "      <td></td>\n",
              "      <td>1</td>\n",
              "      <td>hmEXuNUPZQyefHErmzjGbeeFK</td>\n",
              "      <td>32504.0</td>\n",
              "      <td>NaN</td>\n",
              "      <td>NaN</td>\n",
              "    </tr>\n",
              "    <tr>\n",
              "      <th>...</th>\n",
              "      <td>...</td>\n",
              "      <td>...</td>\n",
              "      <td>...</td>\n",
              "      <td>...</td>\n",
              "      <td>...</td>\n",
              "      <td>...</td>\n",
              "      <td>...</td>\n",
              "      <td>...</td>\n",
              "    </tr>\n",
              "    <tr>\n",
              "      <th>499983</th>\n",
              "      <td>499983</td>\n",
              "      <td>yfOKHQhkAq@gmail.com</td>\n",
              "      <td></td>\n",
              "      <td>3</td>\n",
              "      <td>ndcdydsYYySRRCynVONPqpASu</td>\n",
              "      <td>1877.0</td>\n",
              "      <td>NaN</td>\n",
              "      <td>6910.0</td>\n",
              "    </tr>\n",
              "    <tr>\n",
              "      <th>499985</th>\n",
              "      <td>499985</td>\n",
              "      <td>rOOnGdOP@yahoo.com</td>\n",
              "      <td></td>\n",
              "      <td>1</td>\n",
              "      <td>oecSmhdXNqUWkfDLRjGHdxPLC</td>\n",
              "      <td>40530.0</td>\n",
              "      <td>NaN</td>\n",
              "      <td>19205.0</td>\n",
              "    </tr>\n",
              "    <tr>\n",
              "      <th>499987</th>\n",
              "      <td>499987</td>\n",
              "      <td>xuhUoLwdWXuJJKegS@qq.com</td>\n",
              "      <td>446129159</td>\n",
              "      <td>4</td>\n",
              "      <td>iJXybgcaYcVSUIaFPxUnUjxVA</td>\n",
              "      <td>12590.0</td>\n",
              "      <td>34481.0</td>\n",
              "      <td>NaN</td>\n",
              "    </tr>\n",
              "    <tr>\n",
              "      <th>499988</th>\n",
              "      <td>499988</td>\n",
              "      <td>qJXiiwTMjRjIYe@hotmail.com</td>\n",
              "      <td></td>\n",
              "      <td>1</td>\n",
              "      <td>AveIKdquxHFgCrNqPaihhCNGf</td>\n",
              "      <td>10846.0</td>\n",
              "      <td>NaN</td>\n",
              "      <td>NaN</td>\n",
              "    </tr>\n",
              "    <tr>\n",
              "      <th>499989</th>\n",
              "      <td>499989</td>\n",
              "      <td>BvqHOhvgL@qq.com</td>\n",
              "      <td></td>\n",
              "      <td>3</td>\n",
              "      <td>FAnuKqMMcznzQcHcDjprAgdOv</td>\n",
              "      <td>10675.0</td>\n",
              "      <td>NaN</td>\n",
              "      <td>NaN</td>\n",
              "    </tr>\n",
              "  </tbody>\n",
              "</table>\n",
              "<p>177275 rows × 8 columns</p>\n",
              "</div>"
            ],
            "text/plain": [
              "            Id                        Email  ... uniquePhone  uniqueOrder\n",
              "6            6     hESiBgYTxMnj@hotmail.com  ...         NaN          NaN\n",
              "11          11               QRamvop@qq.com  ...         NaN          NaN\n",
              "12          12              QexYMLXc@qq.com  ...         NaN          NaN\n",
              "13          13  YsKhkKGJoQSNniHcr@yahoo.com  ...     41795.0       6472.0\n",
              "19          19             OPDjDybln@qq.com  ...         NaN          NaN\n",
              "...        ...                          ...  ...         ...          ...\n",
              "499983  499983         yfOKHQhkAq@gmail.com  ...         NaN       6910.0\n",
              "499985  499985           rOOnGdOP@yahoo.com  ...         NaN      19205.0\n",
              "499987  499987     xuhUoLwdWXuJJKegS@qq.com  ...     34481.0          NaN\n",
              "499988  499988   qJXiiwTMjRjIYe@hotmail.com  ...         NaN          NaN\n",
              "499989  499989             BvqHOhvgL@qq.com  ...         NaN          NaN\n",
              "\n",
              "[177275 rows x 8 columns]"
            ]
          },
          "metadata": {
            "tags": []
          },
          "execution_count": 44
        }
      ]
    },
    {
      "cell_type": "code",
      "metadata": {
        "colab": {
          "base_uri": "https://localhost:8080/",
          "height": 424
        },
        "id": "0levcqBZcbQD",
        "outputId": "5df34360-e6f8-4199-ef2a-ed23b906ac86"
      },
      "source": [
        "withEmailOnly = pd.DataFrame.from_dict(anotherDict)\r\n",
        "withEmailOnly['Id'] = withEmailOnly['Id'].astype(int)\r\n",
        "withEmailOnly = withEmailOnly.sort_values(by=['Id'])\r\n",
        "\r\n",
        "withEmailOnly['ticket_trace/contact'] = withEmailOnly['values'].apply(lambda x: '-'.join(x))\r\n",
        "\r\n",
        "contacts = haveEmail['Contacts']\r\n",
        "\r\n",
        "withEmailOnly['ticket_trace/contact'] = withEmailOnly['ticket_trace/contact'] + ', ' + contacts.apply(lambda x:str(x)).values\r\n",
        "\r\n",
        "withEmailOnly"
      ],
      "execution_count": null,
      "outputs": [
        {
          "output_type": "execute_result",
          "data": {
            "text/html": [
              "<div>\n",
              "<style scoped>\n",
              "    .dataframe tbody tr th:only-of-type {\n",
              "        vertical-align: middle;\n",
              "    }\n",
              "\n",
              "    .dataframe tbody tr th {\n",
              "        vertical-align: top;\n",
              "    }\n",
              "\n",
              "    .dataframe thead th {\n",
              "        text-align: right;\n",
              "    }\n",
              "</style>\n",
              "<table border=\"1\" class=\"dataframe\">\n",
              "  <thead>\n",
              "    <tr style=\"text-align: right;\">\n",
              "      <th></th>\n",
              "      <th>Id</th>\n",
              "      <th>values</th>\n",
              "      <th>ticket_trace/contact</th>\n",
              "    </tr>\n",
              "  </thead>\n",
              "  <tbody>\n",
              "    <tr>\n",
              "      <th>6688</th>\n",
              "      <td>6</td>\n",
              "      <td>[6, 38, 32871, 142067]</td>\n",
              "      <td>6-38-32871-142067, 4</td>\n",
              "    </tr>\n",
              "    <tr>\n",
              "      <th>64109</th>\n",
              "      <td>11</td>\n",
              "      <td>[11, 244207]</td>\n",
              "      <td>11-244207, 0</td>\n",
              "    </tr>\n",
              "    <tr>\n",
              "      <th>166839</th>\n",
              "      <td>12</td>\n",
              "      <td>[12, 480595]</td>\n",
              "      <td>12-480595, 2</td>\n",
              "    </tr>\n",
              "    <tr>\n",
              "      <th>154793</th>\n",
              "      <td>13</td>\n",
              "      <td>[13, 417916]</td>\n",
              "      <td>13-417916, 1</td>\n",
              "    </tr>\n",
              "    <tr>\n",
              "      <th>86631</th>\n",
              "      <td>19</td>\n",
              "      <td>[19, 406780]</td>\n",
              "      <td>19-406780, 1</td>\n",
              "    </tr>\n",
              "    <tr>\n",
              "      <th>...</th>\n",
              "      <td>...</td>\n",
              "      <td>...</td>\n",
              "      <td>...</td>\n",
              "    </tr>\n",
              "    <tr>\n",
              "      <th>8063</th>\n",
              "      <td>499983</td>\n",
              "      <td>[230630, 306955, 404488, 499983]</td>\n",
              "      <td>230630-306955-404488-499983, 3</td>\n",
              "    </tr>\n",
              "    <tr>\n",
              "      <th>102684</th>\n",
              "      <td>499985</td>\n",
              "      <td>[116769, 499985]</td>\n",
              "      <td>116769-499985, 1</td>\n",
              "    </tr>\n",
              "    <tr>\n",
              "      <th>41499</th>\n",
              "      <td>499987</td>\n",
              "      <td>[142678, 143516, 499987]</td>\n",
              "      <td>142678-143516-499987, 4</td>\n",
              "    </tr>\n",
              "    <tr>\n",
              "      <th>36267</th>\n",
              "      <td>499988</td>\n",
              "      <td>[174008, 312839, 499988]</td>\n",
              "      <td>174008-312839-499988, 1</td>\n",
              "    </tr>\n",
              "    <tr>\n",
              "      <th>35754</th>\n",
              "      <td>499989</td>\n",
              "      <td>[388551, 448689, 499989]</td>\n",
              "      <td>388551-448689-499989, 3</td>\n",
              "    </tr>\n",
              "  </tbody>\n",
              "</table>\n",
              "<p>177275 rows × 3 columns</p>\n",
              "</div>"
            ],
            "text/plain": [
              "            Id  ...            ticket_trace/contact\n",
              "6688         6  ...            6-38-32871-142067, 4\n",
              "64109       11  ...                    11-244207, 0\n",
              "166839      12  ...                    12-480595, 2\n",
              "154793      13  ...                    13-417916, 1\n",
              "86631       19  ...                    19-406780, 1\n",
              "...        ...  ...                             ...\n",
              "8063    499983  ...  230630-306955-404488-499983, 3\n",
              "102684  499985  ...                116769-499985, 1\n",
              "41499   499987  ...         142678-143516-499987, 4\n",
              "36267   499988  ...         174008-312839-499988, 1\n",
              "35754   499989  ...         388551-448689-499989, 3\n",
              "\n",
              "[177275 rows x 3 columns]"
            ]
          },
          "metadata": {
            "tags": []
          },
          "execution_count": 45
        }
      ]
    },
    {
      "cell_type": "code",
      "metadata": {
        "id": "zFzRSWwqzt8X"
      },
      "source": [
        "anotherDict2 = {'Id':[], 'values':[]}\r\n",
        "\r\n",
        "for i in wanted2['Id']:\r\n",
        "  for j in i:\r\n",
        "    anotherDict2['Id'].append(j)\r\n",
        "    anotherDict2['values'].append(i)"
      ],
      "execution_count": null,
      "outputs": []
    },
    {
      "cell_type": "code",
      "metadata": {
        "colab": {
          "base_uri": "https://localhost:8080/",
          "height": 424
        },
        "id": "HX40rrOizt-J",
        "outputId": "c1e6f493-25c1-4751-a552-5ede97a1c9ae"
      },
      "source": [
        "withPhoneOnly = pd.DataFrame.from_dict(anotherDict2)\r\n",
        "withPhoneOnly['Id'] = withPhoneOnly['Id'].astype(int)\r\n",
        "withPhoneOnly = withPhoneOnly.sort_values(by=['Id'])\r\n",
        "\r\n",
        "withPhoneOnly['ticket_trace/contact'] = withPhoneOnly['values'].apply(lambda x: '-'.join(x))\r\n",
        "\r\n",
        "contacts = workOnthis['Contacts']\r\n",
        "\r\n",
        "withPhoneOnly['ticket_trace/contact'] = withPhoneOnly['ticket_trace/contact'] + ', ' + contacts.apply(lambda x:str(x)).values\r\n",
        "\r\n",
        "withPhoneOnly"
      ],
      "execution_count": null,
      "outputs": [
        {
          "output_type": "execute_result",
          "data": {
            "text/html": [
              "<div>\n",
              "<style scoped>\n",
              "    .dataframe tbody tr th:only-of-type {\n",
              "        vertical-align: middle;\n",
              "    }\n",
              "\n",
              "    .dataframe tbody tr th {\n",
              "        vertical-align: top;\n",
              "    }\n",
              "\n",
              "    .dataframe thead th {\n",
              "        text-align: right;\n",
              "    }\n",
              "</style>\n",
              "<table border=\"1\" class=\"dataframe\">\n",
              "  <thead>\n",
              "    <tr style=\"text-align: right;\">\n",
              "      <th></th>\n",
              "      <th>Id</th>\n",
              "      <th>values</th>\n",
              "      <th>ticket_trace/contact</th>\n",
              "    </tr>\n",
              "  </thead>\n",
              "  <tbody>\n",
              "    <tr>\n",
              "      <th>29136</th>\n",
              "      <td>2</td>\n",
              "      <td>[2]</td>\n",
              "      <td>2, 0</td>\n",
              "    </tr>\n",
              "    <tr>\n",
              "      <th>71693</th>\n",
              "      <td>5</td>\n",
              "      <td>[5, 50]</td>\n",
              "      <td>5-50, 0</td>\n",
              "    </tr>\n",
              "    <tr>\n",
              "      <th>68200</th>\n",
              "      <td>8</td>\n",
              "      <td>[8, 183160]</td>\n",
              "      <td>8-183160, 2</td>\n",
              "    </tr>\n",
              "    <tr>\n",
              "      <th>73270</th>\n",
              "      <td>10</td>\n",
              "      <td>[10, 93270]</td>\n",
              "      <td>10-93270, 3</td>\n",
              "    </tr>\n",
              "    <tr>\n",
              "      <th>22302</th>\n",
              "      <td>14</td>\n",
              "      <td>[14, 323910]</td>\n",
              "      <td>14-323910, 4</td>\n",
              "    </tr>\n",
              "    <tr>\n",
              "      <th>...</th>\n",
              "      <td>...</td>\n",
              "      <td>...</td>\n",
              "      <td>...</td>\n",
              "    </tr>\n",
              "    <tr>\n",
              "      <th>55278</th>\n",
              "      <td>499966</td>\n",
              "      <td>[376833, 499966]</td>\n",
              "      <td>376833-499966, 1</td>\n",
              "    </tr>\n",
              "    <tr>\n",
              "      <th>21605</th>\n",
              "      <td>499967</td>\n",
              "      <td>[309316, 499967]</td>\n",
              "      <td>309316-499967, 0</td>\n",
              "    </tr>\n",
              "    <tr>\n",
              "      <th>1506</th>\n",
              "      <td>499977</td>\n",
              "      <td>[376850, 499977]</td>\n",
              "      <td>376850-499977, 3</td>\n",
              "    </tr>\n",
              "    <tr>\n",
              "      <th>23798</th>\n",
              "      <td>499979</td>\n",
              "      <td>[499979]</td>\n",
              "      <td>499979, 2</td>\n",
              "    </tr>\n",
              "    <tr>\n",
              "      <th>24465</th>\n",
              "      <td>499986</td>\n",
              "      <td>[201867, 499986]</td>\n",
              "      <td>201867-499986, 1</td>\n",
              "    </tr>\n",
              "  </tbody>\n",
              "</table>\n",
              "<p>78630 rows × 3 columns</p>\n",
              "</div>"
            ],
            "text/plain": [
              "           Id            values ticket_trace/contact\n",
              "29136       2               [2]                 2, 0\n",
              "71693       5           [5, 50]              5-50, 0\n",
              "68200       8       [8, 183160]          8-183160, 2\n",
              "73270      10       [10, 93270]          10-93270, 3\n",
              "22302      14      [14, 323910]         14-323910, 4\n",
              "...       ...               ...                  ...\n",
              "55278  499966  [376833, 499966]     376833-499966, 1\n",
              "21605  499967  [309316, 499967]     309316-499967, 0\n",
              "1506   499977  [376850, 499977]     376850-499977, 3\n",
              "23798  499979          [499979]            499979, 2\n",
              "24465  499986  [201867, 499986]     201867-499986, 1\n",
              "\n",
              "[78630 rows x 3 columns]"
            ]
          },
          "metadata": {
            "tags": []
          },
          "execution_count": 47
        }
      ]
    },
    {
      "cell_type": "code",
      "metadata": {
        "id": "J4jhRFmy3dny"
      },
      "source": [
        "result = pd.concat([withEmailOnly[['Id', 'ticket_trace/contact']], withPhoneOnly[['Id', 'ticket_trace/contact']], noOthers])"
      ],
      "execution_count": null,
      "outputs": []
    },
    {
      "cell_type": "code",
      "metadata": {
        "colab": {
          "base_uri": "https://localhost:8080/"
        },
        "id": "8WZ1g3eG45go",
        "outputId": "979bd4b4-73e3-4e5a-a80a-7bef0deaeaa7"
      },
      "source": [
        "len(df) - len(result)"
      ],
      "execution_count": null,
      "outputs": [
        {
          "output_type": "execute_result",
          "data": {
            "text/plain": [
              "48287"
            ]
          },
          "metadata": {
            "tags": []
          },
          "execution_count": 49
        }
      ]
    },
    {
      "cell_type": "code",
      "metadata": {
        "id": "5j_xjXT-1r-8"
      },
      "source": [
        "a = np.setdiff1d(df['Id'], result['Id'])"
      ],
      "execution_count": null,
      "outputs": []
    },
    {
      "cell_type": "code",
      "metadata": {
        "id": "oouUOWcVvPA9"
      },
      "source": [
        "newDf = pd.DataFrame({'Id': a, 'ticket_trace/contact': '0, 0'})"
      ],
      "execution_count": null,
      "outputs": []
    },
    {
      "cell_type": "code",
      "metadata": {
        "colab": {
          "base_uri": "https://localhost:8080/",
          "height": 424
        },
        "id": "9wJPbW_Y0nlR",
        "outputId": "b51c1b3a-1b45-459a-a8b0-1418e4b8bd0c"
      },
      "source": [
        "result = pd.concat([result, newDf])\r\n",
        "result = result.sort_values(by = ['Id'])\r\n",
        "result"
      ],
      "execution_count": null,
      "outputs": [
        {
          "output_type": "execute_result",
          "data": {
            "text/html": [
              "<div>\n",
              "<style scoped>\n",
              "    .dataframe tbody tr th:only-of-type {\n",
              "        vertical-align: middle;\n",
              "    }\n",
              "\n",
              "    .dataframe tbody tr th {\n",
              "        vertical-align: top;\n",
              "    }\n",
              "\n",
              "    .dataframe thead th {\n",
              "        text-align: right;\n",
              "    }\n",
              "</style>\n",
              "<table border=\"1\" class=\"dataframe\">\n",
              "  <thead>\n",
              "    <tr style=\"text-align: right;\">\n",
              "      <th></th>\n",
              "      <th>Id</th>\n",
              "      <th>ticket_trace/contact</th>\n",
              "    </tr>\n",
              "  </thead>\n",
              "  <tbody>\n",
              "    <tr>\n",
              "      <th>0</th>\n",
              "      <td>0</td>\n",
              "      <td>0, 1</td>\n",
              "    </tr>\n",
              "    <tr>\n",
              "      <th>0</th>\n",
              "      <td>1</td>\n",
              "      <td>0, 0</td>\n",
              "    </tr>\n",
              "    <tr>\n",
              "      <th>29136</th>\n",
              "      <td>2</td>\n",
              "      <td>2, 0</td>\n",
              "    </tr>\n",
              "    <tr>\n",
              "      <th>3</th>\n",
              "      <td>3</td>\n",
              "      <td>3, 0</td>\n",
              "    </tr>\n",
              "    <tr>\n",
              "      <th>4</th>\n",
              "      <td>4</td>\n",
              "      <td>4, 2</td>\n",
              "    </tr>\n",
              "    <tr>\n",
              "      <th>...</th>\n",
              "      <td>...</td>\n",
              "      <td>...</td>\n",
              "    </tr>\n",
              "    <tr>\n",
              "      <th>499995</th>\n",
              "      <td>499995</td>\n",
              "      <td>499995, 2</td>\n",
              "    </tr>\n",
              "    <tr>\n",
              "      <th>499996</th>\n",
              "      <td>499996</td>\n",
              "      <td>499996, 4</td>\n",
              "    </tr>\n",
              "    <tr>\n",
              "      <th>499997</th>\n",
              "      <td>499997</td>\n",
              "      <td>499997, 2</td>\n",
              "    </tr>\n",
              "    <tr>\n",
              "      <th>48286</th>\n",
              "      <td>499998</td>\n",
              "      <td>0, 0</td>\n",
              "    </tr>\n",
              "    <tr>\n",
              "      <th>499999</th>\n",
              "      <td>499999</td>\n",
              "      <td>499999, 0</td>\n",
              "    </tr>\n",
              "  </tbody>\n",
              "</table>\n",
              "<p>500000 rows × 2 columns</p>\n",
              "</div>"
            ],
            "text/plain": [
              "            Id ticket_trace/contact\n",
              "0            0                 0, 1\n",
              "0            1                 0, 0\n",
              "29136        2                 2, 0\n",
              "3            3                 3, 0\n",
              "4            4                 4, 2\n",
              "...        ...                  ...\n",
              "499995  499995            499995, 2\n",
              "499996  499996            499996, 4\n",
              "499997  499997            499997, 2\n",
              "48286   499998                 0, 0\n",
              "499999  499999            499999, 0\n",
              "\n",
              "[500000 rows x 2 columns]"
            ]
          },
          "metadata": {
            "tags": []
          },
          "execution_count": 52
        }
      ]
    },
    {
      "cell_type": "code",
      "metadata": {
        "id": "sBxMrAje2V9l"
      },
      "source": [
        "result.to_csv('#1 - Team MIA - Student.csv')"
      ],
      "execution_count": null,
      "outputs": []
    },
    {
      "cell_type": "code",
      "metadata": {
        "id": "XG5pQrZF20nc"
      },
      "source": [
        ""
      ],
      "execution_count": null,
      "outputs": []
    }
  ]
}